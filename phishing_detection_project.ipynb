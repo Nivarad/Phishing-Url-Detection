{
 "cells": [
  {
   "cell_type": "markdown",
   "id": "cb0a4da9",
   "metadata": {
    "papermill": {
     "duration": 0.058966,
     "end_time": "2024-05-11T17:52:34.585801",
     "exception": false,
     "start_time": "2024-05-11T17:52:34.526835",
     "status": "completed"
    },
    "tags": []
   },
   "source": [
    "# Detection of phishing websites using ML"
   ]
  },
  {
   "cell_type": "markdown",
   "id": "5931b318",
   "metadata": {
    "papermill": {
     "duration": 0.057911,
     "end_time": "2024-05-11T17:52:34.710454",
     "exception": false,
     "start_time": "2024-05-11T17:52:34.652543",
     "status": "completed"
    },
    "tags": []
   },
   "source": [
    "## 1.Introduction to Notebook\n",
    "\n",
    "This notebook was created as a part of a workshop in computational learning ,  a course me and my partner were partaking in Afeka College of Engineering . \n",
    "\n",
    "The final assignment of this workshop is utilizing machine learning in a certain goal.\n",
    "\n",
    "Me, Niv Arad , and my partner, Omri Chen Yosef, were assigned to use ML in order to detect Phishing scams, as the open source dataset found on the web is not being updated fast enough and there is a need to classify benign website and spams quickly and reliably .\n",
    "\n",
    "\n"
   ]
  },
  {
   "cell_type": "markdown",
   "id": "ae988ece",
   "metadata": {
    "papermill": {
     "duration": 0.0499,
     "end_time": "2024-05-11T17:52:34.811323",
     "exception": false,
     "start_time": "2024-05-11T17:52:34.761423",
     "status": "completed"
    },
    "tags": []
   },
   "source": [
    "## 2. Objectives"
   ]
  },
  {
   "cell_type": "markdown",
   "id": "38575b0b",
   "metadata": {
    "papermill": {
     "duration": 0.052144,
     "end_time": "2024-05-11T17:52:34.913393",
     "exception": false,
     "start_time": "2024-05-11T17:52:34.861249",
     "status": "completed"
    },
    "tags": []
   },
   "source": [
    "A phishing site often employs social engineering tactics by imitating legitimate URLs and web pages. This project aims to develop machine learning and deep learning models using a specially compiled dataset for identifying phishing sites. The dataset includes both malicious phishing URLs and safe website URLs, from which necessary features based on URL and website content are derived. At the end we were trying a few different models , and compared them ."
   ]
  },
  {
   "cell_type": "markdown",
   "id": "0278f631",
   "metadata": {
    "papermill": {
     "duration": 0.05361,
     "end_time": "2024-05-11T17:52:35.020560",
     "exception": false,
     "start_time": "2024-05-11T17:52:34.966950",
     "status": "completed"
    },
    "tags": []
   },
   "source": [
    "## 3. Data collections"
   ]
  },
  {
   "cell_type": "markdown",
   "id": "6a3e11f9",
   "metadata": {
    "papermill": {
     "duration": 0.049512,
     "end_time": "2024-05-11T17:52:35.119926",
     "exception": false,
     "start_time": "2024-05-11T17:52:35.070414",
     "status": "completed"
    },
    "tags": []
   },
   "source": [
    "The first step in this project was to find datasets that can serve our model. \n",
    "\n",
    "In order to train our model we had to find to find dataset of both legitimate urls and phishing too.\n",
    "\n",
    "The dataset of phishing url can be found from the opensource service called PhishTank.This dataset is getting updated daily. To download the data: **https://www.phishtank.com/developer_info.php**\n",
    "\n",
    "For the legitimate URLs, we found a source that has a collection of benign and phishingURLs. The source of the dataset is Aalto University based in Finland, **https://research.aalto.fi/en/datasets/phishstorm-phishing-legitimate-url-dataset**. \n",
    "The following dataset has the collections mentioned above merged , so we will need to make an extra step and drop all the rows of the urls who are not benign.\n",
    "\n",
    "** We decided not to use only the dataset obtained from the aalto universitt altough has benign and phishing urls , because it's not updated regulary as the phishtank url dataset"
   ]
  },
  {
   "cell_type": "markdown",
   "id": "f664adb8",
   "metadata": {
    "papermill": {
     "duration": 0.049399,
     "end_time": "2024-05-11T17:52:35.219221",
     "exception": false,
     "start_time": "2024-05-11T17:52:35.169822",
     "status": "completed"
    },
    "tags": []
   },
   "source": [
    "## 4. Collection of URL dataset"
   ]
  },
  {
   "cell_type": "markdown",
   "id": "9961da7f",
   "metadata": {
    "papermill": {
     "duration": 0.050182,
     "end_time": "2024-05-11T17:52:35.320316",
     "exception": false,
     "start_time": "2024-05-11T17:52:35.270134",
     "status": "completed"
    },
    "tags": []
   },
   "source": [
    "### 4.1. Phishing urls dataset"
   ]
  },
  {
   "cell_type": "code",
   "execution_count": 1,
   "id": "86480606",
   "metadata": {
    "execution": {
     "iopub.execute_input": "2024-05-11T17:52:35.424410Z",
     "iopub.status.busy": "2024-05-11T17:52:35.422891Z",
     "iopub.status.idle": "2024-05-11T17:52:35.437227Z",
     "shell.execute_reply": "2024-05-11T17:52:35.436225Z"
    },
    "papermill": {
     "duration": 0.069426,
     "end_time": "2024-05-11T17:52:35.439560",
     "exception": false,
     "start_time": "2024-05-11T17:52:35.370134",
     "status": "completed"
    },
    "tags": []
   },
   "outputs": [],
   "source": [
    "import pandas as pd"
   ]
  },
  {
   "cell_type": "code",
   "execution_count": 2,
   "id": "978291b5",
   "metadata": {
    "execution": {
     "iopub.execute_input": "2024-05-11T17:52:35.545856Z",
     "iopub.status.busy": "2024-05-11T17:52:35.544655Z",
     "iopub.status.idle": "2024-05-11T17:52:35.952040Z",
     "shell.execute_reply": "2024-05-11T17:52:35.950547Z"
    },
    "papermill": {
     "duration": 0.463845,
     "end_time": "2024-05-11T17:52:35.954953",
     "exception": false,
     "start_time": "2024-05-11T17:52:35.491108",
     "status": "completed"
    },
    "tags": []
   },
   "outputs": [],
   "source": [
    "phish_data = pd.read_csv(\"/kaggle/input/websites-datasets/verified_online.csv\")"
   ]
  },
  {
   "cell_type": "code",
   "execution_count": 3,
   "id": "0e450e7f",
   "metadata": {
    "execution": {
     "iopub.execute_input": "2024-05-11T17:52:36.063325Z",
     "iopub.status.busy": "2024-05-11T17:52:36.062525Z",
     "iopub.status.idle": "2024-05-11T17:52:36.096363Z",
     "shell.execute_reply": "2024-05-11T17:52:36.095397Z"
    },
    "papermill": {
     "duration": 0.088404,
     "end_time": "2024-05-11T17:52:36.099206",
     "exception": false,
     "start_time": "2024-05-11T17:52:36.010802",
     "status": "completed"
    },
    "tags": []
   },
   "outputs": [
    {
     "data": {
      "text/html": [
       "<div>\n",
       "<style scoped>\n",
       "    .dataframe tbody tr th:only-of-type {\n",
       "        vertical-align: middle;\n",
       "    }\n",
       "\n",
       "    .dataframe tbody tr th {\n",
       "        vertical-align: top;\n",
       "    }\n",
       "\n",
       "    .dataframe thead th {\n",
       "        text-align: right;\n",
       "    }\n",
       "</style>\n",
       "<table border=\"1\" class=\"dataframe\">\n",
       "  <thead>\n",
       "    <tr style=\"text-align: right;\">\n",
       "      <th></th>\n",
       "      <th>phish_id</th>\n",
       "      <th>url</th>\n",
       "      <th>phish_detail_url</th>\n",
       "      <th>submission_time</th>\n",
       "      <th>verified</th>\n",
       "      <th>verification_time</th>\n",
       "      <th>online</th>\n",
       "      <th>target</th>\n",
       "    </tr>\n",
       "  </thead>\n",
       "  <tbody>\n",
       "    <tr>\n",
       "      <th>0</th>\n",
       "      <td>8466295</td>\n",
       "      <td>https://wealthnetfinance-mw.com/front_assets/f...</td>\n",
       "      <td>http://www.phishtank.com/phish_detail.php?phis...</td>\n",
       "      <td>2024-02-25T10:07:43+00:00</td>\n",
       "      <td>yes</td>\n",
       "      <td>2024-02-25T10:13:03+00:00</td>\n",
       "      <td>yes</td>\n",
       "      <td>Other</td>\n",
       "    </tr>\n",
       "    <tr>\n",
       "      <th>1</th>\n",
       "      <td>8466294</td>\n",
       "      <td>https://wealthnetfinance-mw.com/front_assets/f...</td>\n",
       "      <td>http://www.phishtank.com/phish_detail.php?phis...</td>\n",
       "      <td>2024-02-25T10:07:38+00:00</td>\n",
       "      <td>yes</td>\n",
       "      <td>2024-02-25T10:13:03+00:00</td>\n",
       "      <td>yes</td>\n",
       "      <td>Other</td>\n",
       "    </tr>\n",
       "    <tr>\n",
       "      <th>2</th>\n",
       "      <td>8466293</td>\n",
       "      <td>https://wealthnetfinance-mw.com/front_assets/f...</td>\n",
       "      <td>http://www.phishtank.com/phish_detail.php?phis...</td>\n",
       "      <td>2024-02-25T10:07:36+00:00</td>\n",
       "      <td>yes</td>\n",
       "      <td>2024-02-25T10:13:03+00:00</td>\n",
       "      <td>yes</td>\n",
       "      <td>Other</td>\n",
       "    </tr>\n",
       "    <tr>\n",
       "      <th>3</th>\n",
       "      <td>8466291</td>\n",
       "      <td>https://wealthnetfinance-mw.com/front_assets/f...</td>\n",
       "      <td>http://www.phishtank.com/phish_detail.php?phis...</td>\n",
       "      <td>2024-02-25T09:38:20+00:00</td>\n",
       "      <td>yes</td>\n",
       "      <td>2024-02-25T09:41:38+00:00</td>\n",
       "      <td>yes</td>\n",
       "      <td>Other</td>\n",
       "    </tr>\n",
       "    <tr>\n",
       "      <th>4</th>\n",
       "      <td>8466290</td>\n",
       "      <td>https://www.gno-aeroza.sdssqzz.top/?index=162</td>\n",
       "      <td>http://www.phishtank.com/phish_detail.php?phis...</td>\n",
       "      <td>2024-02-25T09:13:48+00:00</td>\n",
       "      <td>yes</td>\n",
       "      <td>2024-02-25T09:22:18+00:00</td>\n",
       "      <td>yes</td>\n",
       "      <td>Other</td>\n",
       "    </tr>\n",
       "  </tbody>\n",
       "</table>\n",
       "</div>"
      ],
      "text/plain": [
       "   phish_id                                                url  \\\n",
       "0   8466295  https://wealthnetfinance-mw.com/front_assets/f...   \n",
       "1   8466294  https://wealthnetfinance-mw.com/front_assets/f...   \n",
       "2   8466293  https://wealthnetfinance-mw.com/front_assets/f...   \n",
       "3   8466291  https://wealthnetfinance-mw.com/front_assets/f...   \n",
       "4   8466290      https://www.gno-aeroza.sdssqzz.top/?index=162   \n",
       "\n",
       "                                    phish_detail_url  \\\n",
       "0  http://www.phishtank.com/phish_detail.php?phis...   \n",
       "1  http://www.phishtank.com/phish_detail.php?phis...   \n",
       "2  http://www.phishtank.com/phish_detail.php?phis...   \n",
       "3  http://www.phishtank.com/phish_detail.php?phis...   \n",
       "4  http://www.phishtank.com/phish_detail.php?phis...   \n",
       "\n",
       "             submission_time verified          verification_time online target  \n",
       "0  2024-02-25T10:07:43+00:00      yes  2024-02-25T10:13:03+00:00    yes  Other  \n",
       "1  2024-02-25T10:07:38+00:00      yes  2024-02-25T10:13:03+00:00    yes  Other  \n",
       "2  2024-02-25T10:07:36+00:00      yes  2024-02-25T10:13:03+00:00    yes  Other  \n",
       "3  2024-02-25T09:38:20+00:00      yes  2024-02-25T09:41:38+00:00    yes  Other  \n",
       "4  2024-02-25T09:13:48+00:00      yes  2024-02-25T09:22:18+00:00    yes  Other  "
      ]
     },
     "execution_count": 3,
     "metadata": {},
     "output_type": "execute_result"
    }
   ],
   "source": [
    "phish_data.head()"
   ]
  },
  {
   "cell_type": "code",
   "execution_count": 4,
   "id": "52198bf0",
   "metadata": {
    "execution": {
     "iopub.execute_input": "2024-05-11T17:52:36.203041Z",
     "iopub.status.busy": "2024-05-11T17:52:36.202023Z",
     "iopub.status.idle": "2024-05-11T17:52:36.218212Z",
     "shell.execute_reply": "2024-05-11T17:52:36.216713Z"
    },
    "papermill": {
     "duration": 0.071194,
     "end_time": "2024-05-11T17:52:36.221081",
     "exception": false,
     "start_time": "2024-05-11T17:52:36.149887",
     "status": "completed"
    },
    "tags": []
   },
   "outputs": [
    {
     "data": {
      "text/html": [
       "<div>\n",
       "<style scoped>\n",
       "    .dataframe tbody tr th:only-of-type {\n",
       "        vertical-align: middle;\n",
       "    }\n",
       "\n",
       "    .dataframe tbody tr th {\n",
       "        vertical-align: top;\n",
       "    }\n",
       "\n",
       "    .dataframe thead th {\n",
       "        text-align: right;\n",
       "    }\n",
       "</style>\n",
       "<table border=\"1\" class=\"dataframe\">\n",
       "  <thead>\n",
       "    <tr style=\"text-align: right;\">\n",
       "      <th></th>\n",
       "      <th>phish_id</th>\n",
       "      <th>url</th>\n",
       "      <th>phish_detail_url</th>\n",
       "      <th>submission_time</th>\n",
       "      <th>verified</th>\n",
       "      <th>verification_time</th>\n",
       "      <th>online</th>\n",
       "      <th>target</th>\n",
       "    </tr>\n",
       "  </thead>\n",
       "  <tbody>\n",
       "    <tr>\n",
       "      <th>48975</th>\n",
       "      <td>3573703</td>\n",
       "      <td>http://www.ezblox.site/free/jennifer111/helpdesk</td>\n",
       "      <td>http://www.phishtank.com/phish_detail.php?phis...</td>\n",
       "      <td>2015-11-03T14:41:38+00:00</td>\n",
       "      <td>yes</td>\n",
       "      <td>2016-03-15T18:51:08+00:00</td>\n",
       "      <td>yes</td>\n",
       "      <td>Other</td>\n",
       "    </tr>\n",
       "    <tr>\n",
       "      <th>48976</th>\n",
       "      <td>2042606</td>\n",
       "      <td>http://www.formbuddy.com/cgi-bin/formdisp.pl?u...</td>\n",
       "      <td>http://www.phishtank.com/phish_detail.php?phis...</td>\n",
       "      <td>2013-09-30T13:24:39+00:00</td>\n",
       "      <td>yes</td>\n",
       "      <td>2013-10-01T13:33:17+00:00</td>\n",
       "      <td>yes</td>\n",
       "      <td>Other</td>\n",
       "    </tr>\n",
       "    <tr>\n",
       "      <th>48977</th>\n",
       "      <td>1865971</td>\n",
       "      <td>http://www.formbuddy.com/cgi-bin/formdisp.pl?u...</td>\n",
       "      <td>http://www.phishtank.com/phish_detail.php?phis...</td>\n",
       "      <td>2013-05-28T15:59:31+00:00</td>\n",
       "      <td>yes</td>\n",
       "      <td>2013-05-28T22:13:12+00:00</td>\n",
       "      <td>yes</td>\n",
       "      <td>Other</td>\n",
       "    </tr>\n",
       "    <tr>\n",
       "      <th>48978</th>\n",
       "      <td>1460953</td>\n",
       "      <td>http://www.habbocreditosparati.blogspot.com/</td>\n",
       "      <td>http://www.phishtank.com/phish_detail.php?phis...</td>\n",
       "      <td>2012-06-14T15:19:26+00:00</td>\n",
       "      <td>yes</td>\n",
       "      <td>2012-06-14T15:29:11+00:00</td>\n",
       "      <td>yes</td>\n",
       "      <td>Sulake Corporation</td>\n",
       "    </tr>\n",
       "    <tr>\n",
       "      <th>48979</th>\n",
       "      <td>1123978</td>\n",
       "      <td>http://creditiperhabbogratissicuro100.blogspot...</td>\n",
       "      <td>http://www.phishtank.com/phish_detail.php?phis...</td>\n",
       "      <td>2011-02-18T10:50:32+00:00</td>\n",
       "      <td>yes</td>\n",
       "      <td>2011-02-19T00:05:43+00:00</td>\n",
       "      <td>yes</td>\n",
       "      <td>Sulake Corporation</td>\n",
       "    </tr>\n",
       "  </tbody>\n",
       "</table>\n",
       "</div>"
      ],
      "text/plain": [
       "       phish_id                                                url  \\\n",
       "48975   3573703   http://www.ezblox.site/free/jennifer111/helpdesk   \n",
       "48976   2042606  http://www.formbuddy.com/cgi-bin/formdisp.pl?u...   \n",
       "48977   1865971  http://www.formbuddy.com/cgi-bin/formdisp.pl?u...   \n",
       "48978   1460953       http://www.habbocreditosparati.blogspot.com/   \n",
       "48979   1123978  http://creditiperhabbogratissicuro100.blogspot...   \n",
       "\n",
       "                                        phish_detail_url  \\\n",
       "48975  http://www.phishtank.com/phish_detail.php?phis...   \n",
       "48976  http://www.phishtank.com/phish_detail.php?phis...   \n",
       "48977  http://www.phishtank.com/phish_detail.php?phis...   \n",
       "48978  http://www.phishtank.com/phish_detail.php?phis...   \n",
       "48979  http://www.phishtank.com/phish_detail.php?phis...   \n",
       "\n",
       "                 submission_time verified          verification_time online  \\\n",
       "48975  2015-11-03T14:41:38+00:00      yes  2016-03-15T18:51:08+00:00    yes   \n",
       "48976  2013-09-30T13:24:39+00:00      yes  2013-10-01T13:33:17+00:00    yes   \n",
       "48977  2013-05-28T15:59:31+00:00      yes  2013-05-28T22:13:12+00:00    yes   \n",
       "48978  2012-06-14T15:19:26+00:00      yes  2012-06-14T15:29:11+00:00    yes   \n",
       "48979  2011-02-18T10:50:32+00:00      yes  2011-02-19T00:05:43+00:00    yes   \n",
       "\n",
       "                   target  \n",
       "48975               Other  \n",
       "48976               Other  \n",
       "48977               Other  \n",
       "48978  Sulake Corporation  \n",
       "48979  Sulake Corporation  "
      ]
     },
     "execution_count": 4,
     "metadata": {},
     "output_type": "execute_result"
    }
   ],
   "source": [
    "phish_data.tail()"
   ]
  },
  {
   "cell_type": "code",
   "execution_count": 5,
   "id": "38d470bf",
   "metadata": {
    "execution": {
     "iopub.execute_input": "2024-05-11T17:52:36.327314Z",
     "iopub.status.busy": "2024-05-11T17:52:36.326787Z",
     "iopub.status.idle": "2024-05-11T17:52:36.334225Z",
     "shell.execute_reply": "2024-05-11T17:52:36.332976Z"
    },
    "papermill": {
     "duration": 0.064064,
     "end_time": "2024-05-11T17:52:36.336840",
     "exception": false,
     "start_time": "2024-05-11T17:52:36.272776",
     "status": "completed"
    },
    "tags": []
   },
   "outputs": [
    {
     "data": {
      "text/plain": [
       "(48980, 8)"
      ]
     },
     "execution_count": 5,
     "metadata": {},
     "output_type": "execute_result"
    }
   ],
   "source": [
    "phish_data.shape"
   ]
  },
  {
   "cell_type": "code",
   "execution_count": 6,
   "id": "44dac8cd",
   "metadata": {
    "execution": {
     "iopub.execute_input": "2024-05-11T17:52:36.441700Z",
     "iopub.status.busy": "2024-05-11T17:52:36.441177Z",
     "iopub.status.idle": "2024-05-11T17:52:36.496758Z",
     "shell.execute_reply": "2024-05-11T17:52:36.495355Z"
    },
    "papermill": {
     "duration": 0.112264,
     "end_time": "2024-05-11T17:52:36.500247",
     "exception": false,
     "start_time": "2024-05-11T17:52:36.387983",
     "status": "completed"
    },
    "tags": []
   },
   "outputs": [
    {
     "data": {
      "text/html": [
       "<div>\n",
       "<style scoped>\n",
       "    .dataframe tbody tr th:only-of-type {\n",
       "        vertical-align: middle;\n",
       "    }\n",
       "\n",
       "    .dataframe tbody tr th {\n",
       "        vertical-align: top;\n",
       "    }\n",
       "\n",
       "    .dataframe thead th {\n",
       "        text-align: right;\n",
       "    }\n",
       "</style>\n",
       "<table border=\"1\" class=\"dataframe\">\n",
       "  <thead>\n",
       "    <tr style=\"text-align: right;\">\n",
       "      <th></th>\n",
       "      <th>phish_id</th>\n",
       "      <th>url</th>\n",
       "      <th>phish_detail_url</th>\n",
       "      <th>submission_time</th>\n",
       "      <th>verified</th>\n",
       "      <th>verification_time</th>\n",
       "      <th>online</th>\n",
       "      <th>target</th>\n",
       "    </tr>\n",
       "  </thead>\n",
       "  <tbody>\n",
       "    <tr>\n",
       "      <th>0</th>\n",
       "      <td>8426246</td>\n",
       "      <td>https://w0132info.weebly.com/</td>\n",
       "      <td>http://www.phishtank.com/phish_detail.php?phis...</td>\n",
       "      <td>2024-01-24T08:37:15+00:00</td>\n",
       "      <td>yes</td>\n",
       "      <td>2024-01-24T08:53:23+00:00</td>\n",
       "      <td>yes</td>\n",
       "      <td>Other</td>\n",
       "    </tr>\n",
       "    <tr>\n",
       "      <th>1</th>\n",
       "      <td>8246492</td>\n",
       "      <td>https://bafkreib6n2ro7o4fysywfon2hrao2he4u4l2x...</td>\n",
       "      <td>http://www.phishtank.com/phish_detail.php?phis...</td>\n",
       "      <td>2023-08-01T22:15:36+00:00</td>\n",
       "      <td>yes</td>\n",
       "      <td>2023-08-01T22:22:34+00:00</td>\n",
       "      <td>yes</td>\n",
       "      <td>Other</td>\n",
       "    </tr>\n",
       "    <tr>\n",
       "      <th>2</th>\n",
       "      <td>8435560</td>\n",
       "      <td>https://usp.usspos.top/</td>\n",
       "      <td>http://www.phishtank.com/phish_detail.php?phis...</td>\n",
       "      <td>2024-01-31T01:46:10+00:00</td>\n",
       "      <td>yes</td>\n",
       "      <td>2024-01-31T01:52:35+00:00</td>\n",
       "      <td>yes</td>\n",
       "      <td>Other</td>\n",
       "    </tr>\n",
       "    <tr>\n",
       "      <th>3</th>\n",
       "      <td>8406713</td>\n",
       "      <td>https://rck.lgu.mybluehost.me/sgg/auth/g9GHv2/</td>\n",
       "      <td>http://www.phishtank.com/phish_detail.php?phis...</td>\n",
       "      <td>2023-12-29T14:49:46+00:00</td>\n",
       "      <td>yes</td>\n",
       "      <td>2023-12-29T14:53:10+00:00</td>\n",
       "      <td>yes</td>\n",
       "      <td>Other</td>\n",
       "    </tr>\n",
       "    <tr>\n",
       "      <th>4</th>\n",
       "      <td>8299347</td>\n",
       "      <td>https://pub-51cf6f6d1aa843d8b4dbade26f9dfe0b.r...</td>\n",
       "      <td>http://www.phishtank.com/phish_detail.php?phis...</td>\n",
       "      <td>2023-09-15T00:53:15+00:00</td>\n",
       "      <td>yes</td>\n",
       "      <td>2023-09-15T01:09:54+00:00</td>\n",
       "      <td>yes</td>\n",
       "      <td>Other</td>\n",
       "    </tr>\n",
       "  </tbody>\n",
       "</table>\n",
       "</div>"
      ],
      "text/plain": [
       "   phish_id                                                url  \\\n",
       "0   8426246                      https://w0132info.weebly.com/   \n",
       "1   8246492  https://bafkreib6n2ro7o4fysywfon2hrao2he4u4l2x...   \n",
       "2   8435560                            https://usp.usspos.top/   \n",
       "3   8406713     https://rck.lgu.mybluehost.me/sgg/auth/g9GHv2/   \n",
       "4   8299347  https://pub-51cf6f6d1aa843d8b4dbade26f9dfe0b.r...   \n",
       "\n",
       "                                    phish_detail_url  \\\n",
       "0  http://www.phishtank.com/phish_detail.php?phis...   \n",
       "1  http://www.phishtank.com/phish_detail.php?phis...   \n",
       "2  http://www.phishtank.com/phish_detail.php?phis...   \n",
       "3  http://www.phishtank.com/phish_detail.php?phis...   \n",
       "4  http://www.phishtank.com/phish_detail.php?phis...   \n",
       "\n",
       "             submission_time verified          verification_time online target  \n",
       "0  2024-01-24T08:37:15+00:00      yes  2024-01-24T08:53:23+00:00    yes  Other  \n",
       "1  2023-08-01T22:15:36+00:00      yes  2023-08-01T22:22:34+00:00    yes  Other  \n",
       "2  2024-01-31T01:46:10+00:00      yes  2024-01-31T01:52:35+00:00    yes  Other  \n",
       "3  2023-12-29T14:49:46+00:00      yes  2023-12-29T14:53:10+00:00    yes  Other  \n",
       "4  2023-09-15T00:53:15+00:00      yes  2023-09-15T01:09:54+00:00    yes  Other  "
      ]
     },
     "execution_count": 6,
     "metadata": {},
     "output_type": "execute_result"
    }
   ],
   "source": [
    "#Collecting 1000 Phishing URLs randomly\n",
    "phish_url = phish_data.sample(n = 40000, random_state = 12).copy()\n",
    "phish_url = phish_url.reset_index(drop=True)\n",
    "phish_url.head()"
   ]
  },
  {
   "cell_type": "code",
   "execution_count": 7,
   "id": "a8582d11",
   "metadata": {
    "execution": {
     "iopub.execute_input": "2024-05-11T17:52:36.606891Z",
     "iopub.status.busy": "2024-05-11T17:52:36.606399Z",
     "iopub.status.idle": "2024-05-11T17:52:36.613754Z",
     "shell.execute_reply": "2024-05-11T17:52:36.612539Z"
    },
    "papermill": {
     "duration": 0.064147,
     "end_time": "2024-05-11T17:52:36.616180",
     "exception": false,
     "start_time": "2024-05-11T17:52:36.552033",
     "status": "completed"
    },
    "tags": []
   },
   "outputs": [
    {
     "data": {
      "text/plain": [
       "(40000, 8)"
      ]
     },
     "execution_count": 7,
     "metadata": {},
     "output_type": "execute_result"
    }
   ],
   "source": [
    "phish_url.shape"
   ]
  },
  {
   "cell_type": "markdown",
   "id": "45a20414",
   "metadata": {
    "papermill": {
     "duration": 0.05186,
     "end_time": "2024-05-11T17:52:36.720105",
     "exception": false,
     "start_time": "2024-05-11T17:52:36.668245",
     "status": "completed"
    },
    "tags": []
   },
   "source": [
    "### 3.2. Legitimate urls dataset\n",
    "\n",
    "\n",
    "we are loading only the first column because there is a problem loading all the file"
   ]
  },
  {
   "cell_type": "code",
   "execution_count": 8,
   "id": "b85407c9",
   "metadata": {
    "execution": {
     "iopub.execute_input": "2024-05-11T17:52:36.825896Z",
     "iopub.status.busy": "2024-05-11T17:52:36.825444Z",
     "iopub.status.idle": "2024-05-11T17:52:37.213346Z",
     "shell.execute_reply": "2024-05-11T17:52:37.212243Z"
    },
    "papermill": {
     "duration": 0.444174,
     "end_time": "2024-05-11T17:52:37.216249",
     "exception": false,
     "start_time": "2024-05-11T17:52:36.772075",
     "status": "completed"
    },
    "tags": []
   },
   "outputs": [],
   "source": [
    "legit_data = pd.read_csv(\"/kaggle/input/websites-datasets/urlset.csv\", encoding=\"ISO-8859-1\", usecols=[0])"
   ]
  },
  {
   "cell_type": "code",
   "execution_count": 9,
   "id": "e4dbe38c",
   "metadata": {
    "execution": {
     "iopub.execute_input": "2024-05-11T17:52:37.322929Z",
     "iopub.status.busy": "2024-05-11T17:52:37.321880Z",
     "iopub.status.idle": "2024-05-11T17:52:37.333510Z",
     "shell.execute_reply": "2024-05-11T17:52:37.332304Z"
    },
    "papermill": {
     "duration": 0.068359,
     "end_time": "2024-05-11T17:52:37.336329",
     "exception": false,
     "start_time": "2024-05-11T17:52:37.267970",
     "status": "completed"
    },
    "tags": []
   },
   "outputs": [
    {
     "data": {
      "text/html": [
       "<div>\n",
       "<style scoped>\n",
       "    .dataframe tbody tr th:only-of-type {\n",
       "        vertical-align: middle;\n",
       "    }\n",
       "\n",
       "    .dataframe tbody tr th {\n",
       "        vertical-align: top;\n",
       "    }\n",
       "\n",
       "    .dataframe thead th {\n",
       "        text-align: right;\n",
       "    }\n",
       "</style>\n",
       "<table border=\"1\" class=\"dataframe\">\n",
       "  <thead>\n",
       "    <tr style=\"text-align: right;\">\n",
       "      <th></th>\n",
       "      <th>domain</th>\n",
       "    </tr>\n",
       "  </thead>\n",
       "  <tbody>\n",
       "    <tr>\n",
       "      <th>0</th>\n",
       "      <td>nobell.it/70ffb52d079109dca5664cce6f317373782/...</td>\n",
       "    </tr>\n",
       "    <tr>\n",
       "      <th>1</th>\n",
       "      <td>www.dghjdgf.com/paypal.co.uk/cycgi-bin/webscrc...</td>\n",
       "    </tr>\n",
       "    <tr>\n",
       "      <th>2</th>\n",
       "      <td>serviciosbys.com/paypal.cgi.bin.get-into.herf....</td>\n",
       "    </tr>\n",
       "    <tr>\n",
       "      <th>3</th>\n",
       "      <td>mail.printakid.com/www.online.americanexpress....</td>\n",
       "    </tr>\n",
       "    <tr>\n",
       "      <th>4</th>\n",
       "      <td>thewhiskeydregs.com/wp-content/themes/widescre...</td>\n",
       "    </tr>\n",
       "  </tbody>\n",
       "</table>\n",
       "</div>"
      ],
      "text/plain": [
       "                                              domain\n",
       "0  nobell.it/70ffb52d079109dca5664cce6f317373782/...\n",
       "1  www.dghjdgf.com/paypal.co.uk/cycgi-bin/webscrc...\n",
       "2  serviciosbys.com/paypal.cgi.bin.get-into.herf....\n",
       "3  mail.printakid.com/www.online.americanexpress....\n",
       "4  thewhiskeydregs.com/wp-content/themes/widescre..."
      ]
     },
     "execution_count": 9,
     "metadata": {},
     "output_type": "execute_result"
    }
   ],
   "source": [
    "legit_data.head()"
   ]
  },
  {
   "cell_type": "code",
   "execution_count": 10,
   "id": "97778f98",
   "metadata": {
    "execution": {
     "iopub.execute_input": "2024-05-11T17:52:37.445073Z",
     "iopub.status.busy": "2024-05-11T17:52:37.444677Z",
     "iopub.status.idle": "2024-05-11T17:52:37.452228Z",
     "shell.execute_reply": "2024-05-11T17:52:37.450821Z"
    },
    "papermill": {
     "duration": 0.065042,
     "end_time": "2024-05-11T17:52:37.455059",
     "exception": false,
     "start_time": "2024-05-11T17:52:37.390017",
     "status": "completed"
    },
    "tags": []
   },
   "outputs": [
    {
     "data": {
      "text/plain": [
       "(96007, 1)"
      ]
     },
     "execution_count": 10,
     "metadata": {},
     "output_type": "execute_result"
    }
   ],
   "source": [
    "legit_data.shape"
   ]
  },
  {
   "cell_type": "code",
   "execution_count": 11,
   "id": "6fa4c8b8",
   "metadata": {
    "execution": {
     "iopub.execute_input": "2024-05-11T17:52:37.563215Z",
     "iopub.status.busy": "2024-05-11T17:52:37.562758Z",
     "iopub.status.idle": "2024-05-11T17:52:37.584107Z",
     "shell.execute_reply": "2024-05-11T17:52:37.582680Z"
    },
    "papermill": {
     "duration": 0.077966,
     "end_time": "2024-05-11T17:52:37.586959",
     "exception": false,
     "start_time": "2024-05-11T17:52:37.508993",
     "status": "completed"
    },
    "tags": []
   },
   "outputs": [
    {
     "data": {
      "text/html": [
       "<div>\n",
       "<style scoped>\n",
       "    .dataframe tbody tr th:only-of-type {\n",
       "        vertical-align: middle;\n",
       "    }\n",
       "\n",
       "    .dataframe tbody tr th {\n",
       "        vertical-align: top;\n",
       "    }\n",
       "\n",
       "    .dataframe thead th {\n",
       "        text-align: right;\n",
       "    }\n",
       "</style>\n",
       "<table border=\"1\" class=\"dataframe\">\n",
       "  <thead>\n",
       "    <tr style=\"text-align: right;\">\n",
       "      <th></th>\n",
       "      <th>domain</th>\n",
       "    </tr>\n",
       "  </thead>\n",
       "  <tbody>\n",
       "    <tr>\n",
       "      <th>0</th>\n",
       "      <td>pdhooper.com/images/stories/information.html.html</td>\n",
       "    </tr>\n",
       "    <tr>\n",
       "      <th>1</th>\n",
       "      <td>us.battleantv.tk/login.asp</td>\n",
       "    </tr>\n",
       "    <tr>\n",
       "      <th>2</th>\n",
       "      <td>www.zealsoftstudio.com/ntport/</td>\n",
       "    </tr>\n",
       "    <tr>\n",
       "      <th>3</th>\n",
       "      <td>pastehtml.com/view/bf10ujbr2.html</td>\n",
       "    </tr>\n",
       "    <tr>\n",
       "      <th>4</th>\n",
       "      <td>www.cs.bris.ac.uk/~flach/SimplyLogical.html</td>\n",
       "    </tr>\n",
       "  </tbody>\n",
       "</table>\n",
       "</div>"
      ],
      "text/plain": [
       "                                              domain\n",
       "0  pdhooper.com/images/stories/information.html.html\n",
       "1                         us.battleantv.tk/login.asp\n",
       "2                     www.zealsoftstudio.com/ntport/\n",
       "3                  pastehtml.com/view/bf10ujbr2.html\n",
       "4        www.cs.bris.ac.uk/~flach/SimplyLogical.html"
      ]
     },
     "execution_count": 11,
     "metadata": {},
     "output_type": "execute_result"
    }
   ],
   "source": [
    "#Collecting 1000 Legitimate URLs randomly\n",
    "legi_url = legit_data.sample(n = 40000, random_state = 12).copy()\n",
    "legi_url = legi_url.reset_index(drop=True)\n",
    "legi_url.head()"
   ]
  },
  {
   "cell_type": "code",
   "execution_count": 12,
   "id": "2d21b9a3",
   "metadata": {
    "execution": {
     "iopub.execute_input": "2024-05-11T17:52:37.693767Z",
     "iopub.status.busy": "2024-05-11T17:52:37.693359Z",
     "iopub.status.idle": "2024-05-11T17:52:37.700009Z",
     "shell.execute_reply": "2024-05-11T17:52:37.698791Z"
    },
    "papermill": {
     "duration": 0.063213,
     "end_time": "2024-05-11T17:52:37.702533",
     "exception": false,
     "start_time": "2024-05-11T17:52:37.639320",
     "status": "completed"
    },
    "tags": []
   },
   "outputs": [
    {
     "data": {
      "text/plain": [
       "(40000, 1)"
      ]
     },
     "execution_count": 12,
     "metadata": {},
     "output_type": "execute_result"
    }
   ],
   "source": [
    "legi_url.shape"
   ]
  },
  {
   "cell_type": "markdown",
   "id": "4f8696ca",
   "metadata": {
    "papermill": {
     "duration": 0.054446,
     "end_time": "2024-05-11T17:52:37.809799",
     "exception": false,
     "start_time": "2024-05-11T17:52:37.755353",
     "status": "completed"
    },
    "tags": []
   },
   "source": [
    "## 5. Feature Extraction\n"
   ]
  },
  {
   "cell_type": "markdown",
   "id": "550e84ad",
   "metadata": {
    "papermill": {
     "duration": 0.051848,
     "end_time": "2024-05-11T17:52:37.914519",
     "exception": false,
     "start_time": "2024-05-11T17:52:37.862671",
     "status": "completed"
    },
    "tags": []
   },
   "source": [
    "### 5.1. URL-based features"
   ]
  },
  {
   "cell_type": "markdown",
   "id": "8dc6451f",
   "metadata": {
    "papermill": {
     "duration": 0.056656,
     "end_time": "2024-05-11T17:52:38.023768",
     "exception": false,
     "start_time": "2024-05-11T17:52:37.967112",
     "status": "completed"
    },
    "tags": []
   },
   "source": [
    "These will be the features we will extract from the url , we gathered those from the artical that was presented in class, more explaination will be following for every feature\n",
    "\n",
    "- domain of url\n",
    "- IP address in URL\n",
    "- length of url\n",
    "- depth of url\n",
    "- \"http/https\" in Domain\n",
    "- Using URL Shortening Services “TinyURL”\n",
    "- Count of prefix or sufix \"-\" in Domain\n",
    "- Count of prefix or sufix \"_\" in Domain\n",
    "- Sub-domain length\n",
    "- \"client\" in string\n",
    "- \"admin\" in string\n",
    "- \"login\" in string\n",
    "- \"server\" in string"
   ]
  },
  {
   "cell_type": "code",
   "execution_count": 13,
   "id": "a9e80644",
   "metadata": {
    "execution": {
     "iopub.execute_input": "2024-05-11T17:52:38.130134Z",
     "iopub.status.busy": "2024-05-11T17:52:38.129743Z",
     "iopub.status.idle": "2024-05-11T17:52:38.135176Z",
     "shell.execute_reply": "2024-05-11T17:52:38.133932Z"
    },
    "papermill": {
     "duration": 0.061481,
     "end_time": "2024-05-11T17:52:38.137553",
     "exception": false,
     "start_time": "2024-05-11T17:52:38.076072",
     "status": "completed"
    },
    "tags": []
   },
   "outputs": [],
   "source": [
    "# importing required packages for this section\n",
    "from urllib.parse import urlparse,urlencode\n",
    "import ipaddress\n",
    "import re"
   ]
  },
  {
   "cell_type": "markdown",
   "id": "35a4728e",
   "metadata": {
    "papermill": {
     "duration": 0.051918,
     "end_time": "2024-05-11T17:52:38.241737",
     "exception": false,
     "start_time": "2024-05-11T17:52:38.189819",
     "status": "completed"
    },
    "tags": []
   },
   "source": [
    "#### 5.1.1. Domain of url"
   ]
  },
  {
   "cell_type": "markdown",
   "id": "6c749cb9",
   "metadata": {
    "papermill": {
     "duration": 0.052215,
     "end_time": "2024-05-11T17:52:38.347170",
     "exception": false,
     "start_time": "2024-05-11T17:52:38.294955",
     "status": "completed"
    },
    "tags": []
   },
   "source": [
    "We are just extracting the domain present in the URL. This feature doesn't have much significance in the training , because we the domain name alone can't give any indication of the type of website it is."
   ]
  },
  {
   "cell_type": "code",
   "execution_count": 14,
   "id": "ac7de89c",
   "metadata": {
    "execution": {
     "iopub.execute_input": "2024-05-11T17:52:38.558839Z",
     "iopub.status.busy": "2024-05-11T17:52:38.558387Z",
     "iopub.status.idle": "2024-05-11T17:52:38.563961Z",
     "shell.execute_reply": "2024-05-11T17:52:38.563064Z"
    },
    "papermill": {
     "duration": 0.165625,
     "end_time": "2024-05-11T17:52:38.566243",
     "exception": false,
     "start_time": "2024-05-11T17:52:38.400618",
     "status": "completed"
    },
    "tags": []
   },
   "outputs": [],
   "source": [
    "def getDomain(url):\n",
    "    domain = urlparse(url).netloc\n",
    "    if re.match(r\"^www.\",domain):\n",
    "        domain = domain.replace(\"www.\",\"\")\n",
    "    return domain"
   ]
  },
  {
   "cell_type": "markdown",
   "id": "057c50b7",
   "metadata": {
    "papermill": {
     "duration": 0.054774,
     "end_time": "2024-05-11T17:52:38.675696",
     "exception": false,
     "start_time": "2024-05-11T17:52:38.620922",
     "status": "completed"
    },
    "tags": []
   },
   "source": [
    "#### 5.1.2. Length of URL"
   ]
  },
  {
   "cell_type": "markdown",
   "id": "d0703c88",
   "metadata": {
    "papermill": {
     "duration": 0.053974,
     "end_time": "2024-05-11T17:52:38.784284",
     "exception": false,
     "start_time": "2024-05-11T17:52:38.730310",
     "status": "completed"
    },
    "tags": []
   },
   "source": [
    "Phishing URLs may have excessively long domains or domain strings that appear unusual or unrelated to the legitimate domain.Longer domain names indicates phishing scams."
   ]
  },
  {
   "cell_type": "code",
   "execution_count": 15,
   "id": "2d0ed070",
   "metadata": {
    "execution": {
     "iopub.execute_input": "2024-05-11T17:52:38.898884Z",
     "iopub.status.busy": "2024-05-11T17:52:38.898482Z",
     "iopub.status.idle": "2024-05-11T17:52:38.903656Z",
     "shell.execute_reply": "2024-05-11T17:52:38.902172Z"
    },
    "papermill": {
     "duration": 0.065141,
     "end_time": "2024-05-11T17:52:38.906427",
     "exception": false,
     "start_time": "2024-05-11T17:52:38.841286",
     "status": "completed"
    },
    "tags": []
   },
   "outputs": [],
   "source": [
    "def lengthURL(url):\n",
    "    return len(url)"
   ]
  },
  {
   "cell_type": "markdown",
   "id": "dbff616b",
   "metadata": {
    "papermill": {
     "duration": 0.058854,
     "end_time": "2024-05-11T17:52:39.022313",
     "exception": false,
     "start_time": "2024-05-11T17:52:38.963459",
     "status": "completed"
    },
    "tags": []
   },
   "source": [
    "#### 5.1.3. Depth of URL"
   ]
  },
  {
   "cell_type": "markdown",
   "id": "347a8990",
   "metadata": {
    "papermill": {
     "duration": 0.054755,
     "end_time": "2024-05-11T17:52:39.131154",
     "exception": false,
     "start_time": "2024-05-11T17:52:39.076399",
     "status": "completed"
    },
    "tags": []
   },
   "source": [
    "Computes the depth of the URL. This feature calculates the number of sub pages in the given url based on the '/'.\n",
    "\n",
    "The value of feature is a numerical based on the URL."
   ]
  },
  {
   "cell_type": "code",
   "execution_count": 16,
   "id": "e08a5556",
   "metadata": {
    "execution": {
     "iopub.execute_input": "2024-05-11T17:52:39.243620Z",
     "iopub.status.busy": "2024-05-11T17:52:39.243116Z",
     "iopub.status.idle": "2024-05-11T17:52:39.250779Z",
     "shell.execute_reply": "2024-05-11T17:52:39.249152Z"
    },
    "papermill": {
     "duration": 0.067616,
     "end_time": "2024-05-11T17:52:39.253616",
     "exception": false,
     "start_time": "2024-05-11T17:52:39.186000",
     "status": "completed"
    },
    "tags": []
   },
   "outputs": [],
   "source": [
    "def depthURL(url):\n",
    "    s = urlparse(url).path.split('/')\n",
    "    depth = 0\n",
    "    for j in range(len(s)):\n",
    "        if len(s[j])!=0:\n",
    "            depth = depth+1\n",
    "    return depth"
   ]
  },
  {
   "cell_type": "markdown",
   "id": "7aea5e13",
   "metadata": {
    "papermill": {
     "duration": 0.054719,
     "end_time": "2024-05-11T17:52:39.364434",
     "exception": false,
     "start_time": "2024-05-11T17:52:39.309715",
     "status": "completed"
    },
    "tags": []
   },
   "source": [
    "#### 5.1.4. \"http/https\" in Domain name"
   ]
  },
  {
   "cell_type": "markdown",
   "id": "c1d3770a",
   "metadata": {
    "papermill": {
     "duration": 0.053257,
     "end_time": "2024-05-11T17:52:39.472334",
     "exception": false,
     "start_time": "2024-05-11T17:52:39.419077",
     "status": "completed"
    },
    "tags": []
   },
   "source": [
    "Checks for the presence of \"http/https\" in the domain part of the URL.The phishers add numerous times the \"https\" to the url in order to trick it's users and the make them feel like the website is legitimate as the https needs the ssl certificate which ensured the website owner identity."
   ]
  },
  {
   "cell_type": "code",
   "execution_count": 17,
   "id": "d2ab970d",
   "metadata": {
    "execution": {
     "iopub.execute_input": "2024-05-11T17:52:39.585389Z",
     "iopub.status.busy": "2024-05-11T17:52:39.584966Z",
     "iopub.status.idle": "2024-05-11T17:52:39.591621Z",
     "shell.execute_reply": "2024-05-11T17:52:39.590292Z"
    },
    "papermill": {
     "duration": 0.064505,
     "end_time": "2024-05-11T17:52:39.594092",
     "exception": false,
     "start_time": "2024-05-11T17:52:39.529587",
     "status": "completed"
    },
    "tags": []
   },
   "outputs": [],
   "source": [
    "def httpDomain(url):\n",
    "    if \"https\" in url:\n",
    "        return 1\n",
    "    else:\n",
    "        return 0"
   ]
  },
  {
   "cell_type": "markdown",
   "id": "619a938d",
   "metadata": {
    "papermill": {
     "duration": 0.052556,
     "end_time": "2024-05-11T17:52:39.699528",
     "exception": false,
     "start_time": "2024-05-11T17:52:39.646972",
     "status": "completed"
    },
    "tags": []
   },
   "source": [
    "#### 5.1.5. URL shortening"
   ]
  },
  {
   "cell_type": "markdown",
   "id": "5088945a",
   "metadata": {
    "papermill": {
     "duration": 0.053197,
     "end_time": "2024-05-11T17:52:39.805620",
     "exception": false,
     "start_time": "2024-05-11T17:52:39.752423",
     "status": "completed"
    },
    "tags": []
   },
   "source": [
    "URL shortening is a method on the “World Wide Web” in which a URL may be made considerably smaller in length and still lead to the required webpage. This is accomplished by means of an “HTTP Redirect” on a domain name that is short, which links to the webpage that has a long URL.\n",
    "\n",
    "If the URL is using Shortening Services, the value assigned to this feature is 1 or else 0."
   ]
  },
  {
   "cell_type": "code",
   "execution_count": 18,
   "id": "7b14bf89",
   "metadata": {
    "execution": {
     "iopub.execute_input": "2024-05-11T17:52:39.919063Z",
     "iopub.status.busy": "2024-05-11T17:52:39.918614Z",
     "iopub.status.idle": "2024-05-11T17:52:39.923802Z",
     "shell.execute_reply": "2024-05-11T17:52:39.922921Z"
    },
    "papermill": {
     "duration": 0.066851,
     "end_time": "2024-05-11T17:52:39.926495",
     "exception": false,
     "start_time": "2024-05-11T17:52:39.859644",
     "status": "completed"
    },
    "tags": []
   },
   "outputs": [],
   "source": [
    "#listing shortening services\n",
    "shortening_services = r\"bit\\.ly|goo\\.gl|shorte\\.st|go2l\\.ink|x\\.co|ow\\.ly|t\\.co|tinyurl|tr\\.im|is\\.gd|cli\\.gs|\" \\\n",
    "                      r\"yfrog\\.com|migre\\.me|ff\\.im|tiny\\.cc|url4\\.eu|twit\\.ac|su\\.pr|twurl\\.nl|snipurl\\.com|\" \\\n",
    "                      r\"short\\.to|BudURL\\.com|ping\\.fm|post\\.ly|Just\\.as|bkite\\.com|snipr\\.com|fic\\.kr|loopt\\.us|\" \\\n",
    "                      r\"doiop\\.com|short\\.ie|kl\\.am|wp\\.me|rubyurl\\.com|om\\.ly|to\\.ly|bit\\.do|t\\.co|lnkd\\.in|db\\.tt|\" \\\n",
    "                      r\"qr\\.ae|adf\\.ly|goo\\.gl|bitly\\.com|cur\\.lv|tinyurl\\.com|ow\\.ly|bit\\.ly|ity\\.im|q\\.gs|is\\.gd|\" \\\n",
    "                      r\"po\\.st|bc\\.vc|twitthis\\.com|u\\.to|j\\.mp|buzurl\\.com|cutt\\.us|u\\.bb|yourls\\.org|x\\.co|\" \\\n",
    "                      r\"prettylinkpro\\.com|scrnch\\.me|filoops\\.info|vzturl\\.com|qr\\.net|1url\\.com|tweez\\.me|v\\.gd|\" \\\n",
    "                      r\"tr\\.im|link\\.zip\\.net\""
   ]
  },
  {
   "cell_type": "code",
   "execution_count": 19,
   "id": "d8b8a64e",
   "metadata": {
    "execution": {
     "iopub.execute_input": "2024-05-11T17:52:40.040118Z",
     "iopub.status.busy": "2024-05-11T17:52:40.039696Z",
     "iopub.status.idle": "2024-05-11T17:52:40.046005Z",
     "shell.execute_reply": "2024-05-11T17:52:40.044634Z"
    },
    "papermill": {
     "duration": 0.069468,
     "end_time": "2024-05-11T17:52:40.048749",
     "exception": false,
     "start_time": "2024-05-11T17:52:39.979281",
     "status": "completed"
    },
    "tags": []
   },
   "outputs": [],
   "source": [
    "def tinyURL(url):\n",
    "    match = re.search(shortening_services,url)\n",
    "    if match:\n",
    "        return 1\n",
    "    else:\n",
    "        return 0"
   ]
  },
  {
   "cell_type": "markdown",
   "id": "0c9529c0",
   "metadata": {
    "papermill": {
     "duration": 0.052265,
     "end_time": "2024-05-11T17:52:40.154686",
     "exception": false,
     "start_time": "2024-05-11T17:52:40.102421",
     "status": "completed"
    },
    "tags": []
   },
   "source": [
    "#### 5.1.6. Preffix or Suffix \"-\" in Domain"
   ]
  },
  {
   "cell_type": "markdown",
   "id": "a86434b9",
   "metadata": {
    "papermill": {
     "duration": 0.052222,
     "end_time": "2024-05-11T17:52:40.259419",
     "exception": false,
     "start_time": "2024-05-11T17:52:40.207197",
     "status": "completed"
    },
    "tags": []
   },
   "source": [
    "Phishing websites are crafted to mislead individuals into thinking they are on official sites, often mimicking the appearance of famous brands or institutions. A frequent trick used in these malicious domains is the strategic placement of a hyphen (\"-\") to fool users.\n",
    "\n",
    "This tactic involves adding a hyphen to create a domain name that closely resembles the genuine domain it aims to mimic. For instance, instead of the authentic \"website.com,\" a phishing site might use \"web-site.com\" or \"websi-te.com.\" The goal behind using the hyphen is to take advantage of users who are not paying close attention or to capitalize on typosquatting, where users accidentally enter incorrect characters or misspell a real domain name."
   ]
  },
  {
   "cell_type": "code",
   "execution_count": 20,
   "id": "a613fa59",
   "metadata": {
    "execution": {
     "iopub.execute_input": "2024-05-11T17:52:40.367935Z",
     "iopub.status.busy": "2024-05-11T17:52:40.367487Z",
     "iopub.status.idle": "2024-05-11T17:52:40.373271Z",
     "shell.execute_reply": "2024-05-11T17:52:40.371930Z"
    },
    "papermill": {
     "duration": 0.063986,
     "end_time": "2024-05-11T17:52:40.375923",
     "exception": false,
     "start_time": "2024-05-11T17:52:40.311937",
     "status": "completed"
    },
    "tags": []
   },
   "outputs": [],
   "source": [
    "def hyphenURL(url):\n",
    "    if '-' in urlparse(url).netloc:\n",
    "        return 1\n",
    "    else:\n",
    "        return 0"
   ]
  },
  {
   "cell_type": "markdown",
   "id": "e8b93523",
   "metadata": {
    "papermill": {
     "duration": 0.054712,
     "end_time": "2024-05-11T17:52:40.490274",
     "exception": false,
     "start_time": "2024-05-11T17:52:40.435562",
     "status": "completed"
    },
    "tags": []
   },
   "source": [
    "#### 5.1.7. Length of Sub-domain"
   ]
  },
  {
   "cell_type": "markdown",
   "id": "3bf26342",
   "metadata": {
    "papermill": {
     "duration": 0.053025,
     "end_time": "2024-05-11T17:52:40.599414",
     "exception": false,
     "start_time": "2024-05-11T17:52:40.546389",
     "status": "completed"
    },
    "tags": []
   },
   "source": [
    "Phishing URLs may have excessively long subdomains or subdomain strings that appear unusual or unrelated to the legitimate domain. For example, \"login.yourbank.com.phishingsite.com.\""
   ]
  },
  {
   "cell_type": "code",
   "execution_count": 21,
   "id": "0da892f8",
   "metadata": {
    "execution": {
     "iopub.execute_input": "2024-05-11T17:52:40.706884Z",
     "iopub.status.busy": "2024-05-11T17:52:40.706497Z",
     "iopub.status.idle": "2024-05-11T17:52:40.713298Z",
     "shell.execute_reply": "2024-05-11T17:52:40.711955Z"
    },
    "papermill": {
     "duration": 0.063419,
     "end_time": "2024-05-11T17:52:40.715718",
     "exception": false,
     "start_time": "2024-05-11T17:52:40.652299",
     "status": "completed"
    },
    "tags": []
   },
   "outputs": [],
   "source": [
    "def subURl(url):\n",
    "    p = urlparse(url).path.split('.')\n",
    "    sub = 0\n",
    "    for j in range(len(p)):\n",
    "        if len(p[j])!=0:\n",
    "            sub = sub+1\n",
    "    return sub"
   ]
  },
  {
   "cell_type": "markdown",
   "id": "098553c3",
   "metadata": {
    "papermill": {
     "duration": 0.052974,
     "end_time": "2024-05-11T17:52:40.822127",
     "exception": false,
     "start_time": "2024-05-11T17:52:40.769153",
     "status": "completed"
    },
    "tags": []
   },
   "source": [
    "#### Keywords in URL\n",
    "\n",
    "Look for keywords in the URL that suggest fraudulent activities, such as \"login\", \"client\", \"admin\", \"server\", or \"account.\" Phishing URLs often try to deceive users into believing they are accessing sensitive pages."
   ]
  },
  {
   "cell_type": "markdown",
   "id": "965d4b9b",
   "metadata": {
    "papermill": {
     "duration": 0.054077,
     "end_time": "2024-05-11T17:52:40.929327",
     "exception": false,
     "start_time": "2024-05-11T17:52:40.875250",
     "status": "completed"
    },
    "tags": []
   },
   "source": [
    "#### 5.1.8. search for keywords in url"
   ]
  },
  {
   "cell_type": "code",
   "execution_count": 22,
   "id": "23dc55b1",
   "metadata": {
    "execution": {
     "iopub.execute_input": "2024-05-11T17:52:41.041870Z",
     "iopub.status.busy": "2024-05-11T17:52:41.041347Z",
     "iopub.status.idle": "2024-05-11T17:52:41.047847Z",
     "shell.execute_reply": "2024-05-11T17:52:41.046682Z"
    },
    "papermill": {
     "duration": 0.069081,
     "end_time": "2024-05-11T17:52:41.050751",
     "exception": false,
     "start_time": "2024-05-11T17:52:40.981670",
     "status": "completed"
    },
    "tags": []
   },
   "outputs": [],
   "source": [
    "def keyWordsURL(url):\n",
    "    keywords = [\"client\",\"login\",\"admin\",\"server\",\"account\"]\n",
    "    if any(word in url for word in keywords):\n",
    "        return 1\n",
    "    else:\n",
    "        return 0"
   ]
  },
  {
   "cell_type": "markdown",
   "id": "7366b6af",
   "metadata": {
    "papermill": {
     "duration": 0.056314,
     "end_time": "2024-05-11T17:52:41.161562",
     "exception": false,
     "start_time": "2024-05-11T17:52:41.105248",
     "status": "completed"
    },
    "tags": []
   },
   "source": [
    "### 5.2. Domain-based features"
   ]
  },
  {
   "cell_type": "markdown",
   "id": "8206b8e6",
   "metadata": {
    "papermill": {
     "duration": 0.055358,
     "end_time": "2024-05-11T17:52:41.276026",
     "exception": false,
     "start_time": "2024-05-11T17:52:41.220668",
     "status": "completed"
    },
    "tags": []
   },
   "source": [
    "- DNS record\n",
    "- Age of domain\n",
    "- End period of domain"
   ]
  },
  {
   "cell_type": "code",
   "execution_count": 23,
   "id": "9a342caf",
   "metadata": {
    "execution": {
     "iopub.execute_input": "2024-05-11T17:52:41.390237Z",
     "iopub.status.busy": "2024-05-11T17:52:41.389828Z",
     "iopub.status.idle": "2024-05-11T17:52:58.076180Z",
     "shell.execute_reply": "2024-05-11T17:52:58.074919Z"
    },
    "papermill": {
     "duration": 16.747457,
     "end_time": "2024-05-11T17:52:58.079370",
     "exception": false,
     "start_time": "2024-05-11T17:52:41.331913",
     "status": "completed"
    },
    "tags": []
   },
   "outputs": [
    {
     "name": "stdout",
     "output_type": "stream",
     "text": [
      "Collecting python-whois\r\n",
      "  Downloading python_whois-0.9.4-py3-none-any.whl (103 kB)\r\n",
      "\u001b[2K     \u001b[90m━━━━━━━━━━━━━━━━━━━━━━━━━━━━━━━━━━━━━━━\u001b[0m \u001b[32m103.3/103.3 kB\u001b[0m \u001b[31m3.9 MB/s\u001b[0m eta \u001b[36m0:00:00\u001b[0m\r\n",
      "\u001b[?25hRequirement already satisfied: python-dateutil in /opt/conda/lib/python3.10/site-packages (from python-whois) (2.8.2)\r\n",
      "Requirement already satisfied: six>=1.5 in /opt/conda/lib/python3.10/site-packages (from python-dateutil->python-whois) (1.16.0)\r\n",
      "Installing collected packages: python-whois\r\n",
      "Successfully installed python-whois-0.9.4\r\n",
      "\u001b[33mWARNING: Running pip as the 'root' user can result in broken permissions and conflicting behaviour with the system package manager. It is recommended to use a virtual environment instead: https://pip.pypa.io/warnings/venv\u001b[0m\u001b[33m\r\n",
      "\u001b[0mNote: you may need to restart the kernel to use updated packages.\n"
     ]
    }
   ],
   "source": [
    "pip install python-whois"
   ]
  },
  {
   "cell_type": "code",
   "execution_count": 24,
   "id": "c9b2de0c",
   "metadata": {
    "execution": {
     "iopub.execute_input": "2024-05-11T17:52:58.189882Z",
     "iopub.status.busy": "2024-05-11T17:52:58.189417Z",
     "iopub.status.idle": "2024-05-11T17:52:58.463746Z",
     "shell.execute_reply": "2024-05-11T17:52:58.462166Z"
    },
    "papermill": {
     "duration": 0.333601,
     "end_time": "2024-05-11T17:52:58.466605",
     "exception": false,
     "start_time": "2024-05-11T17:52:58.133004",
     "status": "completed"
    },
    "tags": []
   },
   "outputs": [],
   "source": [
    "\n",
    "# importing required packages for this section\n",
    "import re\n",
    "from bs4 import BeautifulSoup\n",
    "import whois\n",
    "import urllib\n",
    "import urllib.request\n",
    "from datetime import datetime"
   ]
  },
  {
   "cell_type": "markdown",
   "id": "242d342c",
   "metadata": {
    "papermill": {
     "duration": 0.052722,
     "end_time": "2024-05-11T17:52:58.574386",
     "exception": false,
     "start_time": "2024-05-11T17:52:58.521664",
     "status": "completed"
    },
    "tags": []
   },
   "source": [
    "#### 4.2.1. DNS record"
   ]
  },
  {
   "cell_type": "markdown",
   "id": "26aeae76",
   "metadata": {
    "papermill": {
     "duration": 0.053897,
     "end_time": "2024-05-11T17:52:58.683219",
     "exception": false,
     "start_time": "2024-05-11T17:52:58.629322",
     "status": "completed"
    },
    "tags": []
   },
   "source": [
    "For phishing websites, either the claimed identity is not recognized by the WHOIS database or no records founded for the hostname. If the DNS record is empty or not found then, the value assigned to this feature is 1 (phishing) or else 0 (legitimate)."
   ]
  },
  {
   "cell_type": "code",
   "execution_count": 25,
   "id": "1c305fd8",
   "metadata": {
    "execution": {
     "iopub.execute_input": "2024-05-11T17:52:58.795316Z",
     "iopub.status.busy": "2024-05-11T17:52:58.793233Z",
     "iopub.status.idle": "2024-05-11T17:52:58.799099Z",
     "shell.execute_reply": "2024-05-11T17:52:58.798165Z"
    },
    "papermill": {
     "duration": 0.064262,
     "end_time": "2024-05-11T17:52:58.801345",
     "exception": false,
     "start_time": "2024-05-11T17:52:58.737083",
     "status": "completed"
    },
    "tags": []
   },
   "outputs": [],
   "source": [
    "# DNS Record availability (DNS_Record)\n",
    "# obtained in the featureExtraction function itself"
   ]
  },
  {
   "cell_type": "markdown",
   "id": "0b2650db",
   "metadata": {
    "execution": {
     "iopub.execute_input": "2023-07-05T12:53:42.666045Z",
     "iopub.status.busy": "2023-07-05T12:53:42.665758Z",
     "iopub.status.idle": "2023-07-05T12:53:42.67633Z",
     "shell.execute_reply": "2023-07-05T12:53:42.67545Z",
     "shell.execute_reply.started": "2023-07-05T12:53:42.666022Z"
    },
    "papermill": {
     "duration": 0.053004,
     "end_time": "2024-05-11T17:52:58.909417",
     "exception": false,
     "start_time": "2024-05-11T17:52:58.856413",
     "status": "completed"
    },
    "tags": []
   },
   "source": [
    "#### 4.2.2. Age of domain"
   ]
  },
  {
   "cell_type": "markdown",
   "id": "88da3dff",
   "metadata": {
    "papermill": {
     "duration": 0.058024,
     "end_time": "2024-05-11T17:52:59.020364",
     "exception": false,
     "start_time": "2024-05-11T17:52:58.962340",
     "status": "completed"
    },
    "tags": []
   },
   "source": [
    "This feature can be extracted from WHOIS database. Most phishing websites live for a short period of time. The minimum age of the legitimate domain is considered to be 12 months for this project. Age here is nothing but different between creation and expiration time.\n",
    "\n",
    "If age of domain > 12 months, the vlaue of this feature is 1 (phishing) else 0 (legitimate)."
   ]
  },
  {
   "cell_type": "code",
   "execution_count": 26,
   "id": "203b733a",
   "metadata": {
    "execution": {
     "iopub.execute_input": "2024-05-11T17:52:59.132691Z",
     "iopub.status.busy": "2024-05-11T17:52:59.131690Z",
     "iopub.status.idle": "2024-05-11T17:52:59.142102Z",
     "shell.execute_reply": "2024-05-11T17:52:59.141094Z"
    },
    "papermill": {
     "duration": 0.07079,
     "end_time": "2024-05-11T17:52:59.144543",
     "exception": false,
     "start_time": "2024-05-11T17:52:59.073753",
     "status": "completed"
    },
    "tags": []
   },
   "outputs": [],
   "source": [
    "import whois\n",
    "from datetime import datetime\n",
    "\n",
    "def domainAge(domain_name):\n",
    "    creation_date = domain_name.creation_date\n",
    "    expiration_date = domain_name.expiration_date\n",
    "    if (isinstance(creation_date,str) or isinstance(expiration_date,str)):\n",
    "        try:\n",
    "            creation_date = datetime.strptime(creation_date,'%Y-%m-%d')\n",
    "            expiration_date = datetime.strptime(expiration_date,\"%Y-%m-%d\")\n",
    "        except:\n",
    "            return 1\n",
    "    if ((expiration_date is None) or (creation_date is None)):\n",
    "        return 1\n",
    "    elif ((type(expiration_date) is list) or (type(creation_date) is list)):\n",
    "        return 1\n",
    "    else:\n",
    "        ageofdomain = abs((expiration_date - creation_date).days)\n",
    "        if ((ageofdomain/30) < 6):\n",
    "            age = 1\n",
    "        else:\n",
    "            age = 0\n",
    "    return age"
   ]
  },
  {
   "cell_type": "markdown",
   "id": "f10741fd",
   "metadata": {
    "papermill": {
     "duration": 0.053199,
     "end_time": "2024-05-11T17:52:59.251053",
     "exception": false,
     "start_time": "2024-05-11T17:52:59.197854",
     "status": "completed"
    },
    "tags": []
   },
   "source": [
    "#### 4.2.3. End period of Domain"
   ]
  },
  {
   "cell_type": "markdown",
   "id": "e0e0f8cb",
   "metadata": {
    "papermill": {
     "duration": 0.052899,
     "end_time": "2024-05-11T17:52:59.357330",
     "exception": false,
     "start_time": "2024-05-11T17:52:59.304431",
     "status": "completed"
    },
    "tags": []
   },
   "source": [
    "This feature can be extracted from WHOIS database. For this feature, the remaining domain time is calculated by finding the different between expiration time & current time. The end period considered for the legitimate domain is 6 months or less for this project.\n",
    "\n",
    "If end period of domain > 6 months, the vlaue of this feature is 1 (phishing) else 0 (legitimate)."
   ]
  },
  {
   "cell_type": "code",
   "execution_count": 27,
   "id": "80e0b833",
   "metadata": {
    "execution": {
     "iopub.execute_input": "2024-05-11T17:52:59.465888Z",
     "iopub.status.busy": "2024-05-11T17:52:59.465480Z",
     "iopub.status.idle": "2024-05-11T17:52:59.473712Z",
     "shell.execute_reply": "2024-05-11T17:52:59.472514Z"
    },
    "papermill": {
     "duration": 0.065643,
     "end_time": "2024-05-11T17:52:59.476025",
     "exception": false,
     "start_time": "2024-05-11T17:52:59.410382",
     "status": "completed"
    },
    "tags": []
   },
   "outputs": [],
   "source": [
    "def domainEnd(domain_name):\n",
    "    expiration_date = domain_name.expiration_date\n",
    "    if isinstance(expiration_date,str):\n",
    "        try:\n",
    "            expiration_date = datetime.strptime(expiration_date,\"%Y-%m-%d\")\n",
    "        except:\n",
    "            return 1\n",
    "    if (expiration_date is None):\n",
    "        return 1\n",
    "    elif (type(expiration_date) is list):\n",
    "        return 1\n",
    "    else:\n",
    "        today = datetime.now()\n",
    "        end = abs((expiration_date - today).days)\n",
    "        if ((end/30) < 6):\n",
    "            end = 0\n",
    "        else:\n",
    "            end = 1\n",
    "    return end"
   ]
  },
  {
   "cell_type": "markdown",
   "id": "2974c45a",
   "metadata": {
    "papermill": {
     "duration": 0.052866,
     "end_time": "2024-05-11T17:52:59.583244",
     "exception": false,
     "start_time": "2024-05-11T17:52:59.530378",
     "status": "completed"
    },
    "tags": []
   },
   "source": [
    "### 4.3. Content-based Features"
   ]
  },
  {
   "cell_type": "markdown",
   "id": "4fe6b3cf",
   "metadata": {
    "papermill": {
     "duration": 0.053585,
     "end_time": "2024-05-11T17:52:59.692439",
     "exception": false,
     "start_time": "2024-05-11T17:52:59.638854",
     "status": "completed"
    },
    "tags": []
   },
   "source": [
    "- IFrame redirection\n",
    "- Webiste forwarding"
   ]
  },
  {
   "cell_type": "markdown",
   "id": "944eb425",
   "metadata": {
    "papermill": {
     "duration": 0.05383,
     "end_time": "2024-05-11T17:52:59.800380",
     "exception": false,
     "start_time": "2024-05-11T17:52:59.746550",
     "status": "completed"
    },
    "tags": []
   },
   "source": [
    "#### 4.3.1. IFrame redirection"
   ]
  },
  {
   "cell_type": "markdown",
   "id": "f9f74ff8",
   "metadata": {
    "papermill": {
     "duration": 0.053414,
     "end_time": "2024-05-11T17:52:59.907829",
     "exception": false,
     "start_time": "2024-05-11T17:52:59.854415",
     "status": "completed"
    },
    "tags": []
   },
   "source": [
    "IFrame is an HTML tag used to display an additional webpage into one that is currently shown. Phishers can make use of the “iframe” tag and make it invisible i.e. without frame borders. In this regard, phishers make use of the “frameBorder” attribute which causes the browser to render a visual delineation.\n",
    "\n",
    "If the iframe is empty or repsonse is not found then, the value assigned to this feature is 1 (phishing) or else 0 (legitimate)."
   ]
  },
  {
   "cell_type": "code",
   "execution_count": 28,
   "id": "5741f20d",
   "metadata": {
    "execution": {
     "iopub.execute_input": "2024-05-11T17:53:00.025848Z",
     "iopub.status.busy": "2024-05-11T17:53:00.024978Z",
     "iopub.status.idle": "2024-05-11T17:53:00.030749Z",
     "shell.execute_reply": "2024-05-11T17:53:00.029670Z"
    },
    "papermill": {
     "duration": 0.070416,
     "end_time": "2024-05-11T17:53:00.033519",
     "exception": false,
     "start_time": "2024-05-11T17:52:59.963103",
     "status": "completed"
    },
    "tags": []
   },
   "outputs": [],
   "source": [
    "import requests\n",
    "import re"
   ]
  },
  {
   "cell_type": "code",
   "execution_count": 29,
   "id": "6be2ce1d",
   "metadata": {
    "execution": {
     "iopub.execute_input": "2024-05-11T17:53:00.150611Z",
     "iopub.status.busy": "2024-05-11T17:53:00.149848Z",
     "iopub.status.idle": "2024-05-11T17:53:00.156509Z",
     "shell.execute_reply": "2024-05-11T17:53:00.155500Z"
    },
    "papermill": {
     "duration": 0.069639,
     "end_time": "2024-05-11T17:53:00.159248",
     "exception": false,
     "start_time": "2024-05-11T17:53:00.089609",
     "status": "completed"
    },
    "tags": []
   },
   "outputs": [],
   "source": [
    "def iframe(response):\n",
    "    if response == \"\":\n",
    "        return 1\n",
    "    else:\n",
    "        if re.findall(r\"[|]\", response.text):\n",
    "            return 0\n",
    "        else:\n",
    "            return 1"
   ]
  },
  {
   "cell_type": "markdown",
   "id": "91c72014",
   "metadata": {
    "papermill": {
     "duration": 0.055256,
     "end_time": "2024-05-11T17:53:00.270306",
     "exception": false,
     "start_time": "2024-05-11T17:53:00.215050",
     "status": "completed"
    },
    "tags": []
   },
   "source": [
    "#### 4.3.2. Website forwarding"
   ]
  },
  {
   "cell_type": "markdown",
   "id": "2167b61c",
   "metadata": {
    "papermill": {
     "duration": 0.054453,
     "end_time": "2024-05-11T17:53:00.380222",
     "exception": false,
     "start_time": "2024-05-11T17:53:00.325769",
     "status": "completed"
    },
    "tags": []
   },
   "source": [
    "The fine line that distinguishes phishing websites from legitimate ones is how many times a website has been redirected. In our dataset, we find that legitimate websites have been redirected one time max. On the other hand, phishing websites containing this feature have been redirected at least 4 times."
   ]
  },
  {
   "cell_type": "code",
   "execution_count": 30,
   "id": "b1312ff8",
   "metadata": {
    "execution": {
     "iopub.execute_input": "2024-05-11T17:53:00.493675Z",
     "iopub.status.busy": "2024-05-11T17:53:00.493153Z",
     "iopub.status.idle": "2024-05-11T17:53:00.499742Z",
     "shell.execute_reply": "2024-05-11T17:53:00.498220Z"
    },
    "papermill": {
     "duration": 0.067099,
     "end_time": "2024-05-11T17:53:00.502438",
     "exception": false,
     "start_time": "2024-05-11T17:53:00.435339",
     "status": "completed"
    },
    "tags": []
   },
   "outputs": [],
   "source": [
    "def forwarding(response):\n",
    "    if response == \"\":\n",
    "        return 1\n",
    "    else:\n",
    "        if len(response.history) <= 2:\n",
    "            return 0\n",
    "        else:\n",
    "            return 1"
   ]
  },
  {
   "cell_type": "markdown",
   "id": "89c8e654",
   "metadata": {
    "papermill": {
     "duration": 0.056733,
     "end_time": "2024-05-11T17:53:00.614951",
     "exception": false,
     "start_time": "2024-05-11T17:53:00.558218",
     "status": "completed"
    },
    "tags": []
   },
   "source": [
    "## 5. URL feature extraction"
   ]
  },
  {
   "cell_type": "markdown",
   "id": "95f56609",
   "metadata": {
    "papermill": {
     "duration": 0.055286,
     "end_time": "2024-05-11T17:53:00.725058",
     "exception": false,
     "start_time": "2024-05-11T17:53:00.669772",
     "status": "completed"
    },
    "tags": []
   },
   "source": [
    "Create a list and a function that calls the other functions and stores all the features of the URL in the list. We will extract the features of each URL and append to this list."
   ]
  },
  {
   "cell_type": "code",
   "execution_count": 31,
   "id": "bd7cd603",
   "metadata": {
    "execution": {
     "iopub.execute_input": "2024-05-11T17:53:00.840446Z",
     "iopub.status.busy": "2024-05-11T17:53:00.839298Z",
     "iopub.status.idle": "2024-05-11T17:53:00.851048Z",
     "shell.execute_reply": "2024-05-11T17:53:00.849957Z"
    },
    "papermill": {
     "duration": 0.074315,
     "end_time": "2024-05-11T17:53:00.854584",
     "exception": false,
     "start_time": "2024-05-11T17:53:00.780269",
     "status": "completed"
    },
    "tags": []
   },
   "outputs": [],
   "source": [
    "def featureExtraction(url, label):\n",
    "    features = []\n",
    "\n",
    "    #URL-based feature\n",
    "    features.append(getDomain(url))\n",
    "    features.append(lengthURL(url))\n",
    "    features.append(depthURL(url))\n",
    "    features.append(httpDomain(url))\n",
    "    features.append(tinyURL(url))\n",
    "    features.append(hyphenURL(url))\n",
    "    features.append(subURl(url))\n",
    "    features.append(keyWordsURL(url))\n",
    "    \n",
    "    \n",
    "    \n",
    "    #Domain based features\n",
    "    dns = 0\n",
    "    try:\n",
    "        domain_name = whois.whois(urlparse(url).netloc)\n",
    "    except:\n",
    "        dns = 1\n",
    "\n",
    "    features.append(dns)\n",
    "    features.append(1 if dns == 1 else domainAge(domain_name))\n",
    "    features.append(1 if dns == 1 else domainAge(domain_name))\n",
    "\n",
    "    #Content-based feature\n",
    "\n",
    "    try:\n",
    "        response = requests.get(url)\n",
    "    except:\n",
    "        response = \"\"\n",
    "    \n",
    "    features.append(iframe(response))\n",
    "    features.append(forwarding(response))\n",
    "    features.append(label)\n",
    "\n",
    "    return features\n",
    "    "
   ]
  },
  {
   "cell_type": "markdown",
   "id": "ec05832f",
   "metadata": {
    "papermill": {
     "duration": 0.056159,
     "end_time": "2024-05-11T17:53:00.967963",
     "exception": false,
     "start_time": "2024-05-11T17:53:00.911804",
     "status": "completed"
    },
    "tags": []
   },
   "source": [
    "### 5.1. Legitimate URLs:\n",
    "\n",
    "Feature extraction is done on legitimate URLs."
   ]
  },
  {
   "cell_type": "code",
   "execution_count": 32,
   "id": "ffc000f6",
   "metadata": {
    "execution": {
     "iopub.execute_input": "2024-05-11T17:53:01.082257Z",
     "iopub.status.busy": "2024-05-11T17:53:01.081370Z",
     "iopub.status.idle": "2024-05-11T17:53:01.094651Z",
     "shell.execute_reply": "2024-05-11T17:53:01.093284Z"
    },
    "papermill": {
     "duration": 0.073244,
     "end_time": "2024-05-11T17:53:01.097508",
     "exception": false,
     "start_time": "2024-05-11T17:53:01.024264",
     "status": "completed"
    },
    "tags": []
   },
   "outputs": [
    {
     "data": {
      "text/html": [
       "<div>\n",
       "<style scoped>\n",
       "    .dataframe tbody tr th:only-of-type {\n",
       "        vertical-align: middle;\n",
       "    }\n",
       "\n",
       "    .dataframe tbody tr th {\n",
       "        vertical-align: top;\n",
       "    }\n",
       "\n",
       "    .dataframe thead th {\n",
       "        text-align: right;\n",
       "    }\n",
       "</style>\n",
       "<table border=\"1\" class=\"dataframe\">\n",
       "  <thead>\n",
       "    <tr style=\"text-align: right;\">\n",
       "      <th></th>\n",
       "      <th>domain</th>\n",
       "    </tr>\n",
       "  </thead>\n",
       "  <tbody>\n",
       "    <tr>\n",
       "      <th>0</th>\n",
       "      <td>pdhooper.com/images/stories/information.html.html</td>\n",
       "    </tr>\n",
       "    <tr>\n",
       "      <th>1</th>\n",
       "      <td>us.battleantv.tk/login.asp</td>\n",
       "    </tr>\n",
       "    <tr>\n",
       "      <th>2</th>\n",
       "      <td>www.zealsoftstudio.com/ntport/</td>\n",
       "    </tr>\n",
       "    <tr>\n",
       "      <th>3</th>\n",
       "      <td>pastehtml.com/view/bf10ujbr2.html</td>\n",
       "    </tr>\n",
       "    <tr>\n",
       "      <th>4</th>\n",
       "      <td>www.cs.bris.ac.uk/~flach/SimplyLogical.html</td>\n",
       "    </tr>\n",
       "  </tbody>\n",
       "</table>\n",
       "</div>"
      ],
      "text/plain": [
       "                                              domain\n",
       "0  pdhooper.com/images/stories/information.html.html\n",
       "1                         us.battleantv.tk/login.asp\n",
       "2                     www.zealsoftstudio.com/ntport/\n",
       "3                  pastehtml.com/view/bf10ujbr2.html\n",
       "4        www.cs.bris.ac.uk/~flach/SimplyLogical.html"
      ]
     },
     "execution_count": 32,
     "metadata": {},
     "output_type": "execute_result"
    }
   ],
   "source": [
    "legi_url.head()"
   ]
  },
  {
   "cell_type": "code",
   "execution_count": 33,
   "id": "5aef6c0f",
   "metadata": {
    "execution": {
     "iopub.execute_input": "2024-05-11T17:53:01.207511Z",
     "iopub.status.busy": "2024-05-11T17:53:01.206988Z",
     "iopub.status.idle": "2024-05-11T17:53:22.619792Z",
     "shell.execute_reply": "2024-05-11T17:53:22.618603Z"
    },
    "papermill": {
     "duration": 21.470783,
     "end_time": "2024-05-11T17:53:22.622645",
     "exception": false,
     "start_time": "2024-05-11T17:53:01.151862",
     "status": "completed"
    },
    "tags": []
   },
   "outputs": [],
   "source": [
    "#Extracting the features & storing them in a list\n",
    "legi_features = []\n",
    "label = 0\n",
    "sum_parsing =0\n",
    "sum_domain = 0\n",
    "sum_content = 0\n",
    "\n",
    "for i in range(0, 40000):\n",
    "    url = legi_url[\"domain\"][i]\n",
    "    try:\n",
    "        legi_features.append(featureExtraction(url,label))\n",
    "    except:\n",
    "        print(\"there was a problem with line \",i ,\"the url is: \",url)"
   ]
  },
  {
   "cell_type": "code",
   "execution_count": 34,
   "id": "bf1ac28e",
   "metadata": {
    "execution": {
     "iopub.execute_input": "2024-05-11T17:53:22.734278Z",
     "iopub.status.busy": "2024-05-11T17:53:22.733813Z",
     "iopub.status.idle": "2024-05-11T17:53:23.011358Z",
     "shell.execute_reply": "2024-05-11T17:53:23.010268Z"
    },
    "papermill": {
     "duration": 0.338059,
     "end_time": "2024-05-11T17:53:23.014132",
     "exception": false,
     "start_time": "2024-05-11T17:53:22.676073",
     "status": "completed"
    },
    "tags": []
   },
   "outputs": [],
   "source": [
    "#Converting the list to dataframe\n",
    "feature_name = [\"domain\",\"url_len\",\"url_dep\",\"httpDomain\",\"tinyURL\",\"hyphenURL\",\n",
    "                \"subURl\",\"keyWordURL\", \"dns\",\"domainAge\",\"domainEnd\",\"iframe\",\"forwarding\",\"label\"]\n",
    "\n",
    "legitimate = pd.DataFrame(legi_features, columns=feature_name)"
   ]
  },
  {
   "cell_type": "code",
   "execution_count": 35,
   "id": "c916061d",
   "metadata": {
    "execution": {
     "iopub.execute_input": "2024-05-11T17:53:23.124174Z",
     "iopub.status.busy": "2024-05-11T17:53:23.123195Z",
     "iopub.status.idle": "2024-05-11T17:53:23.145792Z",
     "shell.execute_reply": "2024-05-11T17:53:23.144615Z"
    },
    "papermill": {
     "duration": 0.080625,
     "end_time": "2024-05-11T17:53:23.148346",
     "exception": false,
     "start_time": "2024-05-11T17:53:23.067721",
     "status": "completed"
    },
    "tags": []
   },
   "outputs": [
    {
     "data": {
      "text/html": [
       "<div>\n",
       "<style scoped>\n",
       "    .dataframe tbody tr th:only-of-type {\n",
       "        vertical-align: middle;\n",
       "    }\n",
       "\n",
       "    .dataframe tbody tr th {\n",
       "        vertical-align: top;\n",
       "    }\n",
       "\n",
       "    .dataframe thead th {\n",
       "        text-align: right;\n",
       "    }\n",
       "</style>\n",
       "<table border=\"1\" class=\"dataframe\">\n",
       "  <thead>\n",
       "    <tr style=\"text-align: right;\">\n",
       "      <th></th>\n",
       "      <th>url_len</th>\n",
       "      <th>url_dep</th>\n",
       "      <th>httpDomain</th>\n",
       "      <th>tinyURL</th>\n",
       "      <th>hyphenURL</th>\n",
       "      <th>subURl</th>\n",
       "      <th>keyWordURL</th>\n",
       "      <th>dns</th>\n",
       "      <th>domainAge</th>\n",
       "      <th>domainEnd</th>\n",
       "      <th>iframe</th>\n",
       "      <th>forwarding</th>\n",
       "      <th>label</th>\n",
       "    </tr>\n",
       "  </thead>\n",
       "  <tbody>\n",
       "    <tr>\n",
       "      <th>0</th>\n",
       "      <td>49</td>\n",
       "      <td>4</td>\n",
       "      <td>0</td>\n",
       "      <td>0</td>\n",
       "      <td>0</td>\n",
       "      <td>4</td>\n",
       "      <td>0</td>\n",
       "      <td>0</td>\n",
       "      <td>1</td>\n",
       "      <td>1</td>\n",
       "      <td>1</td>\n",
       "      <td>1</td>\n",
       "      <td>0</td>\n",
       "    </tr>\n",
       "    <tr>\n",
       "      <th>1</th>\n",
       "      <td>26</td>\n",
       "      <td>2</td>\n",
       "      <td>0</td>\n",
       "      <td>0</td>\n",
       "      <td>0</td>\n",
       "      <td>4</td>\n",
       "      <td>1</td>\n",
       "      <td>0</td>\n",
       "      <td>1</td>\n",
       "      <td>1</td>\n",
       "      <td>1</td>\n",
       "      <td>1</td>\n",
       "      <td>0</td>\n",
       "    </tr>\n",
       "    <tr>\n",
       "      <th>2</th>\n",
       "      <td>30</td>\n",
       "      <td>2</td>\n",
       "      <td>0</td>\n",
       "      <td>0</td>\n",
       "      <td>0</td>\n",
       "      <td>3</td>\n",
       "      <td>0</td>\n",
       "      <td>0</td>\n",
       "      <td>1</td>\n",
       "      <td>1</td>\n",
       "      <td>1</td>\n",
       "      <td>1</td>\n",
       "      <td>0</td>\n",
       "    </tr>\n",
       "    <tr>\n",
       "      <th>3</th>\n",
       "      <td>33</td>\n",
       "      <td>3</td>\n",
       "      <td>0</td>\n",
       "      <td>0</td>\n",
       "      <td>0</td>\n",
       "      <td>3</td>\n",
       "      <td>0</td>\n",
       "      <td>0</td>\n",
       "      <td>1</td>\n",
       "      <td>1</td>\n",
       "      <td>1</td>\n",
       "      <td>1</td>\n",
       "      <td>0</td>\n",
       "    </tr>\n",
       "    <tr>\n",
       "      <th>4</th>\n",
       "      <td>43</td>\n",
       "      <td>3</td>\n",
       "      <td>0</td>\n",
       "      <td>0</td>\n",
       "      <td>0</td>\n",
       "      <td>6</td>\n",
       "      <td>0</td>\n",
       "      <td>0</td>\n",
       "      <td>1</td>\n",
       "      <td>1</td>\n",
       "      <td>1</td>\n",
       "      <td>1</td>\n",
       "      <td>0</td>\n",
       "    </tr>\n",
       "  </tbody>\n",
       "</table>\n",
       "</div>"
      ],
      "text/plain": [
       "   url_len  url_dep  httpDomain  tinyURL  hyphenURL  subURl  keyWordURL  dns  \\\n",
       "0       49        4           0        0          0       4           0    0   \n",
       "1       26        2           0        0          0       4           1    0   \n",
       "2       30        2           0        0          0       3           0    0   \n",
       "3       33        3           0        0          0       3           0    0   \n",
       "4       43        3           0        0          0       6           0    0   \n",
       "\n",
       "   domainAge  domainEnd  iframe  forwarding  label  \n",
       "0          1          1       1           1      0  \n",
       "1          1          1       1           1      0  \n",
       "2          1          1       1           1      0  \n",
       "3          1          1       1           1      0  \n",
       "4          1          1       1           1      0  "
      ]
     },
     "execution_count": 35,
     "metadata": {},
     "output_type": "execute_result"
    }
   ],
   "source": [
    "legitimate = legitimate.drop([\"domain\"], axis=1)\n",
    "legitimate.head()"
   ]
  },
  {
   "cell_type": "code",
   "execution_count": 36,
   "id": "64046728",
   "metadata": {
    "execution": {
     "iopub.execute_input": "2024-05-11T17:53:23.257873Z",
     "iopub.status.busy": "2024-05-11T17:53:23.257330Z",
     "iopub.status.idle": "2024-05-11T17:53:23.266442Z",
     "shell.execute_reply": "2024-05-11T17:53:23.264812Z"
    },
    "papermill": {
     "duration": 0.067147,
     "end_time": "2024-05-11T17:53:23.269143",
     "exception": false,
     "start_time": "2024-05-11T17:53:23.201996",
     "status": "completed"
    },
    "tags": []
   },
   "outputs": [
    {
     "data": {
      "text/plain": [
       "(40000, 13)"
      ]
     },
     "execution_count": 36,
     "metadata": {},
     "output_type": "execute_result"
    }
   ],
   "source": [
    "legitimate.shape"
   ]
  },
  {
   "cell_type": "code",
   "execution_count": 37,
   "id": "b85faf60",
   "metadata": {
    "execution": {
     "iopub.execute_input": "2024-05-11T17:53:23.380824Z",
     "iopub.status.busy": "2024-05-11T17:53:23.379310Z",
     "iopub.status.idle": "2024-05-11T17:53:23.614349Z",
     "shell.execute_reply": "2024-05-11T17:53:23.612855Z"
    },
    "papermill": {
     "duration": 0.293994,
     "end_time": "2024-05-11T17:53:23.617605",
     "exception": false,
     "start_time": "2024-05-11T17:53:23.323611",
     "status": "completed"
    },
    "tags": []
   },
   "outputs": [],
   "source": [
    "legitimate.to_csv('/kaggle/working/legitimate.csv')"
   ]
  },
  {
   "cell_type": "markdown",
   "id": "86c9c428",
   "metadata": {
    "papermill": {
     "duration": 0.057091,
     "end_time": "2024-05-11T17:53:23.731186",
     "exception": false,
     "start_time": "2024-05-11T17:53:23.674095",
     "status": "completed"
    },
    "tags": []
   },
   "source": [
    "### 5.2. Phishing URLs:\n",
    "\n",
    "exctractig the features of the phishing urls took a lot of time, and also there are a few lines in the dataset which has a problem to be computed ,so i did this on my local machine and now i am adding the file to the datasets, its called \"phishing_finished\""
   ]
  },
  {
   "cell_type": "markdown",
   "id": "f8782d37",
   "metadata": {
    "papermill": {
     "duration": 0.056079,
     "end_time": "2024-05-11T17:53:23.844171",
     "exception": false,
     "start_time": "2024-05-11T17:53:23.788092",
     "status": "completed"
    },
    "tags": []
   },
   "source": [
    "\n",
    "\n",
    "### 5.2.1 Phishing URLs:\n",
    "If you choose to use the feature extraction in that mentioned before and it worked please continue this section:\n",
    "\n",
    "Feature extraction is done on phishing URLs.\n",
    "\n",
    "Note : We decided that on default we will use the already computed data that is stored on the file in order to save time when running this code multiple times . If you are running the code on your local computer please check that you store the file in the right path."
   ]
  },
  {
   "cell_type": "code",
   "execution_count": 38,
   "id": "349368ed",
   "metadata": {
    "execution": {
     "iopub.execute_input": "2024-05-11T17:53:23.959103Z",
     "iopub.status.busy": "2024-05-11T17:53:23.958671Z",
     "iopub.status.idle": "2024-05-11T17:53:23.963406Z",
     "shell.execute_reply": "2024-05-11T17:53:23.961973Z"
    },
    "papermill": {
     "duration": 0.064387,
     "end_time": "2024-05-11T17:53:23.965935",
     "exception": false,
     "start_time": "2024-05-11T17:53:23.901548",
     "status": "completed"
    },
    "tags": []
   },
   "outputs": [],
   "source": [
    "# phish_url.drop(phish_url.columns.difference(['url']), 1, inplace=True)\n",
    "# phish_url.head()"
   ]
  },
  {
   "cell_type": "markdown",
   "id": "c45b8f2e",
   "metadata": {
    "papermill": {
     "duration": 0.053674,
     "end_time": "2024-05-11T17:53:24.079933",
     "exception": false,
     "start_time": "2024-05-11T17:53:24.026259",
     "status": "completed"
    },
    "tags": []
   },
   "source": [
    "exctractig the features of the phishing urls took a lot of time, and also there are a few lines in the dataset which has a problem to be computed ,so i did this on my local machine and now i am adding the file to the datasets, its called \"phishing_finished\""
   ]
  },
  {
   "cell_type": "code",
   "execution_count": 39,
   "id": "2c1258ce",
   "metadata": {
    "execution": {
     "iopub.execute_input": "2024-05-11T17:53:24.190735Z",
     "iopub.status.busy": "2024-05-11T17:53:24.189294Z",
     "iopub.status.idle": "2024-05-11T17:53:24.195256Z",
     "shell.execute_reply": "2024-05-11T17:53:24.194150Z"
    },
    "papermill": {
     "duration": 0.063972,
     "end_time": "2024-05-11T17:53:24.198036",
     "exception": false,
     "start_time": "2024-05-11T17:53:24.134064",
     "status": "completed"
    },
    "tags": []
   },
   "outputs": [],
   "source": [
    "\n",
    "# # #Extracting the features & storing them in a list\n",
    "# phish_features = []\n",
    "# label = 1\n",
    "\n",
    "# sum_parsing =0\n",
    "# sum_domain = 0\n",
    "# sum_content = 0\n",
    "# for i in range(0, 40000):\n",
    "#     url = phish_url[\"url\"][i]\n",
    "#     res = featureExtraction(url,label)\n",
    "#     phish_features.append(res[0])\n",
    "\n",
    "        \n",
    "# #     # print(legi_features)\n",
    "# print(\"finished extracting features from phishing URLS\")"
   ]
  },
  {
   "cell_type": "markdown",
   "id": "61f03cfd",
   "metadata": {
    "papermill": {
     "duration": 0.055899,
     "end_time": "2024-05-11T17:53:24.310753",
     "exception": false,
     "start_time": "2024-05-11T17:53:24.254854",
     "status": "completed"
    },
    "tags": []
   },
   "source": [
    "### 5.2.1 Phishing URLs:\n",
    "If you choose to use the feature extraction in that mentioned before and it worked please continue this section:\n",
    "\n",
    "Feature extraction is done on phishing URLs."
   ]
  },
  {
   "cell_type": "code",
   "execution_count": 40,
   "id": "58cc6104",
   "metadata": {
    "execution": {
     "iopub.execute_input": "2024-05-11T17:53:24.426709Z",
     "iopub.status.busy": "2024-05-11T17:53:24.426295Z",
     "iopub.status.idle": "2024-05-11T17:53:24.430344Z",
     "shell.execute_reply": "2024-05-11T17:53:24.429554Z"
    },
    "papermill": {
     "duration": 0.067082,
     "end_time": "2024-05-11T17:53:24.432810",
     "exception": false,
     "start_time": "2024-05-11T17:53:24.365728",
     "status": "completed"
    },
    "tags": []
   },
   "outputs": [],
   "source": [
    "# phish_features= pd.read_csv('/kaggle/input/phishing-computed/final_phishing.csv')\n"
   ]
  },
  {
   "cell_type": "code",
   "execution_count": 41,
   "id": "7bcd2b75",
   "metadata": {
    "execution": {
     "iopub.execute_input": "2024-05-11T17:53:24.548202Z",
     "iopub.status.busy": "2024-05-11T17:53:24.547462Z",
     "iopub.status.idle": "2024-05-11T17:53:24.551546Z",
     "shell.execute_reply": "2024-05-11T17:53:24.550786Z"
    },
    "papermill": {
     "duration": 0.064445,
     "end_time": "2024-05-11T17:53:24.553840",
     "exception": false,
     "start_time": "2024-05-11T17:53:24.489395",
     "status": "completed"
    },
    "tags": []
   },
   "outputs": [],
   "source": [
    "# #Converting the list to dataframe\n",
    "# feature_name = [\"domain\",\"url_len\",\"url_dep\",\"httpDomain\",\"tinyURL\",\"hyphenURL\",\n",
    "#                 \"subURl\",\"keyWordURL\",\"label\"]\n",
    "\n",
    "# phishing = pd.DataFrame(phish_features, columns=feature_name)\n",
    "# phishing.head()"
   ]
  },
  {
   "cell_type": "code",
   "execution_count": 42,
   "id": "6dc5fb15",
   "metadata": {
    "execution": {
     "iopub.execute_input": "2024-05-11T17:53:24.692768Z",
     "iopub.status.busy": "2024-05-11T17:53:24.692053Z",
     "iopub.status.idle": "2024-05-11T17:53:24.696560Z",
     "shell.execute_reply": "2024-05-11T17:53:24.695653Z"
    },
    "papermill": {
     "duration": 0.07416,
     "end_time": "2024-05-11T17:53:24.699058",
     "exception": false,
     "start_time": "2024-05-11T17:53:24.624898",
     "status": "completed"
    },
    "tags": []
   },
   "outputs": [],
   "source": [
    "# phishing.tail()"
   ]
  },
  {
   "cell_type": "code",
   "execution_count": 43,
   "id": "1087b76c",
   "metadata": {
    "execution": {
     "iopub.execute_input": "2024-05-11T17:53:24.813355Z",
     "iopub.status.busy": "2024-05-11T17:53:24.812595Z",
     "iopub.status.idle": "2024-05-11T17:53:24.816684Z",
     "shell.execute_reply": "2024-05-11T17:53:24.815781Z"
    },
    "papermill": {
     "duration": 0.064446,
     "end_time": "2024-05-11T17:53:24.819182",
     "exception": false,
     "start_time": "2024-05-11T17:53:24.754736",
     "status": "completed"
    },
    "tags": []
   },
   "outputs": [],
   "source": [
    "# # phishing = phishing.drop([\"domain\"], axis=1)\n",
    "# phishing.to_csv('/kaggle/working/urldata.csv')"
   ]
  },
  {
   "cell_type": "code",
   "execution_count": 44,
   "id": "78a7f7ea",
   "metadata": {
    "execution": {
     "iopub.execute_input": "2024-05-11T17:53:24.932691Z",
     "iopub.status.busy": "2024-05-11T17:53:24.932181Z",
     "iopub.status.idle": "2024-05-11T17:53:24.937765Z",
     "shell.execute_reply": "2024-05-11T17:53:24.936325Z"
    },
    "papermill": {
     "duration": 0.065067,
     "end_time": "2024-05-11T17:53:24.940352",
     "exception": false,
     "start_time": "2024-05-11T17:53:24.875285",
     "status": "completed"
    },
    "tags": []
   },
   "outputs": [],
   "source": [
    "# phishing.shape"
   ]
  },
  {
   "cell_type": "markdown",
   "id": "3e7164da",
   "metadata": {
    "papermill": {
     "duration": 0.065277,
     "end_time": "2024-05-11T17:53:25.069403",
     "exception": false,
     "start_time": "2024-05-11T17:53:25.004126",
     "status": "completed"
    },
    "tags": []
   },
   "source": [
    "### 5.2.2 Phishing URLs:\n",
    "If you chose not to use the feature extraction mentioned above or it not worked and got stuck  , you will need to load the data from the file we customly made in our local machine\n",
    "\n"
   ]
  },
  {
   "cell_type": "code",
   "execution_count": 45,
   "id": "98a2056e",
   "metadata": {
    "execution": {
     "iopub.execute_input": "2024-05-11T17:53:25.300816Z",
     "iopub.status.busy": "2024-05-11T17:53:25.299884Z",
     "iopub.status.idle": "2024-05-11T17:53:25.316720Z",
     "shell.execute_reply": "2024-05-11T17:53:25.315638Z"
    },
    "papermill": {
     "duration": 0.194226,
     "end_time": "2024-05-11T17:53:25.319901",
     "exception": false,
     "start_time": "2024-05-11T17:53:25.125675",
     "status": "completed"
    },
    "tags": []
   },
   "outputs": [],
   "source": [
    "phishing = pd.read_csv(\"/kaggle/input/phishing-computed/final_phishing.csv\")"
   ]
  },
  {
   "cell_type": "code",
   "execution_count": 46,
   "id": "eb8a3caf",
   "metadata": {
    "execution": {
     "iopub.execute_input": "2024-05-11T17:53:25.442537Z",
     "iopub.status.busy": "2024-05-11T17:53:25.441453Z",
     "iopub.status.idle": "2024-05-11T17:53:25.460938Z",
     "shell.execute_reply": "2024-05-11T17:53:25.459741Z"
    },
    "papermill": {
     "duration": 0.084743,
     "end_time": "2024-05-11T17:53:25.463578",
     "exception": false,
     "start_time": "2024-05-11T17:53:25.378835",
     "status": "completed"
    },
    "tags": []
   },
   "outputs": [
    {
     "data": {
      "text/html": [
       "<div>\n",
       "<style scoped>\n",
       "    .dataframe tbody tr th:only-of-type {\n",
       "        vertical-align: middle;\n",
       "    }\n",
       "\n",
       "    .dataframe tbody tr th {\n",
       "        vertical-align: top;\n",
       "    }\n",
       "\n",
       "    .dataframe thead th {\n",
       "        text-align: right;\n",
       "    }\n",
       "</style>\n",
       "<table border=\"1\" class=\"dataframe\">\n",
       "  <thead>\n",
       "    <tr style=\"text-align: right;\">\n",
       "      <th></th>\n",
       "      <th>url_len</th>\n",
       "      <th>url_dep</th>\n",
       "      <th>httpDomain</th>\n",
       "      <th>tinyURL</th>\n",
       "      <th>hyphenURL</th>\n",
       "      <th>subURl</th>\n",
       "      <th>keyWordURL</th>\n",
       "      <th>dns</th>\n",
       "      <th>domainAge</th>\n",
       "      <th>domainEnd</th>\n",
       "      <th>iframe</th>\n",
       "      <th>forwarding</th>\n",
       "      <th>label</th>\n",
       "    </tr>\n",
       "  </thead>\n",
       "  <tbody>\n",
       "    <tr>\n",
       "      <th>0</th>\n",
       "      <td>29</td>\n",
       "      <td>0</td>\n",
       "      <td>1</td>\n",
       "      <td>0</td>\n",
       "      <td>0</td>\n",
       "      <td>1</td>\n",
       "      <td>0</td>\n",
       "      <td>1</td>\n",
       "      <td>1</td>\n",
       "      <td>1</td>\n",
       "      <td>0</td>\n",
       "      <td>0</td>\n",
       "      <td>1</td>\n",
       "    </tr>\n",
       "    <tr>\n",
       "      <th>1</th>\n",
       "      <td>88</td>\n",
       "      <td>0</td>\n",
       "      <td>1</td>\n",
       "      <td>0</td>\n",
       "      <td>0</td>\n",
       "      <td>0</td>\n",
       "      <td>0</td>\n",
       "      <td>1</td>\n",
       "      <td>1</td>\n",
       "      <td>1</td>\n",
       "      <td>0</td>\n",
       "      <td>0</td>\n",
       "      <td>1</td>\n",
       "    </tr>\n",
       "    <tr>\n",
       "      <th>2</th>\n",
       "      <td>23</td>\n",
       "      <td>0</td>\n",
       "      <td>1</td>\n",
       "      <td>0</td>\n",
       "      <td>0</td>\n",
       "      <td>1</td>\n",
       "      <td>0</td>\n",
       "      <td>1</td>\n",
       "      <td>1</td>\n",
       "      <td>1</td>\n",
       "      <td>1</td>\n",
       "      <td>0</td>\n",
       "      <td>1</td>\n",
       "    </tr>\n",
       "    <tr>\n",
       "      <th>3</th>\n",
       "      <td>46</td>\n",
       "      <td>3</td>\n",
       "      <td>1</td>\n",
       "      <td>0</td>\n",
       "      <td>0</td>\n",
       "      <td>1</td>\n",
       "      <td>0</td>\n",
       "      <td>1</td>\n",
       "      <td>1</td>\n",
       "      <td>1</td>\n",
       "      <td>1</td>\n",
       "      <td>0</td>\n",
       "      <td>1</td>\n",
       "    </tr>\n",
       "    <tr>\n",
       "      <th>4</th>\n",
       "      <td>66</td>\n",
       "      <td>1</td>\n",
       "      <td>1</td>\n",
       "      <td>0</td>\n",
       "      <td>1</td>\n",
       "      <td>2</td>\n",
       "      <td>0</td>\n",
       "      <td>1</td>\n",
       "      <td>1</td>\n",
       "      <td>1</td>\n",
       "      <td>1</td>\n",
       "      <td>0</td>\n",
       "      <td>1</td>\n",
       "    </tr>\n",
       "  </tbody>\n",
       "</table>\n",
       "</div>"
      ],
      "text/plain": [
       "   url_len  url_dep  httpDomain  tinyURL  hyphenURL  subURl  keyWordURL  dns  \\\n",
       "0       29        0           1        0          0       1           0    1   \n",
       "1       88        0           1        0          0       0           0    1   \n",
       "2       23        0           1        0          0       1           0    1   \n",
       "3       46        3           1        0          0       1           0    1   \n",
       "4       66        1           1        0          1       2           0    1   \n",
       "\n",
       "   domainAge  domainEnd  iframe  forwarding  label  \n",
       "0          1          1       0           0      1  \n",
       "1          1          1       0           0      1  \n",
       "2          1          1       1           0      1  \n",
       "3          1          1       1           0      1  \n",
       "4          1          1       1           0      1  "
      ]
     },
     "execution_count": 46,
     "metadata": {},
     "output_type": "execute_result"
    }
   ],
   "source": [
    "phishing.head()"
   ]
  },
  {
   "cell_type": "code",
   "execution_count": 47,
   "id": "44d65c93",
   "metadata": {
    "execution": {
     "iopub.execute_input": "2024-05-11T17:53:25.584955Z",
     "iopub.status.busy": "2024-05-11T17:53:25.584052Z",
     "iopub.status.idle": "2024-05-11T17:53:25.601158Z",
     "shell.execute_reply": "2024-05-11T17:53:25.599839Z"
    },
    "papermill": {
     "duration": 0.076899,
     "end_time": "2024-05-11T17:53:25.604492",
     "exception": false,
     "start_time": "2024-05-11T17:53:25.527593",
     "status": "completed"
    },
    "tags": []
   },
   "outputs": [
    {
     "data": {
      "text/html": [
       "<div>\n",
       "<style scoped>\n",
       "    .dataframe tbody tr th:only-of-type {\n",
       "        vertical-align: middle;\n",
       "    }\n",
       "\n",
       "    .dataframe tbody tr th {\n",
       "        vertical-align: top;\n",
       "    }\n",
       "\n",
       "    .dataframe thead th {\n",
       "        text-align: right;\n",
       "    }\n",
       "</style>\n",
       "<table border=\"1\" class=\"dataframe\">\n",
       "  <thead>\n",
       "    <tr style=\"text-align: right;\">\n",
       "      <th></th>\n",
       "      <th>url_len</th>\n",
       "      <th>url_dep</th>\n",
       "      <th>httpDomain</th>\n",
       "      <th>tinyURL</th>\n",
       "      <th>hyphenURL</th>\n",
       "      <th>subURl</th>\n",
       "      <th>keyWordURL</th>\n",
       "      <th>dns</th>\n",
       "      <th>domainAge</th>\n",
       "      <th>domainEnd</th>\n",
       "      <th>iframe</th>\n",
       "      <th>forwarding</th>\n",
       "      <th>label</th>\n",
       "    </tr>\n",
       "  </thead>\n",
       "  <tbody>\n",
       "    <tr>\n",
       "      <th>944</th>\n",
       "      <td>34</td>\n",
       "      <td>0</td>\n",
       "      <td>1</td>\n",
       "      <td>0</td>\n",
       "      <td>1</td>\n",
       "      <td>1</td>\n",
       "      <td>0</td>\n",
       "      <td>1</td>\n",
       "      <td>1</td>\n",
       "      <td>1</td>\n",
       "      <td>0</td>\n",
       "      <td>0</td>\n",
       "      <td>1</td>\n",
       "    </tr>\n",
       "    <tr>\n",
       "      <th>945</th>\n",
       "      <td>29</td>\n",
       "      <td>0</td>\n",
       "      <td>1</td>\n",
       "      <td>0</td>\n",
       "      <td>0</td>\n",
       "      <td>1</td>\n",
       "      <td>0</td>\n",
       "      <td>1</td>\n",
       "      <td>1</td>\n",
       "      <td>1</td>\n",
       "      <td>1</td>\n",
       "      <td>0</td>\n",
       "      <td>1</td>\n",
       "    </tr>\n",
       "    <tr>\n",
       "      <th>946</th>\n",
       "      <td>34</td>\n",
       "      <td>0</td>\n",
       "      <td>1</td>\n",
       "      <td>0</td>\n",
       "      <td>1</td>\n",
       "      <td>1</td>\n",
       "      <td>0</td>\n",
       "      <td>1</td>\n",
       "      <td>1</td>\n",
       "      <td>1</td>\n",
       "      <td>1</td>\n",
       "      <td>0</td>\n",
       "      <td>1</td>\n",
       "    </tr>\n",
       "    <tr>\n",
       "      <th>947</th>\n",
       "      <td>31</td>\n",
       "      <td>0</td>\n",
       "      <td>1</td>\n",
       "      <td>0</td>\n",
       "      <td>0</td>\n",
       "      <td>1</td>\n",
       "      <td>0</td>\n",
       "      <td>1</td>\n",
       "      <td>1</td>\n",
       "      <td>1</td>\n",
       "      <td>0</td>\n",
       "      <td>0</td>\n",
       "      <td>1</td>\n",
       "    </tr>\n",
       "    <tr>\n",
       "      <th>948</th>\n",
       "      <td>51</td>\n",
       "      <td>2</td>\n",
       "      <td>1</td>\n",
       "      <td>0</td>\n",
       "      <td>0</td>\n",
       "      <td>1</td>\n",
       "      <td>0</td>\n",
       "      <td>1</td>\n",
       "      <td>1</td>\n",
       "      <td>1</td>\n",
       "      <td>0</td>\n",
       "      <td>0</td>\n",
       "      <td>1</td>\n",
       "    </tr>\n",
       "  </tbody>\n",
       "</table>\n",
       "</div>"
      ],
      "text/plain": [
       "     url_len  url_dep  httpDomain  tinyURL  hyphenURL  subURl  keyWordURL  \\\n",
       "944       34        0           1        0          1       1           0   \n",
       "945       29        0           1        0          0       1           0   \n",
       "946       34        0           1        0          1       1           0   \n",
       "947       31        0           1        0          0       1           0   \n",
       "948       51        2           1        0          0       1           0   \n",
       "\n",
       "     dns  domainAge  domainEnd  iframe  forwarding  label  \n",
       "944    1          1          1       0           0      1  \n",
       "945    1          1          1       1           0      1  \n",
       "946    1          1          1       1           0      1  \n",
       "947    1          1          1       0           0      1  \n",
       "948    1          1          1       0           0      1  "
      ]
     },
     "execution_count": 47,
     "metadata": {},
     "output_type": "execute_result"
    }
   ],
   "source": [
    "phishing.tail()"
   ]
  },
  {
   "cell_type": "markdown",
   "id": "61e22182",
   "metadata": {
    "papermill": {
     "duration": 0.054656,
     "end_time": "2024-05-11T17:53:25.723887",
     "exception": false,
     "start_time": "2024-05-11T17:53:25.669231",
     "status": "completed"
    },
    "tags": []
   },
   "source": [
    "### 5.3. Final dataset"
   ]
  },
  {
   "cell_type": "markdown",
   "id": "de8355a2",
   "metadata": {
    "papermill": {
     "duration": 0.05428,
     "end_time": "2024-05-11T17:53:25.835030",
     "exception": false,
     "start_time": "2024-05-11T17:53:25.780750",
     "status": "completed"
    },
    "tags": []
   },
   "source": [
    "In the above section we formed two dataframes of legitimate & phishing URL features. Now, we will combine them to a single dataframe and export the data to csv file for the Machine Learning training done in other notebook"
   ]
  },
  {
   "cell_type": "code",
   "execution_count": 48,
   "id": "40b611a6",
   "metadata": {
    "execution": {
     "iopub.execute_input": "2024-05-11T17:53:25.947254Z",
     "iopub.status.busy": "2024-05-11T17:53:25.946839Z",
     "iopub.status.idle": "2024-05-11T17:53:25.978234Z",
     "shell.execute_reply": "2024-05-11T17:53:25.977074Z"
    },
    "papermill": {
     "duration": 0.090092,
     "end_time": "2024-05-11T17:53:25.980709",
     "exception": false,
     "start_time": "2024-05-11T17:53:25.890617",
     "status": "completed"
    },
    "tags": []
   },
   "outputs": [
    {
     "data": {
      "text/html": [
       "<div>\n",
       "<style scoped>\n",
       "    .dataframe tbody tr th:only-of-type {\n",
       "        vertical-align: middle;\n",
       "    }\n",
       "\n",
       "    .dataframe tbody tr th {\n",
       "        vertical-align: top;\n",
       "    }\n",
       "\n",
       "    .dataframe thead th {\n",
       "        text-align: right;\n",
       "    }\n",
       "</style>\n",
       "<table border=\"1\" class=\"dataframe\">\n",
       "  <thead>\n",
       "    <tr style=\"text-align: right;\">\n",
       "      <th></th>\n",
       "      <th>url_len</th>\n",
       "      <th>url_dep</th>\n",
       "      <th>httpDomain</th>\n",
       "      <th>tinyURL</th>\n",
       "      <th>hyphenURL</th>\n",
       "      <th>subURl</th>\n",
       "      <th>keyWordURL</th>\n",
       "      <th>dns</th>\n",
       "      <th>domainAge</th>\n",
       "      <th>domainEnd</th>\n",
       "      <th>iframe</th>\n",
       "      <th>forwarding</th>\n",
       "      <th>label</th>\n",
       "    </tr>\n",
       "  </thead>\n",
       "  <tbody>\n",
       "    <tr>\n",
       "      <th>0</th>\n",
       "      <td>67</td>\n",
       "      <td>6</td>\n",
       "      <td>0</td>\n",
       "      <td>0</td>\n",
       "      <td>0</td>\n",
       "      <td>4</td>\n",
       "      <td>0</td>\n",
       "      <td>0</td>\n",
       "      <td>1</td>\n",
       "      <td>1</td>\n",
       "      <td>1</td>\n",
       "      <td>1</td>\n",
       "      <td>0</td>\n",
       "    </tr>\n",
       "    <tr>\n",
       "      <th>1</th>\n",
       "      <td>71</td>\n",
       "      <td>4</td>\n",
       "      <td>0</td>\n",
       "      <td>0</td>\n",
       "      <td>0</td>\n",
       "      <td>2</td>\n",
       "      <td>0</td>\n",
       "      <td>0</td>\n",
       "      <td>1</td>\n",
       "      <td>1</td>\n",
       "      <td>1</td>\n",
       "      <td>1</td>\n",
       "      <td>0</td>\n",
       "    </tr>\n",
       "    <tr>\n",
       "      <th>2</th>\n",
       "      <td>25</td>\n",
       "      <td>3</td>\n",
       "      <td>0</td>\n",
       "      <td>0</td>\n",
       "      <td>0</td>\n",
       "      <td>3</td>\n",
       "      <td>0</td>\n",
       "      <td>0</td>\n",
       "      <td>1</td>\n",
       "      <td>1</td>\n",
       "      <td>1</td>\n",
       "      <td>1</td>\n",
       "      <td>0</td>\n",
       "    </tr>\n",
       "    <tr>\n",
       "      <th>3</th>\n",
       "      <td>45</td>\n",
       "      <td>2</td>\n",
       "      <td>0</td>\n",
       "      <td>0</td>\n",
       "      <td>0</td>\n",
       "      <td>4</td>\n",
       "      <td>0</td>\n",
       "      <td>0</td>\n",
       "      <td>1</td>\n",
       "      <td>1</td>\n",
       "      <td>1</td>\n",
       "      <td>1</td>\n",
       "      <td>0</td>\n",
       "    </tr>\n",
       "    <tr>\n",
       "      <th>4</th>\n",
       "      <td>77</td>\n",
       "      <td>7</td>\n",
       "      <td>0</td>\n",
       "      <td>0</td>\n",
       "      <td>0</td>\n",
       "      <td>3</td>\n",
       "      <td>0</td>\n",
       "      <td>0</td>\n",
       "      <td>1</td>\n",
       "      <td>1</td>\n",
       "      <td>1</td>\n",
       "      <td>1</td>\n",
       "      <td>0</td>\n",
       "    </tr>\n",
       "  </tbody>\n",
       "</table>\n",
       "</div>"
      ],
      "text/plain": [
       "   url_len  url_dep  httpDomain  tinyURL  hyphenURL  subURl  keyWordURL  dns  \\\n",
       "0       67        6           0        0          0       4           0    0   \n",
       "1       71        4           0        0          0       2           0    0   \n",
       "2       25        3           0        0          0       3           0    0   \n",
       "3       45        2           0        0          0       4           0    0   \n",
       "4       77        7           0        0          0       3           0    0   \n",
       "\n",
       "   domainAge  domainEnd  iframe  forwarding  label  \n",
       "0          1          1       1           1      0  \n",
       "1          1          1       1           1      0  \n",
       "2          1          1       1           1      0  \n",
       "3          1          1       1           1      0  \n",
       "4          1          1       1           1      0  "
      ]
     },
     "execution_count": 48,
     "metadata": {},
     "output_type": "execute_result"
    }
   ],
   "source": [
    "#Concatenating the dataframes into one \n",
    "urldata = pd.concat([legitimate, phishing]).reset_index(drop=True)\n",
    "urldata = urldata.sample(frac=1, random_state=1).reset_index(drop=True)\n",
    "urldata.head()"
   ]
  },
  {
   "cell_type": "code",
   "execution_count": 49,
   "id": "4184d835",
   "metadata": {
    "execution": {
     "iopub.execute_input": "2024-05-11T17:53:26.099521Z",
     "iopub.status.busy": "2024-05-11T17:53:26.098717Z",
     "iopub.status.idle": "2024-05-11T17:53:26.113703Z",
     "shell.execute_reply": "2024-05-11T17:53:26.112497Z"
    },
    "papermill": {
     "duration": 0.074788,
     "end_time": "2024-05-11T17:53:26.116172",
     "exception": false,
     "start_time": "2024-05-11T17:53:26.041384",
     "status": "completed"
    },
    "tags": []
   },
   "outputs": [
    {
     "data": {
      "text/html": [
       "<div>\n",
       "<style scoped>\n",
       "    .dataframe tbody tr th:only-of-type {\n",
       "        vertical-align: middle;\n",
       "    }\n",
       "\n",
       "    .dataframe tbody tr th {\n",
       "        vertical-align: top;\n",
       "    }\n",
       "\n",
       "    .dataframe thead th {\n",
       "        text-align: right;\n",
       "    }\n",
       "</style>\n",
       "<table border=\"1\" class=\"dataframe\">\n",
       "  <thead>\n",
       "    <tr style=\"text-align: right;\">\n",
       "      <th></th>\n",
       "      <th>url_len</th>\n",
       "      <th>url_dep</th>\n",
       "      <th>httpDomain</th>\n",
       "      <th>tinyURL</th>\n",
       "      <th>hyphenURL</th>\n",
       "      <th>subURl</th>\n",
       "      <th>keyWordURL</th>\n",
       "      <th>dns</th>\n",
       "      <th>domainAge</th>\n",
       "      <th>domainEnd</th>\n",
       "      <th>iframe</th>\n",
       "      <th>forwarding</th>\n",
       "      <th>label</th>\n",
       "    </tr>\n",
       "  </thead>\n",
       "  <tbody>\n",
       "    <tr>\n",
       "      <th>40944</th>\n",
       "      <td>27</td>\n",
       "      <td>2</td>\n",
       "      <td>0</td>\n",
       "      <td>0</td>\n",
       "      <td>0</td>\n",
       "      <td>3</td>\n",
       "      <td>0</td>\n",
       "      <td>0</td>\n",
       "      <td>1</td>\n",
       "      <td>1</td>\n",
       "      <td>1</td>\n",
       "      <td>1</td>\n",
       "      <td>0</td>\n",
       "    </tr>\n",
       "    <tr>\n",
       "      <th>40945</th>\n",
       "      <td>31</td>\n",
       "      <td>2</td>\n",
       "      <td>0</td>\n",
       "      <td>0</td>\n",
       "      <td>0</td>\n",
       "      <td>5</td>\n",
       "      <td>0</td>\n",
       "      <td>0</td>\n",
       "      <td>1</td>\n",
       "      <td>1</td>\n",
       "      <td>1</td>\n",
       "      <td>1</td>\n",
       "      <td>0</td>\n",
       "    </tr>\n",
       "    <tr>\n",
       "      <th>40946</th>\n",
       "      <td>53</td>\n",
       "      <td>4</td>\n",
       "      <td>0</td>\n",
       "      <td>0</td>\n",
       "      <td>0</td>\n",
       "      <td>3</td>\n",
       "      <td>0</td>\n",
       "      <td>0</td>\n",
       "      <td>1</td>\n",
       "      <td>1</td>\n",
       "      <td>1</td>\n",
       "      <td>1</td>\n",
       "      <td>0</td>\n",
       "    </tr>\n",
       "    <tr>\n",
       "      <th>40947</th>\n",
       "      <td>35</td>\n",
       "      <td>3</td>\n",
       "      <td>0</td>\n",
       "      <td>0</td>\n",
       "      <td>0</td>\n",
       "      <td>3</td>\n",
       "      <td>0</td>\n",
       "      <td>0</td>\n",
       "      <td>1</td>\n",
       "      <td>1</td>\n",
       "      <td>1</td>\n",
       "      <td>1</td>\n",
       "      <td>0</td>\n",
       "    </tr>\n",
       "    <tr>\n",
       "      <th>40948</th>\n",
       "      <td>73</td>\n",
       "      <td>4</td>\n",
       "      <td>0</td>\n",
       "      <td>0</td>\n",
       "      <td>0</td>\n",
       "      <td>5</td>\n",
       "      <td>0</td>\n",
       "      <td>0</td>\n",
       "      <td>1</td>\n",
       "      <td>1</td>\n",
       "      <td>1</td>\n",
       "      <td>1</td>\n",
       "      <td>0</td>\n",
       "    </tr>\n",
       "  </tbody>\n",
       "</table>\n",
       "</div>"
      ],
      "text/plain": [
       "       url_len  url_dep  httpDomain  tinyURL  hyphenURL  subURl  keyWordURL  \\\n",
       "40944       27        2           0        0          0       3           0   \n",
       "40945       31        2           0        0          0       5           0   \n",
       "40946       53        4           0        0          0       3           0   \n",
       "40947       35        3           0        0          0       3           0   \n",
       "40948       73        4           0        0          0       5           0   \n",
       "\n",
       "       dns  domainAge  domainEnd  iframe  forwarding  label  \n",
       "40944    0          1          1       1           1      0  \n",
       "40945    0          1          1       1           1      0  \n",
       "40946    0          1          1       1           1      0  \n",
       "40947    0          1          1       1           1      0  \n",
       "40948    0          1          1       1           1      0  "
      ]
     },
     "execution_count": 49,
     "metadata": {},
     "output_type": "execute_result"
    }
   ],
   "source": [
    "urldata.tail()"
   ]
  },
  {
   "cell_type": "code",
   "execution_count": 50,
   "id": "ea32ac1d",
   "metadata": {
    "execution": {
     "iopub.execute_input": "2024-05-11T17:53:26.232584Z",
     "iopub.status.busy": "2024-05-11T17:53:26.231773Z",
     "iopub.status.idle": "2024-05-11T17:53:26.428512Z",
     "shell.execute_reply": "2024-05-11T17:53:26.427571Z"
    },
    "papermill": {
     "duration": 0.259506,
     "end_time": "2024-05-11T17:53:26.431263",
     "exception": false,
     "start_time": "2024-05-11T17:53:26.171757",
     "status": "completed"
    },
    "tags": []
   },
   "outputs": [],
   "source": [
    "urldata.to_csv('/kaggle/working/urldata.csv', index=False)"
   ]
  },
  {
   "cell_type": "markdown",
   "id": "2b6544aa",
   "metadata": {
    "execution": {
     "iopub.execute_input": "2023-07-07T17:21:41.45024Z",
     "iopub.status.busy": "2023-07-07T17:21:41.449888Z",
     "iopub.status.idle": "2023-07-07T17:21:41.841205Z",
     "shell.execute_reply": "2023-07-07T17:21:41.839814Z",
     "shell.execute_reply.started": "2023-07-07T17:21:41.450215Z"
    },
    "papermill": {
     "duration": 0.056551,
     "end_time": "2024-05-11T17:53:26.546671",
     "exception": false,
     "start_time": "2024-05-11T17:53:26.490120",
     "status": "completed"
    },
    "tags": []
   },
   "source": [
    "## 6. Loading final datastet"
   ]
  },
  {
   "cell_type": "code",
   "execution_count": 51,
   "id": "404ae501",
   "metadata": {
    "execution": {
     "iopub.execute_input": "2024-05-11T17:53:26.659448Z",
     "iopub.status.busy": "2024-05-11T17:53:26.658645Z",
     "iopub.status.idle": "2024-05-11T17:53:28.320739Z",
     "shell.execute_reply": "2024-05-11T17:53:28.319358Z"
    },
    "papermill": {
     "duration": 1.722003,
     "end_time": "2024-05-11T17:53:28.323729",
     "exception": false,
     "start_time": "2024-05-11T17:53:26.601726",
     "status": "completed"
    },
    "tags": []
   },
   "outputs": [],
   "source": [
    "import pandas as pd\n",
    "import numpy as np\n",
    "import seaborn as sns\n",
    "import matplotlib.pyplot as plt"
   ]
  },
  {
   "cell_type": "code",
   "execution_count": 52,
   "id": "5c3136e0",
   "metadata": {
    "execution": {
     "iopub.execute_input": "2024-05-11T17:53:28.438387Z",
     "iopub.status.busy": "2024-05-11T17:53:28.437899Z",
     "iopub.status.idle": "2024-05-11T17:53:28.504002Z",
     "shell.execute_reply": "2024-05-11T17:53:28.502581Z"
    },
    "papermill": {
     "duration": 0.12779,
     "end_time": "2024-05-11T17:53:28.506865",
     "exception": false,
     "start_time": "2024-05-11T17:53:28.379075",
     "status": "completed"
    },
    "tags": []
   },
   "outputs": [],
   "source": [
    "urldata = pd.read_csv(\"/kaggle/working/urldata.csv\")"
   ]
  },
  {
   "cell_type": "code",
   "execution_count": 53,
   "id": "39b64144",
   "metadata": {
    "execution": {
     "iopub.execute_input": "2024-05-11T17:53:28.623001Z",
     "iopub.status.busy": "2024-05-11T17:53:28.622503Z",
     "iopub.status.idle": "2024-05-11T17:53:28.640156Z",
     "shell.execute_reply": "2024-05-11T17:53:28.638852Z"
    },
    "papermill": {
     "duration": 0.077379,
     "end_time": "2024-05-11T17:53:28.642637",
     "exception": false,
     "start_time": "2024-05-11T17:53:28.565258",
     "status": "completed"
    },
    "tags": []
   },
   "outputs": [
    {
     "data": {
      "text/html": [
       "<div>\n",
       "<style scoped>\n",
       "    .dataframe tbody tr th:only-of-type {\n",
       "        vertical-align: middle;\n",
       "    }\n",
       "\n",
       "    .dataframe tbody tr th {\n",
       "        vertical-align: top;\n",
       "    }\n",
       "\n",
       "    .dataframe thead th {\n",
       "        text-align: right;\n",
       "    }\n",
       "</style>\n",
       "<table border=\"1\" class=\"dataframe\">\n",
       "  <thead>\n",
       "    <tr style=\"text-align: right;\">\n",
       "      <th></th>\n",
       "      <th>url_len</th>\n",
       "      <th>url_dep</th>\n",
       "      <th>httpDomain</th>\n",
       "      <th>tinyURL</th>\n",
       "      <th>hyphenURL</th>\n",
       "      <th>subURl</th>\n",
       "      <th>keyWordURL</th>\n",
       "      <th>dns</th>\n",
       "      <th>domainAge</th>\n",
       "      <th>domainEnd</th>\n",
       "      <th>iframe</th>\n",
       "      <th>forwarding</th>\n",
       "      <th>label</th>\n",
       "    </tr>\n",
       "  </thead>\n",
       "  <tbody>\n",
       "    <tr>\n",
       "      <th>0</th>\n",
       "      <td>67</td>\n",
       "      <td>6</td>\n",
       "      <td>0</td>\n",
       "      <td>0</td>\n",
       "      <td>0</td>\n",
       "      <td>4</td>\n",
       "      <td>0</td>\n",
       "      <td>0</td>\n",
       "      <td>1</td>\n",
       "      <td>1</td>\n",
       "      <td>1</td>\n",
       "      <td>1</td>\n",
       "      <td>0</td>\n",
       "    </tr>\n",
       "    <tr>\n",
       "      <th>1</th>\n",
       "      <td>71</td>\n",
       "      <td>4</td>\n",
       "      <td>0</td>\n",
       "      <td>0</td>\n",
       "      <td>0</td>\n",
       "      <td>2</td>\n",
       "      <td>0</td>\n",
       "      <td>0</td>\n",
       "      <td>1</td>\n",
       "      <td>1</td>\n",
       "      <td>1</td>\n",
       "      <td>1</td>\n",
       "      <td>0</td>\n",
       "    </tr>\n",
       "    <tr>\n",
       "      <th>2</th>\n",
       "      <td>25</td>\n",
       "      <td>3</td>\n",
       "      <td>0</td>\n",
       "      <td>0</td>\n",
       "      <td>0</td>\n",
       "      <td>3</td>\n",
       "      <td>0</td>\n",
       "      <td>0</td>\n",
       "      <td>1</td>\n",
       "      <td>1</td>\n",
       "      <td>1</td>\n",
       "      <td>1</td>\n",
       "      <td>0</td>\n",
       "    </tr>\n",
       "    <tr>\n",
       "      <th>3</th>\n",
       "      <td>45</td>\n",
       "      <td>2</td>\n",
       "      <td>0</td>\n",
       "      <td>0</td>\n",
       "      <td>0</td>\n",
       "      <td>4</td>\n",
       "      <td>0</td>\n",
       "      <td>0</td>\n",
       "      <td>1</td>\n",
       "      <td>1</td>\n",
       "      <td>1</td>\n",
       "      <td>1</td>\n",
       "      <td>0</td>\n",
       "    </tr>\n",
       "    <tr>\n",
       "      <th>4</th>\n",
       "      <td>77</td>\n",
       "      <td>7</td>\n",
       "      <td>0</td>\n",
       "      <td>0</td>\n",
       "      <td>0</td>\n",
       "      <td>3</td>\n",
       "      <td>0</td>\n",
       "      <td>0</td>\n",
       "      <td>1</td>\n",
       "      <td>1</td>\n",
       "      <td>1</td>\n",
       "      <td>1</td>\n",
       "      <td>0</td>\n",
       "    </tr>\n",
       "  </tbody>\n",
       "</table>\n",
       "</div>"
      ],
      "text/plain": [
       "   url_len  url_dep  httpDomain  tinyURL  hyphenURL  subURl  keyWordURL  dns  \\\n",
       "0       67        6           0        0          0       4           0    0   \n",
       "1       71        4           0        0          0       2           0    0   \n",
       "2       25        3           0        0          0       3           0    0   \n",
       "3       45        2           0        0          0       4           0    0   \n",
       "4       77        7           0        0          0       3           0    0   \n",
       "\n",
       "   domainAge  domainEnd  iframe  forwarding  label  \n",
       "0          1          1       1           1      0  \n",
       "1          1          1       1           1      0  \n",
       "2          1          1       1           1      0  \n",
       "3          1          1       1           1      0  \n",
       "4          1          1       1           1      0  "
      ]
     },
     "execution_count": 53,
     "metadata": {},
     "output_type": "execute_result"
    }
   ],
   "source": [
    "urldata.head()"
   ]
  },
  {
   "cell_type": "code",
   "execution_count": 54,
   "id": "9036d24f",
   "metadata": {
    "execution": {
     "iopub.execute_input": "2024-05-11T17:53:28.758421Z",
     "iopub.status.busy": "2024-05-11T17:53:28.757955Z",
     "iopub.status.idle": "2024-05-11T17:53:28.775429Z",
     "shell.execute_reply": "2024-05-11T17:53:28.774079Z"
    },
    "papermill": {
     "duration": 0.079057,
     "end_time": "2024-05-11T17:53:28.778329",
     "exception": false,
     "start_time": "2024-05-11T17:53:28.699272",
     "status": "completed"
    },
    "tags": []
   },
   "outputs": [
    {
     "data": {
      "text/html": [
       "<div>\n",
       "<style scoped>\n",
       "    .dataframe tbody tr th:only-of-type {\n",
       "        vertical-align: middle;\n",
       "    }\n",
       "\n",
       "    .dataframe tbody tr th {\n",
       "        vertical-align: top;\n",
       "    }\n",
       "\n",
       "    .dataframe thead th {\n",
       "        text-align: right;\n",
       "    }\n",
       "</style>\n",
       "<table border=\"1\" class=\"dataframe\">\n",
       "  <thead>\n",
       "    <tr style=\"text-align: right;\">\n",
       "      <th></th>\n",
       "      <th>url_len</th>\n",
       "      <th>url_dep</th>\n",
       "      <th>httpDomain</th>\n",
       "      <th>tinyURL</th>\n",
       "      <th>hyphenURL</th>\n",
       "      <th>subURl</th>\n",
       "      <th>keyWordURL</th>\n",
       "      <th>dns</th>\n",
       "      <th>domainAge</th>\n",
       "      <th>domainEnd</th>\n",
       "      <th>iframe</th>\n",
       "      <th>forwarding</th>\n",
       "      <th>label</th>\n",
       "    </tr>\n",
       "  </thead>\n",
       "  <tbody>\n",
       "    <tr>\n",
       "      <th>40944</th>\n",
       "      <td>27</td>\n",
       "      <td>2</td>\n",
       "      <td>0</td>\n",
       "      <td>0</td>\n",
       "      <td>0</td>\n",
       "      <td>3</td>\n",
       "      <td>0</td>\n",
       "      <td>0</td>\n",
       "      <td>1</td>\n",
       "      <td>1</td>\n",
       "      <td>1</td>\n",
       "      <td>1</td>\n",
       "      <td>0</td>\n",
       "    </tr>\n",
       "    <tr>\n",
       "      <th>40945</th>\n",
       "      <td>31</td>\n",
       "      <td>2</td>\n",
       "      <td>0</td>\n",
       "      <td>0</td>\n",
       "      <td>0</td>\n",
       "      <td>5</td>\n",
       "      <td>0</td>\n",
       "      <td>0</td>\n",
       "      <td>1</td>\n",
       "      <td>1</td>\n",
       "      <td>1</td>\n",
       "      <td>1</td>\n",
       "      <td>0</td>\n",
       "    </tr>\n",
       "    <tr>\n",
       "      <th>40946</th>\n",
       "      <td>53</td>\n",
       "      <td>4</td>\n",
       "      <td>0</td>\n",
       "      <td>0</td>\n",
       "      <td>0</td>\n",
       "      <td>3</td>\n",
       "      <td>0</td>\n",
       "      <td>0</td>\n",
       "      <td>1</td>\n",
       "      <td>1</td>\n",
       "      <td>1</td>\n",
       "      <td>1</td>\n",
       "      <td>0</td>\n",
       "    </tr>\n",
       "    <tr>\n",
       "      <th>40947</th>\n",
       "      <td>35</td>\n",
       "      <td>3</td>\n",
       "      <td>0</td>\n",
       "      <td>0</td>\n",
       "      <td>0</td>\n",
       "      <td>3</td>\n",
       "      <td>0</td>\n",
       "      <td>0</td>\n",
       "      <td>1</td>\n",
       "      <td>1</td>\n",
       "      <td>1</td>\n",
       "      <td>1</td>\n",
       "      <td>0</td>\n",
       "    </tr>\n",
       "    <tr>\n",
       "      <th>40948</th>\n",
       "      <td>73</td>\n",
       "      <td>4</td>\n",
       "      <td>0</td>\n",
       "      <td>0</td>\n",
       "      <td>0</td>\n",
       "      <td>5</td>\n",
       "      <td>0</td>\n",
       "      <td>0</td>\n",
       "      <td>1</td>\n",
       "      <td>1</td>\n",
       "      <td>1</td>\n",
       "      <td>1</td>\n",
       "      <td>0</td>\n",
       "    </tr>\n",
       "  </tbody>\n",
       "</table>\n",
       "</div>"
      ],
      "text/plain": [
       "       url_len  url_dep  httpDomain  tinyURL  hyphenURL  subURl  keyWordURL  \\\n",
       "40944       27        2           0        0          0       3           0   \n",
       "40945       31        2           0        0          0       5           0   \n",
       "40946       53        4           0        0          0       3           0   \n",
       "40947       35        3           0        0          0       3           0   \n",
       "40948       73        4           0        0          0       5           0   \n",
       "\n",
       "       dns  domainAge  domainEnd  iframe  forwarding  label  \n",
       "40944    0          1          1       1           1      0  \n",
       "40945    0          1          1       1           1      0  \n",
       "40946    0          1          1       1           1      0  \n",
       "40947    0          1          1       1           1      0  \n",
       "40948    0          1          1       1           1      0  "
      ]
     },
     "execution_count": 54,
     "metadata": {},
     "output_type": "execute_result"
    }
   ],
   "source": [
    "urldata.tail()"
   ]
  },
  {
   "cell_type": "markdown",
   "id": "93550c17",
   "metadata": {
    "papermill": {
     "duration": 0.05789,
     "end_time": "2024-05-11T17:53:28.894211",
     "exception": false,
     "start_time": "2024-05-11T17:53:28.836321",
     "status": "completed"
    },
    "tags": []
   },
   "source": [
    "## 7. Data Preprocessing and EDA of the URL dataset"
   ]
  },
  {
   "cell_type": "markdown",
   "id": "da4e2191",
   "metadata": {
    "papermill": {
     "duration": 0.058795,
     "end_time": "2024-05-11T17:53:29.012359",
     "exception": false,
     "start_time": "2024-05-11T17:53:28.953564",
     "status": "completed"
    },
    "tags": []
   },
   "source": [
    "### 7.1. Shape of the dataet"
   ]
  },
  {
   "cell_type": "code",
   "execution_count": 55,
   "id": "0c68d9b7",
   "metadata": {
    "execution": {
     "iopub.execute_input": "2024-05-11T17:53:29.130801Z",
     "iopub.status.busy": "2024-05-11T17:53:29.130363Z",
     "iopub.status.idle": "2024-05-11T17:53:29.138212Z",
     "shell.execute_reply": "2024-05-11T17:53:29.136729Z"
    },
    "papermill": {
     "duration": 0.069576,
     "end_time": "2024-05-11T17:53:29.140949",
     "exception": false,
     "start_time": "2024-05-11T17:53:29.071373",
     "status": "completed"
    },
    "tags": []
   },
   "outputs": [
    {
     "data": {
      "text/plain": [
       "(40949, 13)"
      ]
     },
     "execution_count": 55,
     "metadata": {},
     "output_type": "execute_result"
    }
   ],
   "source": [
    "urldata.shape"
   ]
  },
  {
   "cell_type": "markdown",
   "id": "f69aa914",
   "metadata": {
    "papermill": {
     "duration": 0.0571,
     "end_time": "2024-05-11T17:53:29.255624",
     "exception": false,
     "start_time": "2024-05-11T17:53:29.198524",
     "status": "completed"
    },
    "tags": []
   },
   "source": [
    "### 7.2. Dataset Columns"
   ]
  },
  {
   "cell_type": "code",
   "execution_count": 56,
   "id": "11258a01",
   "metadata": {
    "execution": {
     "iopub.execute_input": "2024-05-11T17:53:29.376334Z",
     "iopub.status.busy": "2024-05-11T17:53:29.375910Z",
     "iopub.status.idle": "2024-05-11T17:53:29.384648Z",
     "shell.execute_reply": "2024-05-11T17:53:29.383300Z"
    },
    "papermill": {
     "duration": 0.074379,
     "end_time": "2024-05-11T17:53:29.387666",
     "exception": false,
     "start_time": "2024-05-11T17:53:29.313287",
     "status": "completed"
    },
    "tags": []
   },
   "outputs": [
    {
     "data": {
      "text/plain": [
       "Index(['url_len', 'url_dep', 'httpDomain', 'tinyURL', 'hyphenURL', 'subURl',\n",
       "       'keyWordURL', 'dns', 'domainAge', 'domainEnd', 'iframe', 'forwarding',\n",
       "       'label'],\n",
       "      dtype='object')"
      ]
     },
     "execution_count": 56,
     "metadata": {},
     "output_type": "execute_result"
    }
   ],
   "source": [
    "urldata.columns"
   ]
  },
  {
   "cell_type": "markdown",
   "id": "f006a660",
   "metadata": {
    "papermill": {
     "duration": 0.057809,
     "end_time": "2024-05-11T17:53:29.503426",
     "exception": false,
     "start_time": "2024-05-11T17:53:29.445617",
     "status": "completed"
    },
    "tags": []
   },
   "source": [
    "### 7.3. Dataset information"
   ]
  },
  {
   "cell_type": "code",
   "execution_count": 57,
   "id": "3d28249c",
   "metadata": {
    "execution": {
     "iopub.execute_input": "2024-05-11T17:53:29.624817Z",
     "iopub.status.busy": "2024-05-11T17:53:29.624389Z",
     "iopub.status.idle": "2024-05-11T17:53:29.649749Z",
     "shell.execute_reply": "2024-05-11T17:53:29.647686Z"
    },
    "papermill": {
     "duration": 0.089094,
     "end_time": "2024-05-11T17:53:29.652605",
     "exception": false,
     "start_time": "2024-05-11T17:53:29.563511",
     "status": "completed"
    },
    "tags": []
   },
   "outputs": [
    {
     "name": "stdout",
     "output_type": "stream",
     "text": [
      "<class 'pandas.core.frame.DataFrame'>\n",
      "RangeIndex: 40949 entries, 0 to 40948\n",
      "Data columns (total 13 columns):\n",
      " #   Column      Non-Null Count  Dtype\n",
      "---  ------      --------------  -----\n",
      " 0   url_len     40949 non-null  int64\n",
      " 1   url_dep     40949 non-null  int64\n",
      " 2   httpDomain  40949 non-null  int64\n",
      " 3   tinyURL     40949 non-null  int64\n",
      " 4   hyphenURL   40949 non-null  int64\n",
      " 5   subURl      40949 non-null  int64\n",
      " 6   keyWordURL  40949 non-null  int64\n",
      " 7   dns         40949 non-null  int64\n",
      " 8   domainAge   40949 non-null  int64\n",
      " 9   domainEnd   40949 non-null  int64\n",
      " 10  iframe      40949 non-null  int64\n",
      " 11  forwarding  40949 non-null  int64\n",
      " 12  label       40949 non-null  int64\n",
      "dtypes: int64(13)\n",
      "memory usage: 4.1 MB\n"
     ]
    }
   ],
   "source": [
    "urldata.info()"
   ]
  },
  {
   "cell_type": "markdown",
   "id": "36a7e62c",
   "metadata": {
    "papermill": {
     "duration": 0.058574,
     "end_time": "2024-05-11T17:53:29.768547",
     "exception": false,
     "start_time": "2024-05-11T17:53:29.709973",
     "status": "completed"
    },
    "tags": []
   },
   "source": [
    "### 7.4. Dataset Summary"
   ]
  },
  {
   "cell_type": "code",
   "execution_count": 58,
   "id": "85623cc0",
   "metadata": {
    "execution": {
     "iopub.execute_input": "2024-05-11T17:53:29.884764Z",
     "iopub.status.busy": "2024-05-11T17:53:29.884269Z",
     "iopub.status.idle": "2024-05-11T17:53:29.897087Z",
     "shell.execute_reply": "2024-05-11T17:53:29.895951Z"
    },
    "papermill": {
     "duration": 0.074717,
     "end_time": "2024-05-11T17:53:29.899593",
     "exception": false,
     "start_time": "2024-05-11T17:53:29.824876",
     "status": "completed"
    },
    "tags": []
   },
   "outputs": [
    {
     "data": {
      "text/plain": [
       "<bound method NDFrame.describe of        url_len  url_dep  httpDomain  tinyURL  hyphenURL  subURl  keyWordURL  \\\n",
       "0           67        6           0        0          0       4           0   \n",
       "1           71        4           0        0          0       2           0   \n",
       "2           25        3           0        0          0       3           0   \n",
       "3           45        2           0        0          0       4           0   \n",
       "4           77        7           0        0          0       3           0   \n",
       "...        ...      ...         ...      ...        ...     ...         ...   \n",
       "40944       27        2           0        0          0       3           0   \n",
       "40945       31        2           0        0          0       5           0   \n",
       "40946       53        4           0        0          0       3           0   \n",
       "40947       35        3           0        0          0       3           0   \n",
       "40948       73        4           0        0          0       5           0   \n",
       "\n",
       "       dns  domainAge  domainEnd  iframe  forwarding  label  \n",
       "0        0          1          1       1           1      0  \n",
       "1        0          1          1       1           1      0  \n",
       "2        0          1          1       1           1      0  \n",
       "3        0          1          1       1           1      0  \n",
       "4        0          1          1       1           1      0  \n",
       "...    ...        ...        ...     ...         ...    ...  \n",
       "40944    0          1          1       1           1      0  \n",
       "40945    0          1          1       1           1      0  \n",
       "40946    0          1          1       1           1      0  \n",
       "40947    0          1          1       1           1      0  \n",
       "40948    0          1          1       1           1      0  \n",
       "\n",
       "[40949 rows x 13 columns]>"
      ]
     },
     "execution_count": 58,
     "metadata": {},
     "output_type": "execute_result"
    }
   ],
   "source": [
    "urldata.describe"
   ]
  },
  {
   "cell_type": "markdown",
   "id": "444c0bab",
   "metadata": {
    "papermill": {
     "duration": 0.057716,
     "end_time": "2024-05-11T17:53:30.016129",
     "exception": false,
     "start_time": "2024-05-11T17:53:29.958413",
     "status": "completed"
    },
    "tags": []
   },
   "source": [
    "The above obtained result shows that the most of the data is made of 0's & 1's except 'Domain' & 'URL_Depth' columns. The Domain column doesnt have any significance to the machine learning model training. So dropping the 'Domain' column from the dataset."
   ]
  },
  {
   "cell_type": "markdown",
   "id": "cdb3e769",
   "metadata": {
    "papermill": {
     "duration": 0.055763,
     "end_time": "2024-05-11T17:53:30.128203",
     "exception": false,
     "start_time": "2024-05-11T17:53:30.072440",
     "status": "completed"
    },
    "tags": []
   },
   "source": [
    "### 7.5.Check of Null values"
   ]
  },
  {
   "cell_type": "code",
   "execution_count": 59,
   "id": "b996c59b",
   "metadata": {
    "execution": {
     "iopub.execute_input": "2024-05-11T17:53:30.243063Z",
     "iopub.status.busy": "2024-05-11T17:53:30.242542Z",
     "iopub.status.idle": "2024-05-11T17:53:30.255439Z",
     "shell.execute_reply": "2024-05-11T17:53:30.254584Z"
    },
    "papermill": {
     "duration": 0.073506,
     "end_time": "2024-05-11T17:53:30.258148",
     "exception": false,
     "start_time": "2024-05-11T17:53:30.184642",
     "status": "completed"
    },
    "tags": []
   },
   "outputs": [
    {
     "data": {
      "text/plain": [
       "url_len       0\n",
       "url_dep       0\n",
       "httpDomain    0\n",
       "tinyURL       0\n",
       "hyphenURL     0\n",
       "subURl        0\n",
       "keyWordURL    0\n",
       "dns           0\n",
       "domainAge     0\n",
       "domainEnd     0\n",
       "iframe        0\n",
       "forwarding    0\n",
       "label         0\n",
       "dtype: int64"
      ]
     },
     "execution_count": 59,
     "metadata": {},
     "output_type": "execute_result"
    }
   ],
   "source": [
    "urldata.isnull().sum()"
   ]
  },
  {
   "cell_type": "markdown",
   "id": "25475ed5",
   "metadata": {
    "papermill": {
     "duration": 0.058289,
     "end_time": "2024-05-11T17:53:30.375674",
     "exception": false,
     "start_time": "2024-05-11T17:53:30.317385",
     "status": "completed"
    },
    "tags": []
   },
   "source": [
    "In the feature extraction file, the extracted features of legitmate & phishing url datasets are just concatenated without any shuffling. This resulted in top 1000 rows of legitimate url data & bottom 1000 of phishing url data."
   ]
  },
  {
   "cell_type": "code",
   "execution_count": 60,
   "id": "505bd901",
   "metadata": {
    "execution": {
     "iopub.execute_input": "2024-05-11T17:53:30.496924Z",
     "iopub.status.busy": "2024-05-11T17:53:30.496521Z",
     "iopub.status.idle": "2024-05-11T17:53:30.505819Z",
     "shell.execute_reply": "2024-05-11T17:53:30.504448Z"
    },
    "papermill": {
     "duration": 0.074651,
     "end_time": "2024-05-11T17:53:30.508650",
     "exception": false,
     "start_time": "2024-05-11T17:53:30.433999",
     "status": "completed"
    },
    "tags": []
   },
   "outputs": [
    {
     "data": {
      "text/plain": [
       "Index(['url_len', 'url_dep', 'httpDomain', 'tinyURL', 'hyphenURL', 'subURl',\n",
       "       'keyWordURL', 'dns', 'domainAge', 'domainEnd', 'iframe', 'forwarding',\n",
       "       'label'],\n",
       "      dtype='object')"
      ]
     },
     "execution_count": 60,
     "metadata": {},
     "output_type": "execute_result"
    }
   ],
   "source": [
    "urldata.columns"
   ]
  },
  {
   "cell_type": "markdown",
   "id": "38e0d088",
   "metadata": {
    "papermill": {
     "duration": 0.058586,
     "end_time": "2024-05-11T17:53:30.627214",
     "exception": false,
     "start_time": "2024-05-11T17:53:30.568628",
     "status": "completed"
    },
    "tags": []
   },
   "source": [
    "### 7.7. Max and Min of \"url_len\""
   ]
  },
  {
   "cell_type": "code",
   "execution_count": 61,
   "id": "9689dcc3",
   "metadata": {
    "execution": {
     "iopub.execute_input": "2024-05-11T17:53:30.745063Z",
     "iopub.status.busy": "2024-05-11T17:53:30.744604Z",
     "iopub.status.idle": "2024-05-11T17:53:30.753854Z",
     "shell.execute_reply": "2024-05-11T17:53:30.751581Z"
    },
    "papermill": {
     "duration": 0.072131,
     "end_time": "2024-05-11T17:53:30.757223",
     "exception": false,
     "start_time": "2024-05-11T17:53:30.685092",
     "status": "completed"
    },
    "tags": []
   },
   "outputs": [
    {
     "name": "stdout",
     "output_type": "stream",
     "text": [
      "Maximum of url length:: 2164\n",
      "Minimum of url length:: 1\n"
     ]
    }
   ],
   "source": [
    "print(\"Maximum of url length::\",urldata[\"url_len\"].max())\n",
    "print(\"Minimum of url length::\",urldata[\"url_len\"].min())"
   ]
  },
  {
   "cell_type": "markdown",
   "id": "ff3ff60b",
   "metadata": {
    "papermill": {
     "duration": 0.05645,
     "end_time": "2024-05-11T17:53:30.871512",
     "exception": false,
     "start_time": "2024-05-11T17:53:30.815062",
     "status": "completed"
    },
    "tags": []
   },
   "source": [
    "### 7.8. Max and Min of \"url_depth\""
   ]
  },
  {
   "cell_type": "code",
   "execution_count": 62,
   "id": "70c46183",
   "metadata": {
    "execution": {
     "iopub.execute_input": "2024-05-11T17:53:30.988302Z",
     "iopub.status.busy": "2024-05-11T17:53:30.987844Z",
     "iopub.status.idle": "2024-05-11T17:53:30.996961Z",
     "shell.execute_reply": "2024-05-11T17:53:30.995071Z"
    },
    "papermill": {
     "duration": 0.070085,
     "end_time": "2024-05-11T17:53:30.999410",
     "exception": false,
     "start_time": "2024-05-11T17:53:30.929325",
     "status": "completed"
    },
    "tags": []
   },
   "outputs": [
    {
     "name": "stdout",
     "output_type": "stream",
     "text": [
      "Maximum of url depth:: 35\n",
      "Minimum of url length:: 0\n"
     ]
    }
   ],
   "source": [
    "print(\"Maximum of url depth::\",urldata[\"url_dep\"].max())\n",
    "print(\"Minimum of url length::\",urldata[\"url_dep\"].min())"
   ]
  },
  {
   "cell_type": "markdown",
   "id": "2175a7d9",
   "metadata": {
    "papermill": {
     "duration": 0.056631,
     "end_time": "2024-05-11T17:53:31.116560",
     "exception": false,
     "start_time": "2024-05-11T17:53:31.059929",
     "status": "completed"
    },
    "tags": []
   },
   "source": [
    "## 8. Data Visualization "
   ]
  },
  {
   "cell_type": "markdown",
   "id": "0fa2cbd3",
   "metadata": {
    "papermill": {
     "duration": 0.056705,
     "end_time": "2024-05-11T17:53:31.230086",
     "exception": false,
     "start_time": "2024-05-11T17:53:31.173381",
     "status": "completed"
    },
    "tags": []
   },
   "source": [
    "### 8.1. Plotting the data distribution"
   ]
  },
  {
   "cell_type": "code",
   "execution_count": 63,
   "id": "cab3a9d4",
   "metadata": {
    "execution": {
     "iopub.execute_input": "2024-05-11T17:53:31.347113Z",
     "iopub.status.busy": "2024-05-11T17:53:31.346643Z",
     "iopub.status.idle": "2024-05-11T17:53:35.247329Z",
     "shell.execute_reply": "2024-05-11T17:53:35.245838Z"
    },
    "papermill": {
     "duration": 3.964275,
     "end_time": "2024-05-11T17:53:35.251117",
     "exception": false,
     "start_time": "2024-05-11T17:53:31.286842",
     "status": "completed"
    },
    "tags": []
   },
   "outputs": [
    {
     "data": {
      "image/png": "[encoded data removed]",
      "text/plain": [
       "<Figure size 1500x1500 with 16 Axes>"
      ]
     },
     "metadata": {},
     "output_type": "display_data"
    }
   ],
   "source": [
    "urldata.hist(bins = 50,figsize = (15,15))\n",
    "plt.show()"
   ]
  },
  {
   "cell_type": "markdown",
   "id": "5d389914",
   "metadata": {
    "papermill": {
     "duration": 0.059614,
     "end_time": "2024-05-11T17:53:35.373302",
     "exception": false,
     "start_time": "2024-05-11T17:53:35.313688",
     "status": "completed"
    },
    "tags": []
   },
   "source": [
    "### 8.2. Correlation heatmap"
   ]
  },
  {
   "cell_type": "code",
   "execution_count": 64,
   "id": "bdcbf0f3",
   "metadata": {
    "execution": {
     "iopub.execute_input": "2024-05-11T17:53:35.497687Z",
     "iopub.status.busy": "2024-05-11T17:53:35.496784Z",
     "iopub.status.idle": "2024-05-11T17:53:36.608355Z",
     "shell.execute_reply": "2024-05-11T17:53:36.606608Z"
    },
    "papermill": {
     "duration": 1.178249,
     "end_time": "2024-05-11T17:53:36.612420",
     "exception": false,
     "start_time": "2024-05-11T17:53:35.434171",
     "status": "completed"
    },
    "tags": []
   },
   "outputs": [
    {
     "data": {
      "image/png": "[encoded data removed]",
      "text/plain": [
       "<Figure size 1500x1300 with 2 Axes>"
      ]
     },
     "metadata": {},
     "output_type": "display_data"
    }
   ],
   "source": [
    "# import matplotlib.pyplot as plt\n",
    "# plt.figure(figsize=(15,13))\n",
    "# sns.heatmap(urldata.corr())\n",
    "# plt.show()\n",
    "\n",
    "plt.figure(figsize=(15,13))\n",
    "cor = np.abs(urldata.corr())\n",
    "sns.heatmap(cor, annot=True,cmap=plt.cm.Greens, vmin=-1, vmax=1)\n",
    "plt.show()"
   ]
  },
  {
   "cell_type": "markdown",
   "id": "653e0084",
   "metadata": {
    "papermill": {
     "duration": 0.066665,
     "end_time": "2024-05-11T17:53:36.744023",
     "exception": false,
     "start_time": "2024-05-11T17:53:36.677358",
     "status": "completed"
    },
    "tags": []
   },
   "source": [
    "## 8.3 Regplot"
   ]
  },
  {
   "cell_type": "markdown",
   "id": "bf63c705",
   "metadata": {
    "papermill": {
     "duration": 0.063162,
     "end_time": "2024-05-11T17:53:36.873136",
     "exception": false,
     "start_time": "2024-05-11T17:53:36.809974",
     "status": "completed"
    },
    "tags": []
   },
   "source": [
    "## 9. Splitting the Dataset"
   ]
  },
  {
   "cell_type": "code",
   "execution_count": 65,
   "id": "201c9c09",
   "metadata": {
    "execution": {
     "iopub.execute_input": "2024-05-11T17:53:37.009431Z",
     "iopub.status.busy": "2024-05-11T17:53:37.008458Z",
     "iopub.status.idle": "2024-05-11T17:53:37.021051Z",
     "shell.execute_reply": "2024-05-11T17:53:37.019548Z"
    },
    "papermill": {
     "duration": 0.084769,
     "end_time": "2024-05-11T17:53:37.024007",
     "exception": false,
     "start_time": "2024-05-11T17:53:36.939238",
     "status": "completed"
    },
    "tags": []
   },
   "outputs": [
    {
     "data": {
      "text/plain": [
       "((40949, 12), (40949,))"
      ]
     },
     "execution_count": 65,
     "metadata": {},
     "output_type": "execute_result"
    }
   ],
   "source": [
    "y = urldata['label']\n",
    "X = urldata.drop('label',axis=1)\n",
    "X.shape, y.shape"
   ]
  },
  {
   "cell_type": "code",
   "execution_count": 66,
   "id": "b45bc24c",
   "metadata": {
    "execution": {
     "iopub.execute_input": "2024-05-11T17:53:37.155333Z",
     "iopub.status.busy": "2024-05-11T17:53:37.154819Z",
     "iopub.status.idle": "2024-05-11T17:53:37.477521Z",
     "shell.execute_reply": "2024-05-11T17:53:37.476343Z"
    },
    "papermill": {
     "duration": 0.391269,
     "end_time": "2024-05-11T17:53:37.480221",
     "exception": false,
     "start_time": "2024-05-11T17:53:37.088952",
     "status": "completed"
    },
    "tags": []
   },
   "outputs": [
    {
     "data": {
      "text/plain": [
       "((24569, 12), (16380, 12))"
      ]
     },
     "execution_count": 66,
     "metadata": {},
     "output_type": "execute_result"
    }
   ],
   "source": [
    "# Splitting the dataset into train and test sets: 70-30 split\n",
    "from sklearn.model_selection import train_test_split\n",
    "\n",
    "X_train, X_test, y_train, y_test = train_test_split(X, y, \n",
    "                                                    test_size = 0.4, random_state = 12)\n",
    "X_train.shape, X_test.shape"
   ]
  },
  {
   "cell_type": "markdown",
   "id": "6061462b",
   "metadata": {
    "papermill": {
     "duration": 0.062511,
     "end_time": "2024-05-11T17:53:37.605701",
     "exception": false,
     "start_time": "2024-05-11T17:53:37.543190",
     "status": "completed"
    },
    "tags": []
   },
   "source": [
    "## 10. Machine Learning models and Training"
   ]
  },
  {
   "cell_type": "markdown",
   "id": "95c71b87",
   "metadata": {
    "papermill": {
     "duration": 0.062706,
     "end_time": "2024-05-11T17:53:37.733286",
     "exception": false,
     "start_time": "2024-05-11T17:53:37.670580",
     "status": "completed"
    },
    "tags": []
   },
   "source": [
    "This data set comes under classification problem, as the input URL is classified as phishing (1) or legitimate (0). The supervised machine learning models (classification) considered to train the dataset:\n",
    "\n",
    "- Decision Tree\n",
    "- Random Forest\n",
    "- XGBoost\n",
    "- Logistic Regression\n",
    "- Support Vectore Machines (SVM)\n",
    "- Multilayer perceptrons\n",
    "- Autoencoder Neural Network"
   ]
  },
  {
   "cell_type": "code",
   "execution_count": 67,
   "id": "9f27a95c",
   "metadata": {
    "execution": {
     "iopub.execute_input": "2024-05-11T17:53:37.865556Z",
     "iopub.status.busy": "2024-05-11T17:53:37.863962Z",
     "iopub.status.idle": "2024-05-11T17:53:37.869810Z",
     "shell.execute_reply": "2024-05-11T17:53:37.868919Z"
    },
    "papermill": {
     "duration": 0.072961,
     "end_time": "2024-05-11T17:53:37.872173",
     "exception": false,
     "start_time": "2024-05-11T17:53:37.799212",
     "status": "completed"
    },
    "tags": []
   },
   "outputs": [],
   "source": [
    "#importing packages\n",
    "from sklearn.metrics import accuracy_score"
   ]
  },
  {
   "cell_type": "code",
   "execution_count": 68,
   "id": "f508b8aa",
   "metadata": {
    "execution": {
     "iopub.execute_input": "2024-05-11T17:53:37.998796Z",
     "iopub.status.busy": "2024-05-11T17:53:37.998154Z",
     "iopub.status.idle": "2024-05-11T17:53:38.008886Z",
     "shell.execute_reply": "2024-05-11T17:53:38.007909Z"
    },
    "papermill": {
     "duration": 0.076971,
     "end_time": "2024-05-11T17:53:38.011318",
     "exception": false,
     "start_time": "2024-05-11T17:53:37.934347",
     "status": "completed"
    },
    "tags": []
   },
   "outputs": [],
   "source": [
    "# Creating holders to store the model performance results\n",
    "ML_Model = []\n",
    "acc_train = []\n",
    "acc_test = []\n",
    "\n",
    "#function to call for storing the results\n",
    "def storeResults(model, a,b):\n",
    "    ML_Model.append(model)\n",
    "    acc_train.append(round(a, 3))\n",
    "    acc_test.append(round(b, 3))"
   ]
  },
  {
   "cell_type": "markdown",
   "id": "59a585b5",
   "metadata": {
    "papermill": {
     "duration": 0.060653,
     "end_time": "2024-05-11T17:53:38.132679",
     "exception": false,
     "start_time": "2024-05-11T17:53:38.072026",
     "status": "completed"
    },
    "tags": []
   },
   "source": [
    "### 10.1. Decision Tree Classifier"
   ]
  },
  {
   "cell_type": "markdown",
   "id": "e072bed2",
   "metadata": {
    "papermill": {
     "duration": 0.062756,
     "end_time": "2024-05-11T17:53:38.256584",
     "exception": false,
     "start_time": "2024-05-11T17:53:38.193828",
     "status": "completed"
    },
    "tags": []
   },
   "source": [
    "Decision trees are widely used models for classification and regression tasks. Essentially, they learn a hierarchy of if/else questions, leading to a decision. Learning a decision tree means learning the sequence of if/else questions that gets us to the true answer most quickly.\n",
    "\n",
    "In the machine learning setting, these questions are called tests (not to be confused with the test set, which is the data we use to test to see how generalizable our model is). To build a tree, the algorithm searches over all possible tests and finds the one that is most informative about the target variable."
   ]
  },
  {
   "cell_type": "code",
   "execution_count": 69,
   "id": "a1fc9e14",
   "metadata": {
    "execution": {
     "iopub.execute_input": "2024-05-11T17:53:38.386577Z",
     "iopub.status.busy": "2024-05-11T17:53:38.385911Z",
     "iopub.status.idle": "2024-05-11T17:53:38.740729Z",
     "shell.execute_reply": "2024-05-11T17:53:38.739333Z"
    },
    "papermill": {
     "duration": 0.423719,
     "end_time": "2024-05-11T17:53:38.744007",
     "exception": false,
     "start_time": "2024-05-11T17:53:38.320288",
     "status": "completed"
    },
    "tags": []
   },
   "outputs": [
    {
     "data": {
      "text/html": [
       "<style>#sk-container-id-1 {color: black;background-color: white;}#sk-container-id-1 pre{padding: 0;}#sk-container-id-1 div.sk-toggleable {background-color: white;}#sk-container-id-1 label.sk-toggleable__label {cursor: pointer;display: block;width: 100%;margin-bottom: 0;padding: 0.3em;box-sizing: border-box;text-align: center;}#sk-container-id-1 label.sk-toggleable__label-arrow:before {content: \"▸\";float: left;margin-right: 0.25em;color: #696969;}#sk-container-id-1 label.sk-toggleable__label-arrow:hover:before {color: black;}#sk-container-id-1 div.sk-estimator:hover label.sk-toggleable__label-arrow:before {color: black;}#sk-container-id-1 div.sk-toggleable__content {max-height: 0;max-width: 0;overflow: hidden;text-align: left;background-color: #f0f8ff;}#sk-container-id-1 div.sk-toggleable__content pre {margin: 0.2em;color: black;border-radius: 0.25em;background-color: #f0f8ff;}#sk-container-id-1 input.sk-toggleable__control:checked~div.sk-toggleable__content {max-height: 200px;max-width: 100%;overflow: auto;}#sk-container-id-1 input.sk-toggleable__control:checked~label.sk-toggleable__label-arrow:before {content: \"▾\";}#sk-container-id-1 div.sk-estimator input.sk-toggleable__control:checked~label.sk-toggleable__label {background-color: #d4ebff;}#sk-container-id-1 div.sk-label input.sk-toggleable__control:checked~label.sk-toggleable__label {background-color: #d4ebff;}#sk-container-id-1 input.sk-hidden--visually {border: 0;clip: rect(1px 1px 1px 1px);clip: rect(1px, 1px, 1px, 1px);height: 1px;margin: -1px;overflow: hidden;padding: 0;position: absolute;width: 1px;}#sk-container-id-1 div.sk-estimator {font-family: monospace;background-color: #f0f8ff;border: 1px dotted black;border-radius: 0.25em;box-sizing: border-box;margin-bottom: 0.5em;}#sk-container-id-1 div.sk-estimator:hover {background-color: #d4ebff;}#sk-container-id-1 div.sk-parallel-item::after {content: \"\";width: 100%;border-bottom: 1px solid gray;flex-grow: 1;}#sk-container-id-1 div.sk-label:hover label.sk-toggleable__label {background-color: #d4ebff;}#sk-container-id-1 div.sk-serial::before {content: \"\";position: absolute;border-left: 1px solid gray;box-sizing: border-box;top: 0;bottom: 0;left: 50%;z-index: 0;}#sk-container-id-1 div.sk-serial {display: flex;flex-direction: column;align-items: center;background-color: white;padding-right: 0.2em;padding-left: 0.2em;position: relative;}#sk-container-id-1 div.sk-item {position: relative;z-index: 1;}#sk-container-id-1 div.sk-parallel {display: flex;align-items: stretch;justify-content: center;background-color: white;position: relative;}#sk-container-id-1 div.sk-item::before, #sk-container-id-1 div.sk-parallel-item::before {content: \"\";position: absolute;border-left: 1px solid gray;box-sizing: border-box;top: 0;bottom: 0;left: 50%;z-index: -1;}#sk-container-id-1 div.sk-parallel-item {display: flex;flex-direction: column;z-index: 1;position: relative;background-color: white;}#sk-container-id-1 div.sk-parallel-item:first-child::after {align-self: flex-end;width: 50%;}#sk-container-id-1 div.sk-parallel-item:last-child::after {align-self: flex-start;width: 50%;}#sk-container-id-1 div.sk-parallel-item:only-child::after {width: 0;}#sk-container-id-1 div.sk-dashed-wrapped {border: 1px dashed gray;margin: 0 0.4em 0.5em 0.4em;box-sizing: border-box;padding-bottom: 0.4em;background-color: white;}#sk-container-id-1 div.sk-label label {font-family: monospace;font-weight: bold;display: inline-block;line-height: 1.2em;}#sk-container-id-1 div.sk-label-container {text-align: center;}#sk-container-id-1 div.sk-container {/* jupyter's `normalize.less` sets `[hidden] { display: none; }` but bootstrap.min.css set `[hidden] { display: none !important; }` so we also need the `!important` here to be able to override the default hidden behavior on the sphinx rendered scikit-learn.org. See: https://github.com/scikit-learn/scikit-learn/issues/21755 */display: inline-block !important;position: relative;}#sk-container-id-1 div.sk-text-repr-fallback {display: none;}</style><div id=\"sk-container-id-1\" class=\"sk-top-container\"><div class=\"sk-text-repr-fallback\"><pre>DecisionTreeClassifier(max_depth=5)</pre><b>In a Jupyter environment, please rerun this cell to show the HTML representation or trust the notebook. <br />On GitHub, the HTML representation is unable to render, please try loading this page with nbviewer.org.</b></div><div class=\"sk-container\" hidden><div class=\"sk-item\"><div class=\"sk-estimator sk-toggleable\"><input class=\"sk-toggleable__control sk-hidden--visually\" id=\"sk-estimator-id-1\" type=\"checkbox\" checked><label for=\"sk-estimator-id-1\" class=\"sk-toggleable__label sk-toggleable__label-arrow\">DecisionTreeClassifier</label><div class=\"sk-toggleable__content\"><pre>DecisionTreeClassifier(max_depth=5)</pre></div></div></div></div></div>"
      ],
      "text/plain": [
       "DecisionTreeClassifier(max_depth=5)"
      ]
     },
     "execution_count": 69,
     "metadata": {},
     "output_type": "execute_result"
    }
   ],
   "source": [
    "# Decision Tree model \n",
    "from sklearn.tree import DecisionTreeClassifier\n",
    "\n",
    "# instantiate the model \n",
    "tree = DecisionTreeClassifier(max_depth = 5)\n",
    "# fit the model \n",
    "tree.fit(X_train, y_train)"
   ]
  },
  {
   "cell_type": "code",
   "execution_count": 70,
   "id": "a8c29a33",
   "metadata": {
    "execution": {
     "iopub.execute_input": "2024-05-11T17:53:38.879246Z",
     "iopub.status.busy": "2024-05-11T17:53:38.878811Z",
     "iopub.status.idle": "2024-05-11T17:53:38.890767Z",
     "shell.execute_reply": "2024-05-11T17:53:38.889437Z"
    },
    "papermill": {
     "duration": 0.081839,
     "end_time": "2024-05-11T17:53:38.894334",
     "exception": false,
     "start_time": "2024-05-11T17:53:38.812495",
     "status": "completed"
    },
    "tags": []
   },
   "outputs": [],
   "source": [
    "#predicting the target value from the model for the samples\n",
    "y_test_tree = tree.predict(X_test)\n",
    "y_train_tree = tree.predict(X_train)"
   ]
  },
  {
   "cell_type": "markdown",
   "id": "54ee538f",
   "metadata": {
    "papermill": {
     "duration": 0.066852,
     "end_time": "2024-05-11T17:53:39.027037",
     "exception": false,
     "start_time": "2024-05-11T17:53:38.960185",
     "status": "completed"
    },
    "tags": []
   },
   "source": [
    "#### Performance Evaluation"
   ]
  },
  {
   "cell_type": "code",
   "execution_count": 71,
   "id": "9a526bce",
   "metadata": {
    "execution": {
     "iopub.execute_input": "2024-05-11T17:53:39.160725Z",
     "iopub.status.busy": "2024-05-11T17:53:39.160213Z",
     "iopub.status.idle": "2024-05-11T17:53:39.173342Z",
     "shell.execute_reply": "2024-05-11T17:53:39.171577Z"
    },
    "papermill": {
     "duration": 0.08339,
     "end_time": "2024-05-11T17:53:39.176151",
     "exception": false,
     "start_time": "2024-05-11T17:53:39.092761",
     "status": "completed"
    },
    "tags": []
   },
   "outputs": [
    {
     "name": "stdout",
     "output_type": "stream",
     "text": [
      "Decision Tree: Accuracy on training Data: 1.000\n",
      "Decision Tree: Accuracy on test Data: 1.000\n"
     ]
    }
   ],
   "source": [
    "#computing the accuracy of the model performance\n",
    "acc_train_tree = accuracy_score(y_train,y_train_tree)\n",
    "acc_test_tree = accuracy_score(y_test,y_test_tree)\n",
    "\n",
    "print(\"Decision Tree: Accuracy on training Data: {:.3f}\".format(acc_train_tree))\n",
    "print(\"Decision Tree: Accuracy on test Data: {:.3f}\".format(acc_test_tree))"
   ]
  },
  {
   "cell_type": "code",
   "execution_count": 72,
   "id": "d8fb1b32",
   "metadata": {
    "execution": {
     "iopub.execute_input": "2024-05-11T17:53:39.308878Z",
     "iopub.status.busy": "2024-05-11T17:53:39.308408Z",
     "iopub.status.idle": "2024-05-11T17:53:39.623156Z",
     "shell.execute_reply": "2024-05-11T17:53:39.621681Z"
    },
    "papermill": {
     "duration": 0.385131,
     "end_time": "2024-05-11T17:53:39.626002",
     "exception": false,
     "start_time": "2024-05-11T17:53:39.240871",
     "status": "completed"
    },
    "tags": []
   },
   "outputs": [
    {
     "data": {
      "image/png": "[encoded data removed]",
      "text/plain": [
       "<Figure size 900x700 with 1 Axes>"
      ]
     },
     "metadata": {},
     "output_type": "display_data"
    }
   ],
   "source": [
    "\n",
    "#checking the feature improtance in the model\n",
    "plt.figure(figsize=(9,7))\n",
    "n_features = X_train.shape[1]\n",
    "plt.barh(range(n_features), tree.feature_importances_, align='center')\n",
    "plt.yticks(np.arange(n_features), X_train.columns)\n",
    "plt.xlabel(\"Feature importance\")\n",
    "plt.ylabel(\"Feature\")\n",
    "plt.show()"
   ]
  },
  {
   "cell_type": "markdown",
   "id": "4e031a00",
   "metadata": {
    "papermill": {
     "duration": 0.063016,
     "end_time": "2024-05-11T17:53:39.751167",
     "exception": false,
     "start_time": "2024-05-11T17:53:39.688151",
     "status": "completed"
    },
    "tags": []
   },
   "source": [
    "#### Storing Results:"
   ]
  },
  {
   "cell_type": "code",
   "execution_count": 73,
   "id": "7a53ee65",
   "metadata": {
    "execution": {
     "iopub.execute_input": "2024-05-11T17:53:39.878753Z",
     "iopub.status.busy": "2024-05-11T17:53:39.878196Z",
     "iopub.status.idle": "2024-05-11T17:53:39.884351Z",
     "shell.execute_reply": "2024-05-11T17:53:39.883383Z"
    },
    "papermill": {
     "duration": 0.072557,
     "end_time": "2024-05-11T17:53:39.886740",
     "exception": false,
     "start_time": "2024-05-11T17:53:39.814183",
     "status": "completed"
    },
    "tags": []
   },
   "outputs": [],
   "source": [
    "#storing the results. The below mentioned order of parameter passing is important.\n",
    "#Caution: Execute only once to avoid duplications.\n",
    "storeResults('Decision Tree', acc_train_tree, acc_test_tree)"
   ]
  },
  {
   "cell_type": "markdown",
   "id": "80db1dc6",
   "metadata": {
    "papermill": {
     "duration": 0.067687,
     "end_time": "2024-05-11T17:53:40.017273",
     "exception": false,
     "start_time": "2024-05-11T17:53:39.949586",
     "status": "completed"
    },
    "tags": []
   },
   "source": [
    "### 10.2. Random Forest"
   ]
  },
  {
   "cell_type": "markdown",
   "id": "d5cdc4de",
   "metadata": {
    "papermill": {
     "duration": 0.061609,
     "end_time": "2024-05-11T17:53:40.141364",
     "exception": false,
     "start_time": "2024-05-11T17:53:40.079755",
     "status": "completed"
    },
    "tags": []
   },
   "source": [
    "Random forests for regression and classification are currently among the most widely used machine learning methods.A random forest is essentially a collection of decision trees, where each tree is slightly different from the others. The idea behind random forests is that each tree might do a relatively good job of predicting, but will likely overfit on part of the data.\n",
    "\n",
    "If we build many trees, all of which work well and overfit in different ways, we can reduce the amount of overfitting by averaging their results. To build a random forest model, you need to decide on the number of trees to build (the n_estimators parameter of RandomForestRegressor or RandomForestClassifier). They are very powerful, often work well without heavy tuning of the parameters, and don’t require scaling of the data."
   ]
  },
  {
   "cell_type": "code",
   "execution_count": 74,
   "id": "41060fbf",
   "metadata": {
    "execution": {
     "iopub.execute_input": "2024-05-11T17:53:40.269863Z",
     "iopub.status.busy": "2024-05-11T17:53:40.268922Z",
     "iopub.status.idle": "2024-05-11T17:53:41.160630Z",
     "shell.execute_reply": "2024-05-11T17:53:41.159054Z"
    },
    "papermill": {
     "duration": 0.959076,
     "end_time": "2024-05-11T17:53:41.163625",
     "exception": false,
     "start_time": "2024-05-11T17:53:40.204549",
     "status": "completed"
    },
    "tags": []
   },
   "outputs": [
    {
     "data": {
      "text/html": [
       "<style>#sk-container-id-2 {color: black;background-color: white;}#sk-container-id-2 pre{padding: 0;}#sk-container-id-2 div.sk-toggleable {background-color: white;}#sk-container-id-2 label.sk-toggleable__label {cursor: pointer;display: block;width: 100%;margin-bottom: 0;padding: 0.3em;box-sizing: border-box;text-align: center;}#sk-container-id-2 label.sk-toggleable__label-arrow:before {content: \"▸\";float: left;margin-right: 0.25em;color: #696969;}#sk-container-id-2 label.sk-toggleable__label-arrow:hover:before {color: black;}#sk-container-id-2 div.sk-estimator:hover label.sk-toggleable__label-arrow:before {color: black;}#sk-container-id-2 div.sk-toggleable__content {max-height: 0;max-width: 0;overflow: hidden;text-align: left;background-color: #f0f8ff;}#sk-container-id-2 div.sk-toggleable__content pre {margin: 0.2em;color: black;border-radius: 0.25em;background-color: #f0f8ff;}#sk-container-id-2 input.sk-toggleable__control:checked~div.sk-toggleable__content {max-height: 200px;max-width: 100%;overflow: auto;}#sk-container-id-2 input.sk-toggleable__control:checked~label.sk-toggleable__label-arrow:before {content: \"▾\";}#sk-container-id-2 div.sk-estimator input.sk-toggleable__control:checked~label.sk-toggleable__label {background-color: #d4ebff;}#sk-container-id-2 div.sk-label input.sk-toggleable__control:checked~label.sk-toggleable__label {background-color: #d4ebff;}#sk-container-id-2 input.sk-hidden--visually {border: 0;clip: rect(1px 1px 1px 1px);clip: rect(1px, 1px, 1px, 1px);height: 1px;margin: -1px;overflow: hidden;padding: 0;position: absolute;width: 1px;}#sk-container-id-2 div.sk-estimator {font-family: monospace;background-color: #f0f8ff;border: 1px dotted black;border-radius: 0.25em;box-sizing: border-box;margin-bottom: 0.5em;}#sk-container-id-2 div.sk-estimator:hover {background-color: #d4ebff;}#sk-container-id-2 div.sk-parallel-item::after {content: \"\";width: 100%;border-bottom: 1px solid gray;flex-grow: 1;}#sk-container-id-2 div.sk-label:hover label.sk-toggleable__label {background-color: #d4ebff;}#sk-container-id-2 div.sk-serial::before {content: \"\";position: absolute;border-left: 1px solid gray;box-sizing: border-box;top: 0;bottom: 0;left: 50%;z-index: 0;}#sk-container-id-2 div.sk-serial {display: flex;flex-direction: column;align-items: center;background-color: white;padding-right: 0.2em;padding-left: 0.2em;position: relative;}#sk-container-id-2 div.sk-item {position: relative;z-index: 1;}#sk-container-id-2 div.sk-parallel {display: flex;align-items: stretch;justify-content: center;background-color: white;position: relative;}#sk-container-id-2 div.sk-item::before, #sk-container-id-2 div.sk-parallel-item::before {content: \"\";position: absolute;border-left: 1px solid gray;box-sizing: border-box;top: 0;bottom: 0;left: 50%;z-index: -1;}#sk-container-id-2 div.sk-parallel-item {display: flex;flex-direction: column;z-index: 1;position: relative;background-color: white;}#sk-container-id-2 div.sk-parallel-item:first-child::after {align-self: flex-end;width: 50%;}#sk-container-id-2 div.sk-parallel-item:last-child::after {align-self: flex-start;width: 50%;}#sk-container-id-2 div.sk-parallel-item:only-child::after {width: 0;}#sk-container-id-2 div.sk-dashed-wrapped {border: 1px dashed gray;margin: 0 0.4em 0.5em 0.4em;box-sizing: border-box;padding-bottom: 0.4em;background-color: white;}#sk-container-id-2 div.sk-label label {font-family: monospace;font-weight: bold;display: inline-block;line-height: 1.2em;}#sk-container-id-2 div.sk-label-container {text-align: center;}#sk-container-id-2 div.sk-container {/* jupyter's `normalize.less` sets `[hidden] { display: none; }` but bootstrap.min.css set `[hidden] { display: none !important; }` so we also need the `!important` here to be able to override the default hidden behavior on the sphinx rendered scikit-learn.org. See: https://github.com/scikit-learn/scikit-learn/issues/21755 */display: inline-block !important;position: relative;}#sk-container-id-2 div.sk-text-repr-fallback {display: none;}</style><div id=\"sk-container-id-2\" class=\"sk-top-container\"><div class=\"sk-text-repr-fallback\"><pre>RandomForestClassifier(max_depth=16)</pre><b>In a Jupyter environment, please rerun this cell to show the HTML representation or trust the notebook. <br />On GitHub, the HTML representation is unable to render, please try loading this page with nbviewer.org.</b></div><div class=\"sk-container\" hidden><div class=\"sk-item\"><div class=\"sk-estimator sk-toggleable\"><input class=\"sk-toggleable__control sk-hidden--visually\" id=\"sk-estimator-id-2\" type=\"checkbox\" checked><label for=\"sk-estimator-id-2\" class=\"sk-toggleable__label sk-toggleable__label-arrow\">RandomForestClassifier</label><div class=\"sk-toggleable__content\"><pre>RandomForestClassifier(max_depth=16)</pre></div></div></div></div></div>"
      ],
      "text/plain": [
       "RandomForestClassifier(max_depth=16)"
      ]
     },
     "execution_count": 74,
     "metadata": {},
     "output_type": "execute_result"
    }
   ],
   "source": [
    "# Random Forest model\n",
    "from sklearn.ensemble import RandomForestClassifier\n",
    "\n",
    "# instantiate the model\n",
    "forest = RandomForestClassifier(max_depth=16)\n",
    "\n",
    "# fit the model \n",
    "forest.fit(X_train, y_train)"
   ]
  },
  {
   "cell_type": "code",
   "execution_count": 75,
   "id": "eeeb7139",
   "metadata": {
    "execution": {
     "iopub.execute_input": "2024-05-11T17:53:41.296663Z",
     "iopub.status.busy": "2024-05-11T17:53:41.295807Z",
     "iopub.status.idle": "2024-05-11T17:53:41.557419Z",
     "shell.execute_reply": "2024-05-11T17:53:41.556039Z"
    },
    "papermill": {
     "duration": 0.330781,
     "end_time": "2024-05-11T17:53:41.560574",
     "exception": false,
     "start_time": "2024-05-11T17:53:41.229793",
     "status": "completed"
    },
    "tags": []
   },
   "outputs": [],
   "source": [
    "#predicting the target value from the model for the samples\n",
    "y_test_forest = forest.predict(X_test)\n",
    "y_train_forest = forest.predict(X_train)"
   ]
  },
  {
   "cell_type": "markdown",
   "id": "fdbb89f1",
   "metadata": {
    "papermill": {
     "duration": 0.062749,
     "end_time": "2024-05-11T17:53:41.686255",
     "exception": false,
     "start_time": "2024-05-11T17:53:41.623506",
     "status": "completed"
    },
    "tags": []
   },
   "source": [
    "#### Performance Evaluation"
   ]
  },
  {
   "cell_type": "code",
   "execution_count": 76,
   "id": "39b24b66",
   "metadata": {
    "execution": {
     "iopub.execute_input": "2024-05-11T17:53:41.812889Z",
     "iopub.status.busy": "2024-05-11T17:53:41.812439Z",
     "iopub.status.idle": "2024-05-11T17:53:41.826110Z",
     "shell.execute_reply": "2024-05-11T17:53:41.824536Z"
    },
    "papermill": {
     "duration": 0.079801,
     "end_time": "2024-05-11T17:53:41.828543",
     "exception": false,
     "start_time": "2024-05-11T17:53:41.748742",
     "status": "completed"
    },
    "tags": []
   },
   "outputs": [
    {
     "name": "stdout",
     "output_type": "stream",
     "text": [
      "Random forest: Accuracy on training Data: 1.000\n",
      "Random forest: Accuracy on test Data: 1.000\n"
     ]
    }
   ],
   "source": [
    "\n",
    "#computing the accuracy of the model performance\n",
    "acc_train_forest = accuracy_score(y_train,y_train_forest)\n",
    "acc_test_forest = accuracy_score(y_test,y_test_forest)\n",
    "\n",
    "print(\"Random forest: Accuracy on training Data: {:.3f}\".format(acc_train_forest))\n",
    "print(\"Random forest: Accuracy on test Data: {:.3f}\".format(acc_test_forest))"
   ]
  },
  {
   "cell_type": "code",
   "execution_count": 77,
   "id": "ad1b8581",
   "metadata": {
    "execution": {
     "iopub.execute_input": "2024-05-11T17:53:41.958154Z",
     "iopub.status.busy": "2024-05-11T17:53:41.957336Z",
     "iopub.status.idle": "2024-05-11T17:53:42.252612Z",
     "shell.execute_reply": "2024-05-11T17:53:42.251154Z"
    },
    "papermill": {
     "duration": 0.364029,
     "end_time": "2024-05-11T17:53:42.255983",
     "exception": false,
     "start_time": "2024-05-11T17:53:41.891954",
     "status": "completed"
    },
    "tags": []
   },
   "outputs": [
    {
     "data": {
      "image/png": "[encoded data removed]",
      "text/plain": [
       "<Figure size 900x700 with 1 Axes>"
      ]
     },
     "metadata": {},
     "output_type": "display_data"
    }
   ],
   "source": [
    "#checking the feature improtance in the model\n",
    "plt.figure(figsize=(9,7))\n",
    "n_features = X_train.shape[1]\n",
    "plt.barh(range(n_features), forest.feature_importances_, align='center')\n",
    "plt.yticks(np.arange(n_features), X_train.columns)\n",
    "plt.xlabel(\"Feature importance\")\n",
    "plt.ylabel(\"Feature\")\n",
    "plt.show()"
   ]
  },
  {
   "cell_type": "markdown",
   "id": "e95bb3f7",
   "metadata": {
    "papermill": {
     "duration": 0.066321,
     "end_time": "2024-05-11T17:53:42.389434",
     "exception": false,
     "start_time": "2024-05-11T17:53:42.323113",
     "status": "completed"
    },
    "tags": []
   },
   "source": [
    "#### Storing Results"
   ]
  },
  {
   "cell_type": "code",
   "execution_count": 78,
   "id": "066cc9b8",
   "metadata": {
    "execution": {
     "iopub.execute_input": "2024-05-11T17:53:42.523745Z",
     "iopub.status.busy": "2024-05-11T17:53:42.522573Z",
     "iopub.status.idle": "2024-05-11T17:53:42.528774Z",
     "shell.execute_reply": "2024-05-11T17:53:42.527689Z"
    },
    "papermill": {
     "duration": 0.076468,
     "end_time": "2024-05-11T17:53:42.531496",
     "exception": false,
     "start_time": "2024-05-11T17:53:42.455028",
     "status": "completed"
    },
    "tags": []
   },
   "outputs": [],
   "source": [
    "#storing the results. The below mentioned order of parameter passing is important.\n",
    "#Caution: Execute only once to avoid duplications.\n",
    "storeResults('Random Forest', acc_train_forest, acc_test_forest)"
   ]
  },
  {
   "cell_type": "markdown",
   "id": "1e76209b",
   "metadata": {
    "papermill": {
     "duration": 0.06482,
     "end_time": "2024-05-11T17:53:42.661731",
     "exception": false,
     "start_time": "2024-05-11T17:53:42.596911",
     "status": "completed"
    },
    "tags": []
   },
   "source": [
    "### 10.3. XGBoost"
   ]
  },
  {
   "cell_type": "markdown",
   "id": "a5eb95f1",
   "metadata": {
    "papermill": {
     "duration": 0.064599,
     "end_time": "2024-05-11T17:53:42.792142",
     "exception": false,
     "start_time": "2024-05-11T17:53:42.727543",
     "status": "completed"
    },
    "tags": []
   },
   "source": [
    "XGBoost is one of the most popular machine learning algorithms these days. XGBoost stands for eXtreme Gradient Boosting. Regardless of the type of prediction task at hand; regression or classification. XGBoost is an implementation of gradient boosted decision trees designed for speed and performance."
   ]
  },
  {
   "cell_type": "code",
   "execution_count": 79,
   "id": "221a1816",
   "metadata": {
    "execution": {
     "iopub.execute_input": "2024-05-11T17:53:42.927248Z",
     "iopub.status.busy": "2024-05-11T17:53:42.926821Z",
     "iopub.status.idle": "2024-05-11T17:53:43.505232Z",
     "shell.execute_reply": "2024-05-11T17:53:43.503942Z"
    },
    "papermill": {
     "duration": 0.649156,
     "end_time": "2024-05-11T17:53:43.508652",
     "exception": false,
     "start_time": "2024-05-11T17:53:42.859496",
     "status": "completed"
    },
    "tags": []
   },
   "outputs": [
    {
     "data": {
      "text/html": [
       "<style>#sk-container-id-3 {color: black;background-color: white;}#sk-container-id-3 pre{padding: 0;}#sk-container-id-3 div.sk-toggleable {background-color: white;}#sk-container-id-3 label.sk-toggleable__label {cursor: pointer;display: block;width: 100%;margin-bottom: 0;padding: 0.3em;box-sizing: border-box;text-align: center;}#sk-container-id-3 label.sk-toggleable__label-arrow:before {content: \"▸\";float: left;margin-right: 0.25em;color: #696969;}#sk-container-id-3 label.sk-toggleable__label-arrow:hover:before {color: black;}#sk-container-id-3 div.sk-estimator:hover label.sk-toggleable__label-arrow:before {color: black;}#sk-container-id-3 div.sk-toggleable__content {max-height: 0;max-width: 0;overflow: hidden;text-align: left;background-color: #f0f8ff;}#sk-container-id-3 div.sk-toggleable__content pre {margin: 0.2em;color: black;border-radius: 0.25em;background-color: #f0f8ff;}#sk-container-id-3 input.sk-toggleable__control:checked~div.sk-toggleable__content {max-height: 200px;max-width: 100%;overflow: auto;}#sk-container-id-3 input.sk-toggleable__control:checked~label.sk-toggleable__label-arrow:before {content: \"▾\";}#sk-container-id-3 div.sk-estimator input.sk-toggleable__control:checked~label.sk-toggleable__label {background-color: #d4ebff;}#sk-container-id-3 div.sk-label input.sk-toggleable__control:checked~label.sk-toggleable__label {background-color: #d4ebff;}#sk-container-id-3 input.sk-hidden--visually {border: 0;clip: rect(1px 1px 1px 1px);clip: rect(1px, 1px, 1px, 1px);height: 1px;margin: -1px;overflow: hidden;padding: 0;position: absolute;width: 1px;}#sk-container-id-3 div.sk-estimator {font-family: monospace;background-color: #f0f8ff;border: 1px dotted black;border-radius: 0.25em;box-sizing: border-box;margin-bottom: 0.5em;}#sk-container-id-3 div.sk-estimator:hover {background-color: #d4ebff;}#sk-container-id-3 div.sk-parallel-item::after {content: \"\";width: 100%;border-bottom: 1px solid gray;flex-grow: 1;}#sk-container-id-3 div.sk-label:hover label.sk-toggleable__label {background-color: #d4ebff;}#sk-container-id-3 div.sk-serial::before {content: \"\";position: absolute;border-left: 1px solid gray;box-sizing: border-box;top: 0;bottom: 0;left: 50%;z-index: 0;}#sk-container-id-3 div.sk-serial {display: flex;flex-direction: column;align-items: center;background-color: white;padding-right: 0.2em;padding-left: 0.2em;position: relative;}#sk-container-id-3 div.sk-item {position: relative;z-index: 1;}#sk-container-id-3 div.sk-parallel {display: flex;align-items: stretch;justify-content: center;background-color: white;position: relative;}#sk-container-id-3 div.sk-item::before, #sk-container-id-3 div.sk-parallel-item::before {content: \"\";position: absolute;border-left: 1px solid gray;box-sizing: border-box;top: 0;bottom: 0;left: 50%;z-index: -1;}#sk-container-id-3 div.sk-parallel-item {display: flex;flex-direction: column;z-index: 1;position: relative;background-color: white;}#sk-container-id-3 div.sk-parallel-item:first-child::after {align-self: flex-end;width: 50%;}#sk-container-id-3 div.sk-parallel-item:last-child::after {align-self: flex-start;width: 50%;}#sk-container-id-3 div.sk-parallel-item:only-child::after {width: 0;}#sk-container-id-3 div.sk-dashed-wrapped {border: 1px dashed gray;margin: 0 0.4em 0.5em 0.4em;box-sizing: border-box;padding-bottom: 0.4em;background-color: white;}#sk-container-id-3 div.sk-label label {font-family: monospace;font-weight: bold;display: inline-block;line-height: 1.2em;}#sk-container-id-3 div.sk-label-container {text-align: center;}#sk-container-id-3 div.sk-container {/* jupyter's `normalize.less` sets `[hidden] { display: none; }` but bootstrap.min.css set `[hidden] { display: none !important; }` so we also need the `!important` here to be able to override the default hidden behavior on the sphinx rendered scikit-learn.org. See: https://github.com/scikit-learn/scikit-learn/issues/21755 */display: inline-block !important;position: relative;}#sk-container-id-3 div.sk-text-repr-fallback {display: none;}</style><div id=\"sk-container-id-3\" class=\"sk-top-container\"><div class=\"sk-text-repr-fallback\"><pre>XGBClassifier(base_score=None, booster=None, callbacks=None,\n",
       "              colsample_bylevel=None, colsample_bynode=None,\n",
       "              colsample_bytree=None, early_stopping_rounds=None,\n",
       "              enable_categorical=False, eval_metric=None, feature_types=None,\n",
       "              gamma=None, gpu_id=None, grow_policy=None, importance_type=None,\n",
       "              interaction_constraints=None, learning_rate=0.4, max_bin=None,\n",
       "              max_cat_threshold=None, max_cat_to_onehot=None,\n",
       "              max_delta_step=None, max_depth=7, max_leaves=None,\n",
       "              min_child_weight=None, missing=nan, monotone_constraints=None,\n",
       "              n_estimators=100, n_jobs=None, num_parallel_tree=None,\n",
       "              predictor=None, random_state=None, ...)</pre><b>In a Jupyter environment, please rerun this cell to show the HTML representation or trust the notebook. <br />On GitHub, the HTML representation is unable to render, please try loading this page with nbviewer.org.</b></div><div class=\"sk-container\" hidden><div class=\"sk-item\"><div class=\"sk-estimator sk-toggleable\"><input class=\"sk-toggleable__control sk-hidden--visually\" id=\"sk-estimator-id-3\" type=\"checkbox\" checked><label for=\"sk-estimator-id-3\" class=\"sk-toggleable__label sk-toggleable__label-arrow\">XGBClassifier</label><div class=\"sk-toggleable__content\"><pre>XGBClassifier(base_score=None, booster=None, callbacks=None,\n",
       "              colsample_bylevel=None, colsample_bynode=None,\n",
       "              colsample_bytree=None, early_stopping_rounds=None,\n",
       "              enable_categorical=False, eval_metric=None, feature_types=None,\n",
       "              gamma=None, gpu_id=None, grow_policy=None, importance_type=None,\n",
       "              interaction_constraints=None, learning_rate=0.4, max_bin=None,\n",
       "              max_cat_threshold=None, max_cat_to_onehot=None,\n",
       "              max_delta_step=None, max_depth=7, max_leaves=None,\n",
       "              min_child_weight=None, missing=nan, monotone_constraints=None,\n",
       "              n_estimators=100, n_jobs=None, num_parallel_tree=None,\n",
       "              predictor=None, random_state=None, ...)</pre></div></div></div></div></div>"
      ],
      "text/plain": [
       "XGBClassifier(base_score=None, booster=None, callbacks=None,\n",
       "              colsample_bylevel=None, colsample_bynode=None,\n",
       "              colsample_bytree=None, early_stopping_rounds=None,\n",
       "              enable_categorical=False, eval_metric=None, feature_types=None,\n",
       "              gamma=None, gpu_id=None, grow_policy=None, importance_type=None,\n",
       "              interaction_constraints=None, learning_rate=0.4, max_bin=None,\n",
       "              max_cat_threshold=None, max_cat_to_onehot=None,\n",
       "              max_delta_step=None, max_depth=7, max_leaves=None,\n",
       "              min_child_weight=None, missing=nan, monotone_constraints=None,\n",
       "              n_estimators=100, n_jobs=None, num_parallel_tree=None,\n",
       "              predictor=None, random_state=None, ...)"
      ]
     },
     "execution_count": 79,
     "metadata": {},
     "output_type": "execute_result"
    }
   ],
   "source": [
    "#XGBoost Classification model\n",
    "from xgboost import XGBClassifier\n",
    "\n",
    "# instantiate the model\n",
    "xgb = XGBClassifier(learning_rate=0.4,max_depth=7)\n",
    "#fit the model\n",
    "xgb.fit(X_train, y_train)"
   ]
  },
  {
   "cell_type": "code",
   "execution_count": 80,
   "id": "67ea7b92",
   "metadata": {
    "execution": {
     "iopub.execute_input": "2024-05-11T17:53:43.645812Z",
     "iopub.status.busy": "2024-05-11T17:53:43.644189Z",
     "iopub.status.idle": "2024-05-11T17:53:43.669819Z",
     "shell.execute_reply": "2024-05-11T17:53:43.668736Z"
    },
    "papermill": {
     "duration": 0.096414,
     "end_time": "2024-05-11T17:53:43.672638",
     "exception": false,
     "start_time": "2024-05-11T17:53:43.576224",
     "status": "completed"
    },
    "tags": []
   },
   "outputs": [],
   "source": [
    "#predicting the target value from the model for the samples\n",
    "y_test_xgb = xgb.predict(X_test)\n",
    "y_train_xgb = xgb.predict(X_train)"
   ]
  },
  {
   "cell_type": "markdown",
   "id": "973c3793",
   "metadata": {
    "papermill": {
     "duration": 0.064139,
     "end_time": "2024-05-11T17:53:43.805306",
     "exception": false,
     "start_time": "2024-05-11T17:53:43.741167",
     "status": "completed"
    },
    "tags": []
   },
   "source": [
    "#### Performance Evaluation"
   ]
  },
  {
   "cell_type": "code",
   "execution_count": 81,
   "id": "cdc189aa",
   "metadata": {
    "execution": {
     "iopub.execute_input": "2024-05-11T17:53:43.940159Z",
     "iopub.status.busy": "2024-05-11T17:53:43.939251Z",
     "iopub.status.idle": "2024-05-11T17:53:43.952042Z",
     "shell.execute_reply": "2024-05-11T17:53:43.950440Z"
    },
    "papermill": {
     "duration": 0.082436,
     "end_time": "2024-05-11T17:53:43.955653",
     "exception": false,
     "start_time": "2024-05-11T17:53:43.873217",
     "status": "completed"
    },
    "tags": []
   },
   "outputs": [
    {
     "name": "stdout",
     "output_type": "stream",
     "text": [
      "XGBoost: Accuracy on training Data: 1.000\n",
      "XGBoost : Accuracy on test Data: 1.000\n"
     ]
    }
   ],
   "source": [
    "#computing the accuracy of the model performance\n",
    "acc_train_xgb = accuracy_score(y_train,y_train_xgb)\n",
    "acc_test_xgb = accuracy_score(y_test,y_test_xgb)\n",
    "\n",
    "print(\"XGBoost: Accuracy on training Data: {:.3f}\".format(acc_train_xgb))\n",
    "print(\"XGBoost : Accuracy on test Data: {:.3f}\".format(acc_test_xgb))"
   ]
  },
  {
   "cell_type": "markdown",
   "id": "33a3c0a0",
   "metadata": {
    "papermill": {
     "duration": 0.063324,
     "end_time": "2024-05-11T17:53:44.087354",
     "exception": false,
     "start_time": "2024-05-11T17:53:44.024030",
     "status": "completed"
    },
    "tags": []
   },
   "source": [
    "#### Storing Results"
   ]
  },
  {
   "cell_type": "code",
   "execution_count": 82,
   "id": "1a65daaf",
   "metadata": {
    "execution": {
     "iopub.execute_input": "2024-05-11T17:53:44.217329Z",
     "iopub.status.busy": "2024-05-11T17:53:44.216761Z",
     "iopub.status.idle": "2024-05-11T17:53:44.223765Z",
     "shell.execute_reply": "2024-05-11T17:53:44.222272Z"
    },
    "papermill": {
     "duration": 0.075371,
     "end_time": "2024-05-11T17:53:44.226429",
     "exception": false,
     "start_time": "2024-05-11T17:53:44.151058",
     "status": "completed"
    },
    "tags": []
   },
   "outputs": [],
   "source": [
    "#storing the results. The below mentioned order of parameter passing is important.\n",
    "#Caution: Execute only once to avoid duplications.\n",
    "storeResults('XGBoost', acc_train_xgb, acc_test_xgb)"
   ]
  },
  {
   "cell_type": "markdown",
   "id": "53030fd6",
   "metadata": {
    "papermill": {
     "duration": 0.063754,
     "end_time": "2024-05-11T17:53:44.353557",
     "exception": false,
     "start_time": "2024-05-11T17:53:44.289803",
     "status": "completed"
    },
    "tags": []
   },
   "source": [
    "### 10.4. Logistic Regression"
   ]
  },
  {
   "cell_type": "markdown",
   "id": "2eff0646",
   "metadata": {
    "papermill": {
     "duration": 0.065389,
     "end_time": "2024-05-11T17:53:44.486727",
     "exception": false,
     "start_time": "2024-05-11T17:53:44.421338",
     "status": "completed"
    },
    "tags": []
   },
   "source": [
    "In machine learning, logistic regression is a classification algorithm used to model the relationship between input features and a binary output variable. It estimates the probability of the output belonging to a specific class using a logistic or sigmoid function.\n",
    "During training, it learns optimal parameters by minimizing a cost function, such as cross-entropy loss. Once trained, it can make predictions on new data by calculating the probability of belonging to a class. Logistic regression is widely used in various domains for binary classification tasks when a linear relationship is assumed."
   ]
  },
  {
   "cell_type": "code",
   "execution_count": 83,
   "id": "77dd0c05",
   "metadata": {
    "execution": {
     "iopub.execute_input": "2024-05-11T17:53:44.633416Z",
     "iopub.status.busy": "2024-05-11T17:53:44.631678Z",
     "iopub.status.idle": "2024-05-11T17:53:45.679179Z",
     "shell.execute_reply": "2024-05-11T17:53:45.677559Z"
    },
    "papermill": {
     "duration": 1.133964,
     "end_time": "2024-05-11T17:53:45.684500",
     "exception": false,
     "start_time": "2024-05-11T17:53:44.550536",
     "status": "completed"
    },
    "tags": []
   },
   "outputs": [
    {
     "data": {
      "text/html": [
       "<style>#sk-container-id-4 {color: black;background-color: white;}#sk-container-id-4 pre{padding: 0;}#sk-container-id-4 div.sk-toggleable {background-color: white;}#sk-container-id-4 label.sk-toggleable__label {cursor: pointer;display: block;width: 100%;margin-bottom: 0;padding: 0.3em;box-sizing: border-box;text-align: center;}#sk-container-id-4 label.sk-toggleable__label-arrow:before {content: \"▸\";float: left;margin-right: 0.25em;color: #696969;}#sk-container-id-4 label.sk-toggleable__label-arrow:hover:before {color: black;}#sk-container-id-4 div.sk-estimator:hover label.sk-toggleable__label-arrow:before {color: black;}#sk-container-id-4 div.sk-toggleable__content {max-height: 0;max-width: 0;overflow: hidden;text-align: left;background-color: #f0f8ff;}#sk-container-id-4 div.sk-toggleable__content pre {margin: 0.2em;color: black;border-radius: 0.25em;background-color: #f0f8ff;}#sk-container-id-4 input.sk-toggleable__control:checked~div.sk-toggleable__content {max-height: 200px;max-width: 100%;overflow: auto;}#sk-container-id-4 input.sk-toggleable__control:checked~label.sk-toggleable__label-arrow:before {content: \"▾\";}#sk-container-id-4 div.sk-estimator input.sk-toggleable__control:checked~label.sk-toggleable__label {background-color: #d4ebff;}#sk-container-id-4 div.sk-label input.sk-toggleable__control:checked~label.sk-toggleable__label {background-color: #d4ebff;}#sk-container-id-4 input.sk-hidden--visually {border: 0;clip: rect(1px 1px 1px 1px);clip: rect(1px, 1px, 1px, 1px);height: 1px;margin: -1px;overflow: hidden;padding: 0;position: absolute;width: 1px;}#sk-container-id-4 div.sk-estimator {font-family: monospace;background-color: #f0f8ff;border: 1px dotted black;border-radius: 0.25em;box-sizing: border-box;margin-bottom: 0.5em;}#sk-container-id-4 div.sk-estimator:hover {background-color: #d4ebff;}#sk-container-id-4 div.sk-parallel-item::after {content: \"\";width: 100%;border-bottom: 1px solid gray;flex-grow: 1;}#sk-container-id-4 div.sk-label:hover label.sk-toggleable__label {background-color: #d4ebff;}#sk-container-id-4 div.sk-serial::before {content: \"\";position: absolute;border-left: 1px solid gray;box-sizing: border-box;top: 0;bottom: 0;left: 50%;z-index: 0;}#sk-container-id-4 div.sk-serial {display: flex;flex-direction: column;align-items: center;background-color: white;padding-right: 0.2em;padding-left: 0.2em;position: relative;}#sk-container-id-4 div.sk-item {position: relative;z-index: 1;}#sk-container-id-4 div.sk-parallel {display: flex;align-items: stretch;justify-content: center;background-color: white;position: relative;}#sk-container-id-4 div.sk-item::before, #sk-container-id-4 div.sk-parallel-item::before {content: \"\";position: absolute;border-left: 1px solid gray;box-sizing: border-box;top: 0;bottom: 0;left: 50%;z-index: -1;}#sk-container-id-4 div.sk-parallel-item {display: flex;flex-direction: column;z-index: 1;position: relative;background-color: white;}#sk-container-id-4 div.sk-parallel-item:first-child::after {align-self: flex-end;width: 50%;}#sk-container-id-4 div.sk-parallel-item:last-child::after {align-self: flex-start;width: 50%;}#sk-container-id-4 div.sk-parallel-item:only-child::after {width: 0;}#sk-container-id-4 div.sk-dashed-wrapped {border: 1px dashed gray;margin: 0 0.4em 0.5em 0.4em;box-sizing: border-box;padding-bottom: 0.4em;background-color: white;}#sk-container-id-4 div.sk-label label {font-family: monospace;font-weight: bold;display: inline-block;line-height: 1.2em;}#sk-container-id-4 div.sk-label-container {text-align: center;}#sk-container-id-4 div.sk-container {/* jupyter's `normalize.less` sets `[hidden] { display: none; }` but bootstrap.min.css set `[hidden] { display: none !important; }` so we also need the `!important` here to be able to override the default hidden behavior on the sphinx rendered scikit-learn.org. See: https://github.com/scikit-learn/scikit-learn/issues/21755 */display: inline-block !important;position: relative;}#sk-container-id-4 div.sk-text-repr-fallback {display: none;}</style><div id=\"sk-container-id-4\" class=\"sk-top-container\"><div class=\"sk-text-repr-fallback\"><pre>LogisticRegression(max_iter=1000, random_state=12)</pre><b>In a Jupyter environment, please rerun this cell to show the HTML representation or trust the notebook. <br />On GitHub, the HTML representation is unable to render, please try loading this page with nbviewer.org.</b></div><div class=\"sk-container\" hidden><div class=\"sk-item\"><div class=\"sk-estimator sk-toggleable\"><input class=\"sk-toggleable__control sk-hidden--visually\" id=\"sk-estimator-id-4\" type=\"checkbox\" checked><label for=\"sk-estimator-id-4\" class=\"sk-toggleable__label sk-toggleable__label-arrow\">LogisticRegression</label><div class=\"sk-toggleable__content\"><pre>LogisticRegression(max_iter=1000, random_state=12)</pre></div></div></div></div></div>"
      ],
      "text/plain": [
       "LogisticRegression(max_iter=1000, random_state=12)"
      ]
     },
     "execution_count": 83,
     "metadata": {},
     "output_type": "execute_result"
    }
   ],
   "source": [
    "#Logistic regression machine learning\n",
    "\n",
    "from sklearn.linear_model import LogisticRegression\n",
    "\n",
    "#instantive the model\n",
    "logistic = LogisticRegression(random_state=12, max_iter=1000)\n",
    "#fit the model\n",
    "logistic.fit(X_train, y_train)"
   ]
  },
  {
   "cell_type": "code",
   "execution_count": 84,
   "id": "fb2b6700",
   "metadata": {
    "execution": {
     "iopub.execute_input": "2024-05-11T17:53:45.871208Z",
     "iopub.status.busy": "2024-05-11T17:53:45.870808Z",
     "iopub.status.idle": "2024-05-11T17:53:45.887330Z",
     "shell.execute_reply": "2024-05-11T17:53:45.885745Z"
    },
    "papermill": {
     "duration": 0.089923,
     "end_time": "2024-05-11T17:53:45.892293",
     "exception": false,
     "start_time": "2024-05-11T17:53:45.802370",
     "status": "completed"
    },
    "tags": []
   },
   "outputs": [],
   "source": [
    "#predicting the target value from the model for the samples\n",
    "y_test_log = logistic.predict(X_test)\n",
    "y_train_log = logistic.predict(X_train)"
   ]
  },
  {
   "cell_type": "markdown",
   "id": "5433df54",
   "metadata": {
    "papermill": {
     "duration": 0.06672,
     "end_time": "2024-05-11T17:53:46.091863",
     "exception": false,
     "start_time": "2024-05-11T17:53:46.025143",
     "status": "completed"
    },
    "tags": []
   },
   "source": [
    "#### Performance Evaluation"
   ]
  },
  {
   "cell_type": "code",
   "execution_count": 85,
   "id": "81dc101f",
   "metadata": {
    "execution": {
     "iopub.execute_input": "2024-05-11T17:53:46.226640Z",
     "iopub.status.busy": "2024-05-11T17:53:46.226143Z",
     "iopub.status.idle": "2024-05-11T17:53:46.240347Z",
     "shell.execute_reply": "2024-05-11T17:53:46.239109Z"
    },
    "papermill": {
     "duration": 0.085515,
     "end_time": "2024-05-11T17:53:46.243276",
     "exception": false,
     "start_time": "2024-05-11T17:53:46.157761",
     "status": "completed"
    },
    "tags": []
   },
   "outputs": [
    {
     "name": "stdout",
     "output_type": "stream",
     "text": [
      "Logistic: Accuracy on training Data: 1.000\n",
      "Logistic : Accuracy on test Data: 1.000\n"
     ]
    }
   ],
   "source": [
    "#computing the accuracy of the model performance\n",
    "acc_train_log = accuracy_score(y_train,y_train_log)\n",
    "acc_test_log = accuracy_score(y_test,y_test_log)\n",
    "\n",
    "print(\"Logistic: Accuracy on training Data: {:.3f}\".format(acc_train_log))\n",
    "print(\"Logistic : Accuracy on test Data: {:.3f}\".format(acc_test_log))"
   ]
  },
  {
   "cell_type": "markdown",
   "id": "9e626f6f",
   "metadata": {
    "papermill": {
     "duration": 0.066719,
     "end_time": "2024-05-11T17:53:46.375816",
     "exception": false,
     "start_time": "2024-05-11T17:53:46.309097",
     "status": "completed"
    },
    "tags": []
   },
   "source": [
    "#### Storing Result"
   ]
  },
  {
   "cell_type": "code",
   "execution_count": 86,
   "id": "28100a54",
   "metadata": {
    "execution": {
     "iopub.execute_input": "2024-05-11T17:53:46.514366Z",
     "iopub.status.busy": "2024-05-11T17:53:46.513880Z",
     "iopub.status.idle": "2024-05-11T17:53:46.520098Z",
     "shell.execute_reply": "2024-05-11T17:53:46.518780Z"
    },
    "papermill": {
     "duration": 0.081023,
     "end_time": "2024-05-11T17:53:46.522653",
     "exception": false,
     "start_time": "2024-05-11T17:53:46.441630",
     "status": "completed"
    },
    "tags": []
   },
   "outputs": [],
   "source": [
    "#storing the results. The below mentioned order of parameter passing is important.\n",
    "#Caution: Execute only once to avoid duplications.\n",
    "storeResults('Logistic', acc_train_log, acc_test_log)"
   ]
  },
  {
   "cell_type": "markdown",
   "id": "b74027eb",
   "metadata": {
    "papermill": {
     "duration": 0.062999,
     "end_time": "2024-05-11T17:53:46.650108",
     "exception": false,
     "start_time": "2024-05-11T17:53:46.587109",
     "status": "completed"
    },
    "tags": []
   },
   "source": [
    "### 10.5. Support Vector Machines"
   ]
  },
  {
   "cell_type": "markdown",
   "id": "05e987f8",
   "metadata": {
    "papermill": {
     "duration": 0.064722,
     "end_time": "2024-05-11T17:53:46.778635",
     "exception": false,
     "start_time": "2024-05-11T17:53:46.713913",
     "status": "completed"
    },
    "tags": []
   },
   "source": [
    "In machine learning, support-vector machines (SVMs, also support-vector networks) are supervised learning models with associated learning algorithms that analyze data used for classification and regression analysis. Given a set of training examples, each marked as belonging to one or the other of two categories, an SVM training algorithm builds a model that assigns new examples to one category or the other, making it a non-probabilistic binary linear classifier."
   ]
  },
  {
   "cell_type": "code",
   "execution_count": 87,
   "id": "32093189",
   "metadata": {
    "execution": {
     "iopub.execute_input": "2024-05-11T17:53:46.911337Z",
     "iopub.status.busy": "2024-05-11T17:53:46.910410Z",
     "iopub.status.idle": "2024-05-11T17:53:47.586743Z",
     "shell.execute_reply": "2024-05-11T17:53:47.585528Z"
    },
    "papermill": {
     "duration": 0.746112,
     "end_time": "2024-05-11T17:53:47.589340",
     "exception": false,
     "start_time": "2024-05-11T17:53:46.843228",
     "status": "completed"
    },
    "tags": []
   },
   "outputs": [
    {
     "data": {
      "text/html": [
       "<style>#sk-container-id-5 {color: black;background-color: white;}#sk-container-id-5 pre{padding: 0;}#sk-container-id-5 div.sk-toggleable {background-color: white;}#sk-container-id-5 label.sk-toggleable__label {cursor: pointer;display: block;width: 100%;margin-bottom: 0;padding: 0.3em;box-sizing: border-box;text-align: center;}#sk-container-id-5 label.sk-toggleable__label-arrow:before {content: \"▸\";float: left;margin-right: 0.25em;color: #696969;}#sk-container-id-5 label.sk-toggleable__label-arrow:hover:before {color: black;}#sk-container-id-5 div.sk-estimator:hover label.sk-toggleable__label-arrow:before {color: black;}#sk-container-id-5 div.sk-toggleable__content {max-height: 0;max-width: 0;overflow: hidden;text-align: left;background-color: #f0f8ff;}#sk-container-id-5 div.sk-toggleable__content pre {margin: 0.2em;color: black;border-radius: 0.25em;background-color: #f0f8ff;}#sk-container-id-5 input.sk-toggleable__control:checked~div.sk-toggleable__content {max-height: 200px;max-width: 100%;overflow: auto;}#sk-container-id-5 input.sk-toggleable__control:checked~label.sk-toggleable__label-arrow:before {content: \"▾\";}#sk-container-id-5 div.sk-estimator input.sk-toggleable__control:checked~label.sk-toggleable__label {background-color: #d4ebff;}#sk-container-id-5 div.sk-label input.sk-toggleable__control:checked~label.sk-toggleable__label {background-color: #d4ebff;}#sk-container-id-5 input.sk-hidden--visually {border: 0;clip: rect(1px 1px 1px 1px);clip: rect(1px, 1px, 1px, 1px);height: 1px;margin: -1px;overflow: hidden;padding: 0;position: absolute;width: 1px;}#sk-container-id-5 div.sk-estimator {font-family: monospace;background-color: #f0f8ff;border: 1px dotted black;border-radius: 0.25em;box-sizing: border-box;margin-bottom: 0.5em;}#sk-container-id-5 div.sk-estimator:hover {background-color: #d4ebff;}#sk-container-id-5 div.sk-parallel-item::after {content: \"\";width: 100%;border-bottom: 1px solid gray;flex-grow: 1;}#sk-container-id-5 div.sk-label:hover label.sk-toggleable__label {background-color: #d4ebff;}#sk-container-id-5 div.sk-serial::before {content: \"\";position: absolute;border-left: 1px solid gray;box-sizing: border-box;top: 0;bottom: 0;left: 50%;z-index: 0;}#sk-container-id-5 div.sk-serial {display: flex;flex-direction: column;align-items: center;background-color: white;padding-right: 0.2em;padding-left: 0.2em;position: relative;}#sk-container-id-5 div.sk-item {position: relative;z-index: 1;}#sk-container-id-5 div.sk-parallel {display: flex;align-items: stretch;justify-content: center;background-color: white;position: relative;}#sk-container-id-5 div.sk-item::before, #sk-container-id-5 div.sk-parallel-item::before {content: \"\";position: absolute;border-left: 1px solid gray;box-sizing: border-box;top: 0;bottom: 0;left: 50%;z-index: -1;}#sk-container-id-5 div.sk-parallel-item {display: flex;flex-direction: column;z-index: 1;position: relative;background-color: white;}#sk-container-id-5 div.sk-parallel-item:first-child::after {align-self: flex-end;width: 50%;}#sk-container-id-5 div.sk-parallel-item:last-child::after {align-self: flex-start;width: 50%;}#sk-container-id-5 div.sk-parallel-item:only-child::after {width: 0;}#sk-container-id-5 div.sk-dashed-wrapped {border: 1px dashed gray;margin: 0 0.4em 0.5em 0.4em;box-sizing: border-box;padding-bottom: 0.4em;background-color: white;}#sk-container-id-5 div.sk-label label {font-family: monospace;font-weight: bold;display: inline-block;line-height: 1.2em;}#sk-container-id-5 div.sk-label-container {text-align: center;}#sk-container-id-5 div.sk-container {/* jupyter's `normalize.less` sets `[hidden] { display: none; }` but bootstrap.min.css set `[hidden] { display: none !important; }` so we also need the `!important` here to be able to override the default hidden behavior on the sphinx rendered scikit-learn.org. See: https://github.com/scikit-learn/scikit-learn/issues/21755 */display: inline-block !important;position: relative;}#sk-container-id-5 div.sk-text-repr-fallback {display: none;}</style><div id=\"sk-container-id-5\" class=\"sk-top-container\"><div class=\"sk-text-repr-fallback\"><pre>SVC(kernel=&#x27;linear&#x27;, random_state=12)</pre><b>In a Jupyter environment, please rerun this cell to show the HTML representation or trust the notebook. <br />On GitHub, the HTML representation is unable to render, please try loading this page with nbviewer.org.</b></div><div class=\"sk-container\" hidden><div class=\"sk-item\"><div class=\"sk-estimator sk-toggleable\"><input class=\"sk-toggleable__control sk-hidden--visually\" id=\"sk-estimator-id-5\" type=\"checkbox\" checked><label for=\"sk-estimator-id-5\" class=\"sk-toggleable__label sk-toggleable__label-arrow\">SVC</label><div class=\"sk-toggleable__content\"><pre>SVC(kernel=&#x27;linear&#x27;, random_state=12)</pre></div></div></div></div></div>"
      ],
      "text/plain": [
       "SVC(kernel='linear', random_state=12)"
      ]
     },
     "execution_count": 87,
     "metadata": {},
     "output_type": "execute_result"
    }
   ],
   "source": [
    "#Support vector machine model\n",
    "from sklearn.svm import SVC\n",
    "\n",
    "# instantiate the model\n",
    "svm = SVC(kernel='linear', C=1.0, random_state=12)\n",
    "#fit the model\n",
    "svm.fit(X_train, y_train)"
   ]
  },
  {
   "cell_type": "code",
   "execution_count": 88,
   "id": "18116923",
   "metadata": {
    "execution": {
     "iopub.execute_input": "2024-05-11T17:53:47.725065Z",
     "iopub.status.busy": "2024-05-11T17:53:47.724436Z",
     "iopub.status.idle": "2024-05-11T17:53:47.776653Z",
     "shell.execute_reply": "2024-05-11T17:53:47.775527Z"
    },
    "papermill": {
     "duration": 0.124318,
     "end_time": "2024-05-11T17:53:47.779636",
     "exception": false,
     "start_time": "2024-05-11T17:53:47.655318",
     "status": "completed"
    },
    "tags": []
   },
   "outputs": [],
   "source": [
    "#predicting the target value from the model for the samples\n",
    "y_test_svm = svm.predict(X_test)\n",
    "y_train_svm = svm.predict(X_train)"
   ]
  },
  {
   "cell_type": "markdown",
   "id": "eb7e09c7",
   "metadata": {
    "papermill": {
     "duration": 0.068764,
     "end_time": "2024-05-11T17:53:47.917839",
     "exception": false,
     "start_time": "2024-05-11T17:53:47.849075",
     "status": "completed"
    },
    "tags": []
   },
   "source": [
    "#### Performance Evaluation"
   ]
  },
  {
   "cell_type": "code",
   "execution_count": 89,
   "id": "a55e4f18",
   "metadata": {
    "execution": {
     "iopub.execute_input": "2024-05-11T17:53:48.066455Z",
     "iopub.status.busy": "2024-05-11T17:53:48.065396Z",
     "iopub.status.idle": "2024-05-11T17:53:48.078902Z",
     "shell.execute_reply": "2024-05-11T17:53:48.077422Z"
    },
    "papermill": {
     "duration": 0.090742,
     "end_time": "2024-05-11T17:53:48.081669",
     "exception": false,
     "start_time": "2024-05-11T17:53:47.990927",
     "status": "completed"
    },
    "tags": []
   },
   "outputs": [
    {
     "name": "stdout",
     "output_type": "stream",
     "text": [
      "SVM: Accuracy on training Data: 1.000\n",
      "SVM : Accuracy on test Data: 1.000\n"
     ]
    }
   ],
   "source": [
    "#computing the accuracy of the model performance\n",
    "acc_train_svm = accuracy_score(y_train,y_train_svm)\n",
    "acc_test_svm = accuracy_score(y_test,y_test_svm)\n",
    "\n",
    "print(\"SVM: Accuracy on training Data: {:.3f}\".format(acc_train_svm))\n",
    "print(\"SVM : Accuracy on test Data: {:.3f}\".format(acc_test_svm))"
   ]
  },
  {
   "cell_type": "markdown",
   "id": "d4dc87ac",
   "metadata": {
    "papermill": {
     "duration": 0.063797,
     "end_time": "2024-05-11T17:53:48.210025",
     "exception": false,
     "start_time": "2024-05-11T17:53:48.146228",
     "status": "completed"
    },
    "tags": []
   },
   "source": [
    "#### Storing Result"
   ]
  },
  {
   "cell_type": "code",
   "execution_count": 90,
   "id": "bee42b2e",
   "metadata": {
    "execution": {
     "iopub.execute_input": "2024-05-11T17:53:48.341547Z",
     "iopub.status.busy": "2024-05-11T17:53:48.341046Z",
     "iopub.status.idle": "2024-05-11T17:53:48.346462Z",
     "shell.execute_reply": "2024-05-11T17:53:48.345493Z"
    },
    "papermill": {
     "duration": 0.07406,
     "end_time": "2024-05-11T17:53:48.348992",
     "exception": false,
     "start_time": "2024-05-11T17:53:48.274932",
     "status": "completed"
    },
    "tags": []
   },
   "outputs": [],
   "source": [
    "#storing the results. The below mentioned order of parameter passing is important.\n",
    "#Caution: Execute only once to avoid duplications.\n",
    "storeResults('SVM', acc_train_svm, acc_test_svm)"
   ]
  },
  {
   "cell_type": "markdown",
   "id": "ea0a0fed",
   "metadata": {
    "papermill": {
     "duration": 0.063329,
     "end_time": "2024-05-11T17:53:48.475878",
     "exception": false,
     "start_time": "2024-05-11T17:53:48.412549",
     "status": "completed"
    },
    "tags": []
   },
   "source": [
    "### 10.6. Multilayer Perceptrons (MLPs)"
   ]
  },
  {
   "cell_type": "markdown",
   "id": "70d354cd",
   "metadata": {
    "papermill": {
     "duration": 0.065646,
     "end_time": "2024-05-11T17:53:48.608210",
     "exception": false,
     "start_time": "2024-05-11T17:53:48.542564",
     "status": "completed"
    },
    "tags": []
   },
   "source": [
    "Multilayer perceptrons (MLPs) are also known as (vanilla) feed-forward neural networks, or sometimes just neural networks. Multilayer perceptrons can be applied for both classification and regression problems.\n",
    "\n",
    "MLPs can be viewed as generalizations of linear models that perform multiple stages of processing to come to a decision."
   ]
  },
  {
   "cell_type": "code",
   "execution_count": 91,
   "id": "dfcac586",
   "metadata": {
    "execution": {
     "iopub.execute_input": "2024-05-11T17:53:48.738361Z",
     "iopub.status.busy": "2024-05-11T17:53:48.737868Z",
     "iopub.status.idle": "2024-05-11T17:54:06.669371Z",
     "shell.execute_reply": "2024-05-11T17:54:06.668224Z"
    },
    "papermill": {
     "duration": 18.000527,
     "end_time": "2024-05-11T17:54:06.673112",
     "exception": false,
     "start_time": "2024-05-11T17:53:48.672585",
     "status": "completed"
    },
    "tags": []
   },
   "outputs": [
    {
     "data": {
      "text/html": [
       "<style>#sk-container-id-6 {color: black;background-color: white;}#sk-container-id-6 pre{padding: 0;}#sk-container-id-6 div.sk-toggleable {background-color: white;}#sk-container-id-6 label.sk-toggleable__label {cursor: pointer;display: block;width: 100%;margin-bottom: 0;padding: 0.3em;box-sizing: border-box;text-align: center;}#sk-container-id-6 label.sk-toggleable__label-arrow:before {content: \"▸\";float: left;margin-right: 0.25em;color: #696969;}#sk-container-id-6 label.sk-toggleable__label-arrow:hover:before {color: black;}#sk-container-id-6 div.sk-estimator:hover label.sk-toggleable__label-arrow:before {color: black;}#sk-container-id-6 div.sk-toggleable__content {max-height: 0;max-width: 0;overflow: hidden;text-align: left;background-color: #f0f8ff;}#sk-container-id-6 div.sk-toggleable__content pre {margin: 0.2em;color: black;border-radius: 0.25em;background-color: #f0f8ff;}#sk-container-id-6 input.sk-toggleable__control:checked~div.sk-toggleable__content {max-height: 200px;max-width: 100%;overflow: auto;}#sk-container-id-6 input.sk-toggleable__control:checked~label.sk-toggleable__label-arrow:before {content: \"▾\";}#sk-container-id-6 div.sk-estimator input.sk-toggleable__control:checked~label.sk-toggleable__label {background-color: #d4ebff;}#sk-container-id-6 div.sk-label input.sk-toggleable__control:checked~label.sk-toggleable__label {background-color: #d4ebff;}#sk-container-id-6 input.sk-hidden--visually {border: 0;clip: rect(1px 1px 1px 1px);clip: rect(1px, 1px, 1px, 1px);height: 1px;margin: -1px;overflow: hidden;padding: 0;position: absolute;width: 1px;}#sk-container-id-6 div.sk-estimator {font-family: monospace;background-color: #f0f8ff;border: 1px dotted black;border-radius: 0.25em;box-sizing: border-box;margin-bottom: 0.5em;}#sk-container-id-6 div.sk-estimator:hover {background-color: #d4ebff;}#sk-container-id-6 div.sk-parallel-item::after {content: \"\";width: 100%;border-bottom: 1px solid gray;flex-grow: 1;}#sk-container-id-6 div.sk-label:hover label.sk-toggleable__label {background-color: #d4ebff;}#sk-container-id-6 div.sk-serial::before {content: \"\";position: absolute;border-left: 1px solid gray;box-sizing: border-box;top: 0;bottom: 0;left: 50%;z-index: 0;}#sk-container-id-6 div.sk-serial {display: flex;flex-direction: column;align-items: center;background-color: white;padding-right: 0.2em;padding-left: 0.2em;position: relative;}#sk-container-id-6 div.sk-item {position: relative;z-index: 1;}#sk-container-id-6 div.sk-parallel {display: flex;align-items: stretch;justify-content: center;background-color: white;position: relative;}#sk-container-id-6 div.sk-item::before, #sk-container-id-6 div.sk-parallel-item::before {content: \"\";position: absolute;border-left: 1px solid gray;box-sizing: border-box;top: 0;bottom: 0;left: 50%;z-index: -1;}#sk-container-id-6 div.sk-parallel-item {display: flex;flex-direction: column;z-index: 1;position: relative;background-color: white;}#sk-container-id-6 div.sk-parallel-item:first-child::after {align-self: flex-end;width: 50%;}#sk-container-id-6 div.sk-parallel-item:last-child::after {align-self: flex-start;width: 50%;}#sk-container-id-6 div.sk-parallel-item:only-child::after {width: 0;}#sk-container-id-6 div.sk-dashed-wrapped {border: 1px dashed gray;margin: 0 0.4em 0.5em 0.4em;box-sizing: border-box;padding-bottom: 0.4em;background-color: white;}#sk-container-id-6 div.sk-label label {font-family: monospace;font-weight: bold;display: inline-block;line-height: 1.2em;}#sk-container-id-6 div.sk-label-container {text-align: center;}#sk-container-id-6 div.sk-container {/* jupyter's `normalize.less` sets `[hidden] { display: none; }` but bootstrap.min.css set `[hidden] { display: none !important; }` so we also need the `!important` here to be able to override the default hidden behavior on the sphinx rendered scikit-learn.org. See: https://github.com/scikit-learn/scikit-learn/issues/21755 */display: inline-block !important;position: relative;}#sk-container-id-6 div.sk-text-repr-fallback {display: none;}</style><div id=\"sk-container-id-6\" class=\"sk-top-container\"><div class=\"sk-text-repr-fallback\"><pre>MLPClassifier(alpha=0.001, hidden_layer_sizes=[100, 100, 100])</pre><b>In a Jupyter environment, please rerun this cell to show the HTML representation or trust the notebook. <br />On GitHub, the HTML representation is unable to render, please try loading this page with nbviewer.org.</b></div><div class=\"sk-container\" hidden><div class=\"sk-item\"><div class=\"sk-estimator sk-toggleable\"><input class=\"sk-toggleable__control sk-hidden--visually\" id=\"sk-estimator-id-6\" type=\"checkbox\" checked><label for=\"sk-estimator-id-6\" class=\"sk-toggleable__label sk-toggleable__label-arrow\">MLPClassifier</label><div class=\"sk-toggleable__content\"><pre>MLPClassifier(alpha=0.001, hidden_layer_sizes=[100, 100, 100])</pre></div></div></div></div></div>"
      ],
      "text/plain": [
       "MLPClassifier(alpha=0.001, hidden_layer_sizes=[100, 100, 100])"
      ]
     },
     "execution_count": 91,
     "metadata": {},
     "output_type": "execute_result"
    }
   ],
   "source": [
    "# Multilayer Perceptrons model\n",
    "from sklearn.neural_network import MLPClassifier\n",
    "\n",
    "# instantiate the model\n",
    "mlp = MLPClassifier(alpha=0.001, hidden_layer_sizes=([100,100,100]))\n",
    "\n",
    "# fit the model \n",
    "mlp.fit(X_train, y_train)"
   ]
  },
  {
   "cell_type": "code",
   "execution_count": 92,
   "id": "c977e6eb",
   "metadata": {
    "execution": {
     "iopub.execute_input": "2024-05-11T17:54:06.859885Z",
     "iopub.status.busy": "2024-05-11T17:54:06.859488Z",
     "iopub.status.idle": "2024-05-11T17:54:07.050217Z",
     "shell.execute_reply": "2024-05-11T17:54:07.048456Z"
    },
    "papermill": {
     "duration": 0.261077,
     "end_time": "2024-05-11T17:54:07.054923",
     "exception": false,
     "start_time": "2024-05-11T17:54:06.793846",
     "status": "completed"
    },
    "tags": []
   },
   "outputs": [],
   "source": [
    "#predicting the target value from the model for the samples\n",
    "y_test_mlp = mlp.predict(X_test)\n",
    "y_train_mlp = mlp.predict(X_train)"
   ]
  },
  {
   "cell_type": "markdown",
   "id": "882aaab0",
   "metadata": {
    "papermill": {
     "duration": 0.063795,
     "end_time": "2024-05-11T17:54:07.241556",
     "exception": false,
     "start_time": "2024-05-11T17:54:07.177761",
     "status": "completed"
    },
    "tags": []
   },
   "source": [
    "#### Performance Evaluation"
   ]
  },
  {
   "cell_type": "code",
   "execution_count": 93,
   "id": "c2e5e783",
   "metadata": {
    "execution": {
     "iopub.execute_input": "2024-05-11T17:54:07.373187Z",
     "iopub.status.busy": "2024-05-11T17:54:07.372719Z",
     "iopub.status.idle": "2024-05-11T17:54:07.386138Z",
     "shell.execute_reply": "2024-05-11T17:54:07.384682Z"
    },
    "papermill": {
     "duration": 0.081952,
     "end_time": "2024-05-11T17:54:07.388881",
     "exception": false,
     "start_time": "2024-05-11T17:54:07.306929",
     "status": "completed"
    },
    "tags": []
   },
   "outputs": [
    {
     "name": "stdout",
     "output_type": "stream",
     "text": [
      "Multilayer Perceptrons: Accuracy on training Data: 1.000\n",
      "Multilayer Perceptrons: Accuracy on test Data: 1.000\n"
     ]
    }
   ],
   "source": [
    "#computing the accuracy of the model performance\n",
    "acc_train_mlp = accuracy_score(y_train,y_train_mlp)\n",
    "acc_test_mlp = accuracy_score(y_test,y_test_mlp)\n",
    "\n",
    "print(\"Multilayer Perceptrons: Accuracy on training Data: {:.3f}\".format(acc_train_mlp))\n",
    "print(\"Multilayer Perceptrons: Accuracy on test Data: {:.3f}\".format(acc_test_mlp))"
   ]
  },
  {
   "cell_type": "markdown",
   "id": "22b2a66f",
   "metadata": {
    "papermill": {
     "duration": 0.064862,
     "end_time": "2024-05-11T17:54:07.517868",
     "exception": false,
     "start_time": "2024-05-11T17:54:07.453006",
     "status": "completed"
    },
    "tags": []
   },
   "source": [
    "#### Storing Result"
   ]
  },
  {
   "cell_type": "code",
   "execution_count": 94,
   "id": "a6809c2b",
   "metadata": {
    "execution": {
     "iopub.execute_input": "2024-05-11T17:54:07.654177Z",
     "iopub.status.busy": "2024-05-11T17:54:07.653737Z",
     "iopub.status.idle": "2024-05-11T17:54:07.659046Z",
     "shell.execute_reply": "2024-05-11T17:54:07.657845Z"
    },
    "papermill": {
     "duration": 0.076926,
     "end_time": "2024-05-11T17:54:07.661529",
     "exception": false,
     "start_time": "2024-05-11T17:54:07.584603",
     "status": "completed"
    },
    "tags": []
   },
   "outputs": [],
   "source": [
    "#storing the results. The below mentioned order of parameter passing is important.\n",
    "#Caution: Execute only once to avoid duplications.\n",
    "storeResults('Multilayer Perceptrons', acc_train_mlp, acc_test_mlp)"
   ]
  },
  {
   "cell_type": "markdown",
   "id": "5fbc5b9c",
   "metadata": {
    "papermill": {
     "duration": 0.066123,
     "end_time": "2024-05-11T17:54:07.793670",
     "exception": false,
     "start_time": "2024-05-11T17:54:07.727547",
     "status": "completed"
    },
    "tags": []
   },
   "source": [
    "## 11. Perfect Score - Dropping Features"
   ]
  },
  {
   "cell_type": "markdown",
   "id": "444f2008",
   "metadata": {
    "papermill": {
     "duration": 0.065904,
     "end_time": "2024-05-11T17:54:07.926419",
     "exception": false,
     "start_time": "2024-05-11T17:54:07.860515",
     "status": "completed"
    },
    "tags": []
   },
   "source": [
    "After consulation with our mentor Amit Shtekel and explaining him we received a perfect score for our models (1.00) , he gave us new assignment , and it is to compare the price of extracting each feature. After we will drop the expensive features we will need to check the model again and to see it's results.\n",
    "\n",
    "We decided to measure the run time of the features after we grouped them to categories , parsing , domain and dns registery, content.\n",
    "After a few runtime measures we have seen that the extraction of the domain and dns registeries are much more expensive - for 1000 rows the parsing features  took 0.09 sec and the content features took 0.9 seconds , but the domain/dns features took 620 seconds(!!) , compared to the other features combined it is more than 620 times ."
   ]
  },
  {
   "cell_type": "markdown",
   "id": "11c897c6",
   "metadata": {
    "papermill": {
     "duration": 0.069766,
     "end_time": "2024-05-11T17:54:08.065375",
     "exception": false,
     "start_time": "2024-05-11T17:54:07.995609",
     "status": "completed"
    },
    "tags": []
   },
   "source": [
    "## 12. Dropping the domain/dns features "
   ]
  },
  {
   "cell_type": "markdown",
   "id": "305ea370",
   "metadata": {
    "papermill": {
     "duration": 0.066468,
     "end_time": "2024-05-11T17:54:08.199973",
     "exception": false,
     "start_time": "2024-05-11T17:54:08.133505",
     "status": "completed"
    },
    "tags": []
   },
   "source": [
    "## 12.1 Loading the Data"
   ]
  },
  {
   "cell_type": "code",
   "execution_count": 95,
   "id": "5fb9db49",
   "metadata": {
    "execution": {
     "iopub.execute_input": "2024-05-11T17:54:08.335038Z",
     "iopub.status.busy": "2024-05-11T17:54:08.334627Z",
     "iopub.status.idle": "2024-05-11T17:54:08.388836Z",
     "shell.execute_reply": "2024-05-11T17:54:08.387972Z"
    },
    "papermill": {
     "duration": 0.124944,
     "end_time": "2024-05-11T17:54:08.391339",
     "exception": false,
     "start_time": "2024-05-11T17:54:08.266395",
     "status": "completed"
    },
    "tags": []
   },
   "outputs": [
    {
     "data": {
      "text/html": [
       "<div>\n",
       "<style scoped>\n",
       "    .dataframe tbody tr th:only-of-type {\n",
       "        vertical-align: middle;\n",
       "    }\n",
       "\n",
       "    .dataframe tbody tr th {\n",
       "        vertical-align: top;\n",
       "    }\n",
       "\n",
       "    .dataframe thead th {\n",
       "        text-align: right;\n",
       "    }\n",
       "</style>\n",
       "<table border=\"1\" class=\"dataframe\">\n",
       "  <thead>\n",
       "    <tr style=\"text-align: right;\">\n",
       "      <th></th>\n",
       "      <th>url_len</th>\n",
       "      <th>url_dep</th>\n",
       "      <th>httpDomain</th>\n",
       "      <th>tinyURL</th>\n",
       "      <th>hyphenURL</th>\n",
       "      <th>subURl</th>\n",
       "      <th>keyWordURL</th>\n",
       "      <th>dns</th>\n",
       "      <th>domainAge</th>\n",
       "      <th>domainEnd</th>\n",
       "      <th>iframe</th>\n",
       "      <th>forwarding</th>\n",
       "      <th>label</th>\n",
       "    </tr>\n",
       "  </thead>\n",
       "  <tbody>\n",
       "    <tr>\n",
       "      <th>0</th>\n",
       "      <td>67</td>\n",
       "      <td>6</td>\n",
       "      <td>0</td>\n",
       "      <td>0</td>\n",
       "      <td>0</td>\n",
       "      <td>4</td>\n",
       "      <td>0</td>\n",
       "      <td>0</td>\n",
       "      <td>1</td>\n",
       "      <td>1</td>\n",
       "      <td>1</td>\n",
       "      <td>1</td>\n",
       "      <td>0</td>\n",
       "    </tr>\n",
       "    <tr>\n",
       "      <th>1</th>\n",
       "      <td>71</td>\n",
       "      <td>4</td>\n",
       "      <td>0</td>\n",
       "      <td>0</td>\n",
       "      <td>0</td>\n",
       "      <td>2</td>\n",
       "      <td>0</td>\n",
       "      <td>0</td>\n",
       "      <td>1</td>\n",
       "      <td>1</td>\n",
       "      <td>1</td>\n",
       "      <td>1</td>\n",
       "      <td>0</td>\n",
       "    </tr>\n",
       "    <tr>\n",
       "      <th>2</th>\n",
       "      <td>25</td>\n",
       "      <td>3</td>\n",
       "      <td>0</td>\n",
       "      <td>0</td>\n",
       "      <td>0</td>\n",
       "      <td>3</td>\n",
       "      <td>0</td>\n",
       "      <td>0</td>\n",
       "      <td>1</td>\n",
       "      <td>1</td>\n",
       "      <td>1</td>\n",
       "      <td>1</td>\n",
       "      <td>0</td>\n",
       "    </tr>\n",
       "    <tr>\n",
       "      <th>3</th>\n",
       "      <td>45</td>\n",
       "      <td>2</td>\n",
       "      <td>0</td>\n",
       "      <td>0</td>\n",
       "      <td>0</td>\n",
       "      <td>4</td>\n",
       "      <td>0</td>\n",
       "      <td>0</td>\n",
       "      <td>1</td>\n",
       "      <td>1</td>\n",
       "      <td>1</td>\n",
       "      <td>1</td>\n",
       "      <td>0</td>\n",
       "    </tr>\n",
       "    <tr>\n",
       "      <th>4</th>\n",
       "      <td>77</td>\n",
       "      <td>7</td>\n",
       "      <td>0</td>\n",
       "      <td>0</td>\n",
       "      <td>0</td>\n",
       "      <td>3</td>\n",
       "      <td>0</td>\n",
       "      <td>0</td>\n",
       "      <td>1</td>\n",
       "      <td>1</td>\n",
       "      <td>1</td>\n",
       "      <td>1</td>\n",
       "      <td>0</td>\n",
       "    </tr>\n",
       "  </tbody>\n",
       "</table>\n",
       "</div>"
      ],
      "text/plain": [
       "   url_len  url_dep  httpDomain  tinyURL  hyphenURL  subURl  keyWordURL  dns  \\\n",
       "0       67        6           0        0          0       4           0    0   \n",
       "1       71        4           0        0          0       2           0    0   \n",
       "2       25        3           0        0          0       3           0    0   \n",
       "3       45        2           0        0          0       4           0    0   \n",
       "4       77        7           0        0          0       3           0    0   \n",
       "\n",
       "   domainAge  domainEnd  iframe  forwarding  label  \n",
       "0          1          1       1           1      0  \n",
       "1          1          1       1           1      0  \n",
       "2          1          1       1           1      0  \n",
       "3          1          1       1           1      0  \n",
       "4          1          1       1           1      0  "
      ]
     },
     "execution_count": 95,
     "metadata": {},
     "output_type": "execute_result"
    }
   ],
   "source": [
    "urldata = pd.read_csv(\"/kaggle/working/urldata.csv\")\n",
    "urldata.head()"
   ]
  },
  {
   "cell_type": "markdown",
   "id": "7399fc4f",
   "metadata": {
    "papermill": {
     "duration": 0.069982,
     "end_time": "2024-05-11T17:54:08.531308",
     "exception": false,
     "start_time": "2024-05-11T17:54:08.461326",
     "status": "completed"
    },
    "tags": []
   },
   "source": [
    "## 12.2 Dropping Features"
   ]
  },
  {
   "cell_type": "code",
   "execution_count": 96,
   "id": "752c7d68",
   "metadata": {
    "execution": {
     "iopub.execute_input": "2024-05-11T17:54:08.670056Z",
     "iopub.status.busy": "2024-05-11T17:54:08.669142Z",
     "iopub.status.idle": "2024-05-11T17:54:08.692926Z",
     "shell.execute_reply": "2024-05-11T17:54:08.691751Z"
    },
    "papermill": {
     "duration": 0.094838,
     "end_time": "2024-05-11T17:54:08.695439",
     "exception": false,
     "start_time": "2024-05-11T17:54:08.600601",
     "status": "completed"
    },
    "tags": []
   },
   "outputs": [
    {
     "data": {
      "text/html": [
       "<div>\n",
       "<style scoped>\n",
       "    .dataframe tbody tr th:only-of-type {\n",
       "        vertical-align: middle;\n",
       "    }\n",
       "\n",
       "    .dataframe tbody tr th {\n",
       "        vertical-align: top;\n",
       "    }\n",
       "\n",
       "    .dataframe thead th {\n",
       "        text-align: right;\n",
       "    }\n",
       "</style>\n",
       "<table border=\"1\" class=\"dataframe\">\n",
       "  <thead>\n",
       "    <tr style=\"text-align: right;\">\n",
       "      <th></th>\n",
       "      <th>url_len</th>\n",
       "      <th>url_dep</th>\n",
       "      <th>httpDomain</th>\n",
       "      <th>tinyURL</th>\n",
       "      <th>hyphenURL</th>\n",
       "      <th>subURl</th>\n",
       "      <th>keyWordURL</th>\n",
       "      <th>label</th>\n",
       "    </tr>\n",
       "  </thead>\n",
       "  <tbody>\n",
       "    <tr>\n",
       "      <th>0</th>\n",
       "      <td>67</td>\n",
       "      <td>6</td>\n",
       "      <td>0</td>\n",
       "      <td>0</td>\n",
       "      <td>0</td>\n",
       "      <td>4</td>\n",
       "      <td>0</td>\n",
       "      <td>0</td>\n",
       "    </tr>\n",
       "    <tr>\n",
       "      <th>1</th>\n",
       "      <td>71</td>\n",
       "      <td>4</td>\n",
       "      <td>0</td>\n",
       "      <td>0</td>\n",
       "      <td>0</td>\n",
       "      <td>2</td>\n",
       "      <td>0</td>\n",
       "      <td>0</td>\n",
       "    </tr>\n",
       "    <tr>\n",
       "      <th>2</th>\n",
       "      <td>25</td>\n",
       "      <td>3</td>\n",
       "      <td>0</td>\n",
       "      <td>0</td>\n",
       "      <td>0</td>\n",
       "      <td>3</td>\n",
       "      <td>0</td>\n",
       "      <td>0</td>\n",
       "    </tr>\n",
       "    <tr>\n",
       "      <th>3</th>\n",
       "      <td>45</td>\n",
       "      <td>2</td>\n",
       "      <td>0</td>\n",
       "      <td>0</td>\n",
       "      <td>0</td>\n",
       "      <td>4</td>\n",
       "      <td>0</td>\n",
       "      <td>0</td>\n",
       "    </tr>\n",
       "    <tr>\n",
       "      <th>4</th>\n",
       "      <td>77</td>\n",
       "      <td>7</td>\n",
       "      <td>0</td>\n",
       "      <td>0</td>\n",
       "      <td>0</td>\n",
       "      <td>3</td>\n",
       "      <td>0</td>\n",
       "      <td>0</td>\n",
       "    </tr>\n",
       "  </tbody>\n",
       "</table>\n",
       "</div>"
      ],
      "text/plain": [
       "   url_len  url_dep  httpDomain  tinyURL  hyphenURL  subURl  keyWordURL  label\n",
       "0       67        6           0        0          0       4           0      0\n",
       "1       71        4           0        0          0       2           0      0\n",
       "2       25        3           0        0          0       3           0      0\n",
       "3       45        2           0        0          0       4           0      0\n",
       "4       77        7           0        0          0       3           0      0"
      ]
     },
     "execution_count": 96,
     "metadata": {},
     "output_type": "execute_result"
    }
   ],
   "source": [
    "urldata = urldata.drop([\"dns\"], axis=1)\n",
    "urldata = urldata.drop([\"domainAge\"], axis=1)\n",
    "urldata = urldata.drop([\"domainEnd\"], axis=1)\n",
    "urldata = urldata.drop([\"iframe\"], axis=1)\n",
    "urldata = urldata.drop([\"forwarding\"], axis=1)\n",
    "urldata.head()"
   ]
  },
  {
   "cell_type": "markdown",
   "id": "4e72b0d1",
   "metadata": {
    "papermill": {
     "duration": 0.064385,
     "end_time": "2024-05-11T17:54:08.826394",
     "exception": false,
     "start_time": "2024-05-11T17:54:08.762009",
     "status": "completed"
    },
    "tags": []
   },
   "source": [
    "## 13.Training Models"
   ]
  },
  {
   "cell_type": "markdown",
   "id": "f77ab59e",
   "metadata": {
    "papermill": {
     "duration": 0.064627,
     "end_time": "2024-05-11T17:54:08.956811",
     "exception": false,
     "start_time": "2024-05-11T17:54:08.892184",
     "status": "completed"
    },
    "tags": []
   },
   "source": [
    "## 13.1 Splitting the Data"
   ]
  },
  {
   "cell_type": "code",
   "execution_count": 97,
   "id": "db532774",
   "metadata": {
    "execution": {
     "iopub.execute_input": "2024-05-11T17:54:09.095382Z",
     "iopub.status.busy": "2024-05-11T17:54:09.094580Z",
     "iopub.status.idle": "2024-05-11T17:54:09.104597Z",
     "shell.execute_reply": "2024-05-11T17:54:09.103252Z"
    },
    "papermill": {
     "duration": 0.07963,
     "end_time": "2024-05-11T17:54:09.107333",
     "exception": false,
     "start_time": "2024-05-11T17:54:09.027703",
     "status": "completed"
    },
    "tags": []
   },
   "outputs": [
    {
     "data": {
      "text/plain": [
       "((40949, 7), (40949,))"
      ]
     },
     "execution_count": 97,
     "metadata": {},
     "output_type": "execute_result"
    }
   ],
   "source": [
    "y = urldata['label']\n",
    "X = urldata.drop('label',axis=1)\n",
    "X.shape, y.shape"
   ]
  },
  {
   "cell_type": "code",
   "execution_count": 98,
   "id": "c5fb952e",
   "metadata": {
    "execution": {
     "iopub.execute_input": "2024-05-11T17:54:09.241157Z",
     "iopub.status.busy": "2024-05-11T17:54:09.240634Z",
     "iopub.status.idle": "2024-05-11T17:54:09.258905Z",
     "shell.execute_reply": "2024-05-11T17:54:09.257677Z"
    },
    "papermill": {
     "duration": 0.088512,
     "end_time": "2024-05-11T17:54:09.261792",
     "exception": false,
     "start_time": "2024-05-11T17:54:09.173280",
     "status": "completed"
    },
    "tags": []
   },
   "outputs": [
    {
     "data": {
      "text/plain": [
       "((28664, 7), (12285, 7))"
      ]
     },
     "execution_count": 98,
     "metadata": {},
     "output_type": "execute_result"
    }
   ],
   "source": [
    "# Splitting the dataset into train and test sets: 70-30 split\n",
    "from sklearn.model_selection import train_test_split\n",
    "from sklearn.metrics import accuracy_score\n",
    "\n",
    "X_train, X_test, y_train, y_test = train_test_split(X, y, \n",
    "                                                    test_size = 0.3, random_state = 42)\n",
    "X_train.shape, X_test.shape"
   ]
  },
  {
   "cell_type": "markdown",
   "id": "eedc624c",
   "metadata": {
    "papermill": {
     "duration": 0.065562,
     "end_time": "2024-05-11T17:54:09.393195",
     "exception": false,
     "start_time": "2024-05-11T17:54:09.327633",
     "status": "completed"
    },
    "tags": []
   },
   "source": [
    "## Random Forest"
   ]
  },
  {
   "cell_type": "code",
   "execution_count": 99,
   "id": "d5549d8d",
   "metadata": {
    "execution": {
     "iopub.execute_input": "2024-05-11T17:54:09.527265Z",
     "iopub.status.busy": "2024-05-11T17:54:09.526745Z",
     "iopub.status.idle": "2024-05-11T17:54:10.631276Z",
     "shell.execute_reply": "2024-05-11T17:54:10.629957Z"
    },
    "papermill": {
     "duration": 1.174668,
     "end_time": "2024-05-11T17:54:10.634075",
     "exception": false,
     "start_time": "2024-05-11T17:54:09.459407",
     "status": "completed"
    },
    "tags": []
   },
   "outputs": [
    {
     "data": {
      "text/html": [
       "<style>#sk-container-id-7 {color: black;background-color: white;}#sk-container-id-7 pre{padding: 0;}#sk-container-id-7 div.sk-toggleable {background-color: white;}#sk-container-id-7 label.sk-toggleable__label {cursor: pointer;display: block;width: 100%;margin-bottom: 0;padding: 0.3em;box-sizing: border-box;text-align: center;}#sk-container-id-7 label.sk-toggleable__label-arrow:before {content: \"▸\";float: left;margin-right: 0.25em;color: #696969;}#sk-container-id-7 label.sk-toggleable__label-arrow:hover:before {color: black;}#sk-container-id-7 div.sk-estimator:hover label.sk-toggleable__label-arrow:before {color: black;}#sk-container-id-7 div.sk-toggleable__content {max-height: 0;max-width: 0;overflow: hidden;text-align: left;background-color: #f0f8ff;}#sk-container-id-7 div.sk-toggleable__content pre {margin: 0.2em;color: black;border-radius: 0.25em;background-color: #f0f8ff;}#sk-container-id-7 input.sk-toggleable__control:checked~div.sk-toggleable__content {max-height: 200px;max-width: 100%;overflow: auto;}#sk-container-id-7 input.sk-toggleable__control:checked~label.sk-toggleable__label-arrow:before {content: \"▾\";}#sk-container-id-7 div.sk-estimator input.sk-toggleable__control:checked~label.sk-toggleable__label {background-color: #d4ebff;}#sk-container-id-7 div.sk-label input.sk-toggleable__control:checked~label.sk-toggleable__label {background-color: #d4ebff;}#sk-container-id-7 input.sk-hidden--visually {border: 0;clip: rect(1px 1px 1px 1px);clip: rect(1px, 1px, 1px, 1px);height: 1px;margin: -1px;overflow: hidden;padding: 0;position: absolute;width: 1px;}#sk-container-id-7 div.sk-estimator {font-family: monospace;background-color: #f0f8ff;border: 1px dotted black;border-radius: 0.25em;box-sizing: border-box;margin-bottom: 0.5em;}#sk-container-id-7 div.sk-estimator:hover {background-color: #d4ebff;}#sk-container-id-7 div.sk-parallel-item::after {content: \"\";width: 100%;border-bottom: 1px solid gray;flex-grow: 1;}#sk-container-id-7 div.sk-label:hover label.sk-toggleable__label {background-color: #d4ebff;}#sk-container-id-7 div.sk-serial::before {content: \"\";position: absolute;border-left: 1px solid gray;box-sizing: border-box;top: 0;bottom: 0;left: 50%;z-index: 0;}#sk-container-id-7 div.sk-serial {display: flex;flex-direction: column;align-items: center;background-color: white;padding-right: 0.2em;padding-left: 0.2em;position: relative;}#sk-container-id-7 div.sk-item {position: relative;z-index: 1;}#sk-container-id-7 div.sk-parallel {display: flex;align-items: stretch;justify-content: center;background-color: white;position: relative;}#sk-container-id-7 div.sk-item::before, #sk-container-id-7 div.sk-parallel-item::before {content: \"\";position: absolute;border-left: 1px solid gray;box-sizing: border-box;top: 0;bottom: 0;left: 50%;z-index: -1;}#sk-container-id-7 div.sk-parallel-item {display: flex;flex-direction: column;z-index: 1;position: relative;background-color: white;}#sk-container-id-7 div.sk-parallel-item:first-child::after {align-self: flex-end;width: 50%;}#sk-container-id-7 div.sk-parallel-item:last-child::after {align-self: flex-start;width: 50%;}#sk-container-id-7 div.sk-parallel-item:only-child::after {width: 0;}#sk-container-id-7 div.sk-dashed-wrapped {border: 1px dashed gray;margin: 0 0.4em 0.5em 0.4em;box-sizing: border-box;padding-bottom: 0.4em;background-color: white;}#sk-container-id-7 div.sk-label label {font-family: monospace;font-weight: bold;display: inline-block;line-height: 1.2em;}#sk-container-id-7 div.sk-label-container {text-align: center;}#sk-container-id-7 div.sk-container {/* jupyter's `normalize.less` sets `[hidden] { display: none; }` but bootstrap.min.css set `[hidden] { display: none !important; }` so we also need the `!important` here to be able to override the default hidden behavior on the sphinx rendered scikit-learn.org. See: https://github.com/scikit-learn/scikit-learn/issues/21755 */display: inline-block !important;position: relative;}#sk-container-id-7 div.sk-text-repr-fallback {display: none;}</style><div id=\"sk-container-id-7\" class=\"sk-top-container\"><div class=\"sk-text-repr-fallback\"><pre>RandomForestClassifier(max_depth=5)</pre><b>In a Jupyter environment, please rerun this cell to show the HTML representation or trust the notebook. <br />On GitHub, the HTML representation is unable to render, please try loading this page with nbviewer.org.</b></div><div class=\"sk-container\" hidden><div class=\"sk-item\"><div class=\"sk-estimator sk-toggleable\"><input class=\"sk-toggleable__control sk-hidden--visually\" id=\"sk-estimator-id-7\" type=\"checkbox\" checked><label for=\"sk-estimator-id-7\" class=\"sk-toggleable__label sk-toggleable__label-arrow\">RandomForestClassifier</label><div class=\"sk-toggleable__content\"><pre>RandomForestClassifier(max_depth=5)</pre></div></div></div></div></div>"
      ],
      "text/plain": [
       "RandomForestClassifier(max_depth=5)"
      ]
     },
     "execution_count": 99,
     "metadata": {},
     "output_type": "execute_result"
    }
   ],
   "source": [
    "# Random Forest model\n",
    "from sklearn.ensemble import RandomForestClassifier\n",
    "\n",
    "# instantiate the model\n",
    "forest = RandomForestClassifier(max_depth=5)\n",
    "\n",
    "# fit the model \n",
    "forest.fit(X_train, y_train)"
   ]
  },
  {
   "cell_type": "code",
   "execution_count": 100,
   "id": "8c5bee5f",
   "metadata": {
    "execution": {
     "iopub.execute_input": "2024-05-11T17:54:10.768797Z",
     "iopub.status.busy": "2024-05-11T17:54:10.768287Z",
     "iopub.status.idle": "2024-05-11T17:54:11.061524Z",
     "shell.execute_reply": "2024-05-11T17:54:11.059880Z"
    },
    "papermill": {
     "duration": 0.363787,
     "end_time": "2024-05-11T17:54:11.064603",
     "exception": false,
     "start_time": "2024-05-11T17:54:10.700816",
     "status": "completed"
    },
    "tags": []
   },
   "outputs": [],
   "source": [
    "#predicting the target value from the model for the samples\n",
    "y_test_forest = forest.predict(X_test)\n",
    "y_train_forest = forest.predict(X_train)"
   ]
  },
  {
   "cell_type": "code",
   "execution_count": 101,
   "id": "a9a430ab",
   "metadata": {
    "execution": {
     "iopub.execute_input": "2024-05-11T17:54:11.282546Z",
     "iopub.status.busy": "2024-05-11T17:54:11.281157Z",
     "iopub.status.idle": "2024-05-11T17:54:11.295748Z",
     "shell.execute_reply": "2024-05-11T17:54:11.293667Z"
    },
    "papermill": {
     "duration": 0.16799,
     "end_time": "2024-05-11T17:54:11.298673",
     "exception": false,
     "start_time": "2024-05-11T17:54:11.130683",
     "status": "completed"
    },
    "tags": []
   },
   "outputs": [
    {
     "name": "stdout",
     "output_type": "stream",
     "text": [
      "Random forest: Accuracy on training Data: 0.999\n",
      "Random forest: Accuracy on test Data: 0.999\n"
     ]
    }
   ],
   "source": [
    "\n",
    "#computing the accuracy of the model performance\n",
    "acc_train_forest = accuracy_score(y_train,y_train_forest)\n",
    "acc_test_forest = accuracy_score(y_test,y_test_forest)\n",
    "\n",
    "print(\"Random forest: Accuracy on training Data: {:.3f}\".format(acc_train_forest))\n",
    "print(\"Random forest: Accuracy on test Data: {:.3f}\".format(acc_test_forest))"
   ]
  },
  {
   "cell_type": "markdown",
   "id": "c7d68372",
   "metadata": {
    "papermill": {
     "duration": 0.065736,
     "end_time": "2024-05-11T17:54:11.430596",
     "exception": false,
     "start_time": "2024-05-11T17:54:11.364860",
     "status": "completed"
    },
    "tags": []
   },
   "source": [
    "## Logistic Regression"
   ]
  },
  {
   "cell_type": "code",
   "execution_count": 102,
   "id": "93f16b6c",
   "metadata": {
    "execution": {
     "iopub.execute_input": "2024-05-11T17:54:11.566622Z",
     "iopub.status.busy": "2024-05-11T17:54:11.565421Z",
     "iopub.status.idle": "2024-05-11T17:54:11.983512Z",
     "shell.execute_reply": "2024-05-11T17:54:11.981858Z"
    },
    "papermill": {
     "duration": 0.492573,
     "end_time": "2024-05-11T17:54:11.988737",
     "exception": false,
     "start_time": "2024-05-11T17:54:11.496164",
     "status": "completed"
    },
    "tags": []
   },
   "outputs": [
    {
     "data": {
      "text/html": [
       "<style>#sk-container-id-8 {color: black;background-color: white;}#sk-container-id-8 pre{padding: 0;}#sk-container-id-8 div.sk-toggleable {background-color: white;}#sk-container-id-8 label.sk-toggleable__label {cursor: pointer;display: block;width: 100%;margin-bottom: 0;padding: 0.3em;box-sizing: border-box;text-align: center;}#sk-container-id-8 label.sk-toggleable__label-arrow:before {content: \"▸\";float: left;margin-right: 0.25em;color: #696969;}#sk-container-id-8 label.sk-toggleable__label-arrow:hover:before {color: black;}#sk-container-id-8 div.sk-estimator:hover label.sk-toggleable__label-arrow:before {color: black;}#sk-container-id-8 div.sk-toggleable__content {max-height: 0;max-width: 0;overflow: hidden;text-align: left;background-color: #f0f8ff;}#sk-container-id-8 div.sk-toggleable__content pre {margin: 0.2em;color: black;border-radius: 0.25em;background-color: #f0f8ff;}#sk-container-id-8 input.sk-toggleable__control:checked~div.sk-toggleable__content {max-height: 200px;max-width: 100%;overflow: auto;}#sk-container-id-8 input.sk-toggleable__control:checked~label.sk-toggleable__label-arrow:before {content: \"▾\";}#sk-container-id-8 div.sk-estimator input.sk-toggleable__control:checked~label.sk-toggleable__label {background-color: #d4ebff;}#sk-container-id-8 div.sk-label input.sk-toggleable__control:checked~label.sk-toggleable__label {background-color: #d4ebff;}#sk-container-id-8 input.sk-hidden--visually {border: 0;clip: rect(1px 1px 1px 1px);clip: rect(1px, 1px, 1px, 1px);height: 1px;margin: -1px;overflow: hidden;padding: 0;position: absolute;width: 1px;}#sk-container-id-8 div.sk-estimator {font-family: monospace;background-color: #f0f8ff;border: 1px dotted black;border-radius: 0.25em;box-sizing: border-box;margin-bottom: 0.5em;}#sk-container-id-8 div.sk-estimator:hover {background-color: #d4ebff;}#sk-container-id-8 div.sk-parallel-item::after {content: \"\";width: 100%;border-bottom: 1px solid gray;flex-grow: 1;}#sk-container-id-8 div.sk-label:hover label.sk-toggleable__label {background-color: #d4ebff;}#sk-container-id-8 div.sk-serial::before {content: \"\";position: absolute;border-left: 1px solid gray;box-sizing: border-box;top: 0;bottom: 0;left: 50%;z-index: 0;}#sk-container-id-8 div.sk-serial {display: flex;flex-direction: column;align-items: center;background-color: white;padding-right: 0.2em;padding-left: 0.2em;position: relative;}#sk-container-id-8 div.sk-item {position: relative;z-index: 1;}#sk-container-id-8 div.sk-parallel {display: flex;align-items: stretch;justify-content: center;background-color: white;position: relative;}#sk-container-id-8 div.sk-item::before, #sk-container-id-8 div.sk-parallel-item::before {content: \"\";position: absolute;border-left: 1px solid gray;box-sizing: border-box;top: 0;bottom: 0;left: 50%;z-index: -1;}#sk-container-id-8 div.sk-parallel-item {display: flex;flex-direction: column;z-index: 1;position: relative;background-color: white;}#sk-container-id-8 div.sk-parallel-item:first-child::after {align-self: flex-end;width: 50%;}#sk-container-id-8 div.sk-parallel-item:last-child::after {align-self: flex-start;width: 50%;}#sk-container-id-8 div.sk-parallel-item:only-child::after {width: 0;}#sk-container-id-8 div.sk-dashed-wrapped {border: 1px dashed gray;margin: 0 0.4em 0.5em 0.4em;box-sizing: border-box;padding-bottom: 0.4em;background-color: white;}#sk-container-id-8 div.sk-label label {font-family: monospace;font-weight: bold;display: inline-block;line-height: 1.2em;}#sk-container-id-8 div.sk-label-container {text-align: center;}#sk-container-id-8 div.sk-container {/* jupyter's `normalize.less` sets `[hidden] { display: none; }` but bootstrap.min.css set `[hidden] { display: none !important; }` so we also need the `!important` here to be able to override the default hidden behavior on the sphinx rendered scikit-learn.org. See: https://github.com/scikit-learn/scikit-learn/issues/21755 */display: inline-block !important;position: relative;}#sk-container-id-8 div.sk-text-repr-fallback {display: none;}</style><div id=\"sk-container-id-8\" class=\"sk-top-container\"><div class=\"sk-text-repr-fallback\"><pre>LogisticRegression(max_iter=1000, random_state=42)</pre><b>In a Jupyter environment, please rerun this cell to show the HTML representation or trust the notebook. <br />On GitHub, the HTML representation is unable to render, please try loading this page with nbviewer.org.</b></div><div class=\"sk-container\" hidden><div class=\"sk-item\"><div class=\"sk-estimator sk-toggleable\"><input class=\"sk-toggleable__control sk-hidden--visually\" id=\"sk-estimator-id-8\" type=\"checkbox\" checked><label for=\"sk-estimator-id-8\" class=\"sk-toggleable__label sk-toggleable__label-arrow\">LogisticRegression</label><div class=\"sk-toggleable__content\"><pre>LogisticRegression(max_iter=1000, random_state=42)</pre></div></div></div></div></div>"
      ],
      "text/plain": [
       "LogisticRegression(max_iter=1000, random_state=42)"
      ]
     },
     "execution_count": 102,
     "metadata": {},
     "output_type": "execute_result"
    }
   ],
   "source": [
    "#Logistic regression machine learning\n",
    "\n",
    "from sklearn.linear_model import LogisticRegression\n",
    "\n",
    "#instantive the model\n",
    "logistic = LogisticRegression(random_state=42, max_iter=1000)\n",
    "#fit the model\n",
    "logistic.fit(X_train, y_train)"
   ]
  },
  {
   "cell_type": "code",
   "execution_count": 103,
   "id": "c95c10c2",
   "metadata": {
    "execution": {
     "iopub.execute_input": "2024-05-11T17:54:12.183236Z",
     "iopub.status.busy": "2024-05-11T17:54:12.182740Z",
     "iopub.status.idle": "2024-05-11T17:54:12.197268Z",
     "shell.execute_reply": "2024-05-11T17:54:12.195668Z"
    },
    "papermill": {
     "duration": 0.090277,
     "end_time": "2024-05-11T17:54:12.202713",
     "exception": false,
     "start_time": "2024-05-11T17:54:12.112436",
     "status": "completed"
    },
    "tags": []
   },
   "outputs": [],
   "source": [
    "#predicting the target value from the model for the samples\n",
    "y_test_ogisticl = logistic.predict(X_test)\n",
    "y_train_logistic = logistic.predict(X_train)"
   ]
  },
  {
   "cell_type": "code",
   "execution_count": 104,
   "id": "515ee9bb",
   "metadata": {
    "execution": {
     "iopub.execute_input": "2024-05-11T17:54:12.401368Z",
     "iopub.status.busy": "2024-05-11T17:54:12.400927Z",
     "iopub.status.idle": "2024-05-11T17:54:12.412848Z",
     "shell.execute_reply": "2024-05-11T17:54:12.411483Z"
    },
    "papermill": {
     "duration": 0.084071,
     "end_time": "2024-05-11T17:54:12.415343",
     "exception": false,
     "start_time": "2024-05-11T17:54:12.331272",
     "status": "completed"
    },
    "tags": []
   },
   "outputs": [
    {
     "name": "stdout",
     "output_type": "stream",
     "text": [
      "Logistic Regression: Accuracy on training Data: 0.998\n",
      "Logistic Regression: Accuracy on test Data: 0.998\n"
     ]
    }
   ],
   "source": [
    "\n",
    "#computing the accuracy of the model performance\n",
    "acc_train_logistic = accuracy_score(y_train,y_train_logistic)\n",
    "acc_test_logistic = accuracy_score(y_test,y_test_ogisticl)\n",
    "\n",
    "print(\"Logistic Regression: Accuracy on training Data: {:.3f}\".format(acc_train_logistic))\n",
    "print(\"Logistic Regression: Accuracy on test Data: {:.3f}\".format(acc_test_logistic))"
   ]
  }
 ],
 "metadata": {
  "kaggle": {
   "accelerator": "none",
   "dataSources": [
    {
     "datasetId": 4493131,
     "sourceId": 7697882,
     "sourceType": "datasetVersion"
    },
    {
     "datasetId": 4494569,
     "sourceId": 7699914,
     "sourceType": "datasetVersion"
    },
    {
     "datasetId": 4987552,
     "sourceId": 8385852,
     "sourceType": "datasetVersion"
    }
   ],
   "dockerImageVersionId": 30513,
   "isGpuEnabled": false,
   "isInternetEnabled": true,
   "language": "python",
   "sourceType": "notebook"
  },
  "kernelspec": {
   "display_name": "Python 3",
   "language": "python",
   "name": "python3"
  },
  "language_info": {
   "codemirror_mode": {
    "name": "ipython",
    "version": 3
   },
   "file_extension": ".py",
   "mimetype": "text/x-python",
   "name": "python",
   "nbconvert_exporter": "python",
   "pygments_lexer": "ipython3",
   "version": "3.10.10"
  },
  "papermill": {
   "default_parameters": {},
   "duration": 115.813435,
   "end_time": "2024-05-11T17:54:15.019957",
   "environment_variables": {},
   "exception": null,
   "input_path": "__notebook__.ipynb",
   "output_path": "__notebook__.ipynb",
   "parameters": {},
   "start_time": "2024-05-11T17:52:19.206522",
   "version": "2.4.0"
  }
 },
 "nbformat": 4,
 "nbformat_minor": 5
}
